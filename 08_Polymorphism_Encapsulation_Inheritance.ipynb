{
 "cells": [
  {
   "cell_type": "markdown",
   "id": "1e6e35c8-dadb-4b7c-b195-5efc37aeca37",
   "metadata": {},
   "source": [
    "#### <u>POLYMORPHISM<u>\n",
    "    \n",
    "##### Polymorphism concept in Object-Oriented Programming (OOP) allows objects of different classes to be treated as if they were objects of the same class. Polymorphism allows for more flexible and dynamic code by enabling objects to take on multiple forms or behaviors at runtime. It also allows for code reuse, as objects of different classes can be treated as if they were the same type."
   ]
  },
  {
   "cell_type": "code",
   "execution_count": 1,
   "id": "0e58db28-1c68-414b-9846-a9a57a2973ed",
   "metadata": {},
   "outputs": [],
   "source": [
    "def test(a,b) :\n",
    "    return a+b"
   ]
  },
  {
   "cell_type": "code",
   "execution_count": 2,
   "id": "96e8ad2c-5821-47d1-bd9d-a2dadeceb725",
   "metadata": {},
   "outputs": [
    {
     "data": {
      "text/plain": [
       "7"
      ]
     },
     "execution_count": 2,
     "metadata": {},
     "output_type": "execute_result"
    }
   ],
   "source": [
    "test(3,4)"
   ]
  },
  {
   "cell_type": "code",
   "execution_count": 3,
   "id": "3ecd942d-ce38-48ab-a0d3-0447ab8252b5",
   "metadata": {},
   "outputs": [
    {
     "data": {
      "text/plain": [
       "'anju soman'"
      ]
     },
     "execution_count": 3,
     "metadata": {},
     "output_type": "execute_result"
    }
   ],
   "source": [
    "test(\"anju \",\"soman\")"
   ]
  },
  {
   "cell_type": "code",
   "execution_count": 4,
   "id": "001ef6a5-3908-4c02-bb31-9c0f836a5735",
   "metadata": {},
   "outputs": [
    {
     "data": {
      "text/plain": [
       "[1, 2, 3, 4, 5, 23, 456, 567, 678]"
      ]
     },
     "execution_count": 4,
     "metadata": {},
     "output_type": "execute_result"
    }
   ],
   "source": [
    "test([1,2,3,4,5],[23,456,567,678])"
   ]
  },
  {
   "cell_type": "code",
   "execution_count": 5,
   "id": "08d7d447-2b69-4fb5-9491-cf62b0447c8c",
   "metadata": {},
   "outputs": [],
   "source": [
    "class data_science:\n",
    "    def syllabus(self) :\n",
    "        print(\"This is my syllabus for Data Science Masters\")"
   ]
  },
  {
   "cell_type": "code",
   "execution_count": 6,
   "id": "00a07a9f-185b-41fd-85e2-9c53d2bfe670",
   "metadata": {},
   "outputs": [],
   "source": [
    "class web_dev :\n",
    "    def syllabus(self) :\n",
    "        print(\"This is my syllabus for web development\")"
   ]
  },
  {
   "cell_type": "code",
   "execution_count": 7,
   "id": "ea20feb5-ddde-4ac5-a3ea-628c0e5d4ecc",
   "metadata": {},
   "outputs": [],
   "source": [
    "def class_parcer(class_obj):\n",
    "    for i in class_obj :\n",
    "        i.syllabus()"
   ]
  },
  {
   "cell_type": "code",
   "execution_count": 8,
   "id": "3e880ddf-24dd-479b-984b-ffa2e6617a99",
   "metadata": {},
   "outputs": [],
   "source": [
    "data_science = data_science()"
   ]
  },
  {
   "cell_type": "code",
   "execution_count": 9,
   "id": "4dd5d508-459b-412e-9627-795295f67dcb",
   "metadata": {},
   "outputs": [],
   "source": [
    "web_dev = web_dev()"
   ]
  },
  {
   "cell_type": "code",
   "execution_count": 10,
   "id": "d476bd5c-b143-4d1a-8604-a742abde431f",
   "metadata": {},
   "outputs": [],
   "source": [
    "class_obj = [data_science,web_dev]"
   ]
  },
  {
   "cell_type": "code",
   "execution_count": 11,
   "id": "693b6181-abd4-4820-910b-45b5ff029d9f",
   "metadata": {},
   "outputs": [
    {
     "name": "stdout",
     "output_type": "stream",
     "text": [
      "This is my syllabus for Data Science Masters\n",
      "This is my syllabus for web development\n"
     ]
    }
   ],
   "source": [
    "class_parcer(class_obj)"
   ]
  },
  {
   "cell_type": "markdown",
   "id": "90eecf8a-46b8-4202-b74c-7b29971a6f2c",
   "metadata": {},
   "source": [
    "#### <u>ENCAPSULATION<u>\n",
    "    \n",
    "##### Encapsulation concept in Object-Oriented Programming (OOP) involves the bundling of data and methods that manipulate that data within a single unit, which is called a class. Encapsulation is used to protect the internal state of an object from being directly accessed by external code. By encapsulating the data and methods within a class, the object's internal state is hidden from external code, which helps prevent accidental modification or misuse of the object's data. Encapsulation ensures that the internal state of an object can only be accessed through these methods, which are also known as getters and setters."
   ]
  },
  {
   "cell_type": "code",
   "execution_count": 12,
   "id": "0d450bad-375a-475b-ac2c-db7a42bdc5c4",
   "metadata": {},
   "outputs": [],
   "source": [
    "class test :\n",
    "    \n",
    "    def __init__(self , a,b):\n",
    "        self.a = a\n",
    "        self.b = b"
   ]
  },
  {
   "cell_type": "code",
   "execution_count": 13,
   "id": "47bde29d-63e0-44b2-acd7-3940bf78d672",
   "metadata": {},
   "outputs": [],
   "source": [
    "t = test(23,34)"
   ]
  },
  {
   "cell_type": "code",
   "execution_count": 14,
   "id": "f34283a1-8191-4c0e-a916-1d98d311eb05",
   "metadata": {},
   "outputs": [],
   "source": [
    "t.a = 23456"
   ]
  },
  {
   "cell_type": "code",
   "execution_count": 15,
   "id": "d1aa6870-2c14-4535-9374-5724a87b63b8",
   "metadata": {},
   "outputs": [
    {
     "data": {
      "text/plain": [
       "23456"
      ]
     },
     "execution_count": 15,
     "metadata": {},
     "output_type": "execute_result"
    }
   ],
   "source": [
    "t.a"
   ]
  },
  {
   "cell_type": "code",
   "execution_count": 16,
   "id": "3a044130-9e76-499f-ac44-afc288ff634a",
   "metadata": {},
   "outputs": [],
   "source": [
    "class car :\n",
    "    def __init__(self, year, make, model, speed):\n",
    "        self.__year = year\n",
    "        self.__make = make\n",
    "        self.__model = model\n",
    "        self.__speed = 0"
   ]
  },
  {
   "cell_type": "code",
   "execution_count": 17,
   "id": "deac2dc8-743a-499d-af43-b71440e19e7f",
   "metadata": {},
   "outputs": [],
   "source": [
    "c = car(2021,\"Toyota\",\"Innova\",12)"
   ]
  },
  {
   "cell_type": "code",
   "execution_count": 18,
   "id": "2bde5fc3-7572-414e-a3bc-285a53b3f1fc",
   "metadata": {},
   "outputs": [
    {
     "data": {
      "text/plain": [
       "2021"
      ]
     },
     "execution_count": 18,
     "metadata": {},
     "output_type": "execute_result"
    }
   ],
   "source": [
    "c._car__year"
   ]
  },
  {
   "cell_type": "markdown",
   "id": "880a9773-1160-4c72-a6ad-7da3f4bafd10",
   "metadata": {},
   "source": [
    "##### GETTERS: A getter method returns the current value of a private instance variable.\n",
    "\n",
    "##### SETTERS: A setter method sets a new value for the private instance variable."
   ]
  },
  {
   "cell_type": "code",
   "execution_count": 19,
   "id": "d20bc38b-443e-4a71-a2f6-858eafb10e0e",
   "metadata": {},
   "outputs": [],
   "source": [
    "class car :\n",
    "    def __init__(self, year, make, model, speed):\n",
    "        self.__year = year\n",
    "        self.__make = make\n",
    "        self.__model = model\n",
    "        self.__speed = 0\n",
    "    def set_speed(self,speed):\n",
    "        self.__speed = 0 if speed < 0 else speed\n",
    "    \n",
    "    def get_speed(self):\n",
    "        return self.__speed"
   ]
  },
  {
   "cell_type": "code",
   "execution_count": 20,
   "id": "2c39f36a-361e-4535-90c4-b7142c11a5d0",
   "metadata": {},
   "outputs": [],
   "source": [
    "d = car(2021,\"Toyota\",\"Innova\",12)"
   ]
  },
  {
   "cell_type": "code",
   "execution_count": 22,
   "id": "d5844dd1-f70f-4ee3-9344-4b6aaa4a63e1",
   "metadata": {},
   "outputs": [],
   "source": [
    "d.set_speed(-3245)"
   ]
  },
  {
   "cell_type": "code",
   "execution_count": 23,
   "id": "945e8d55-1c30-486f-a473-76604d277acb",
   "metadata": {},
   "outputs": [
    {
     "data": {
      "text/plain": [
       "0"
      ]
     },
     "execution_count": 23,
     "metadata": {},
     "output_type": "execute_result"
    }
   ],
   "source": [
    "d.get_speed()"
   ]
  },
  {
   "cell_type": "code",
   "execution_count": 24,
   "id": "ba626421-b6dc-4a18-af6d-83cf97d794a4",
   "metadata": {},
   "outputs": [],
   "source": [
    "d.set_speed(234)"
   ]
  },
  {
   "cell_type": "code",
   "execution_count": 25,
   "id": "10a48f7e-513b-4c22-a228-aa50f95f1447",
   "metadata": {},
   "outputs": [
    {
     "data": {
      "text/plain": [
       "234"
      ]
     },
     "execution_count": 25,
     "metadata": {},
     "output_type": "execute_result"
    }
   ],
   "source": [
    "d.get_speed()"
   ]
  },
  {
   "cell_type": "code",
   "execution_count": 26,
   "id": "ed5c5e76-ddca-47c4-be8a-bc3ac343def9",
   "metadata": {},
   "outputs": [],
   "source": [
    "class bank_account :\n",
    "    def __init__(self, balance) :\n",
    "        self.__balance = balance\n",
    "        \n",
    "    def deposit(self, amount) :\n",
    "        self.__balance = self.__balance + amount\n",
    "        \n",
    "    def withdraw(self, amount) :\n",
    "        if self.__balance >= amount :\n",
    "            self.__balance = self.__balance - amount\n",
    "            return True\n",
    "        else :\n",
    "            return False\n",
    "        \n",
    "    def get_balance(self):\n",
    "        return self.__balance"
   ]
  },
  {
   "cell_type": "code",
   "execution_count": 27,
   "id": "4528d8d8-3fe6-4ff6-8a75-a347fef1fa51",
   "metadata": {},
   "outputs": [],
   "source": [
    "anju = bank_account(1000)"
   ]
  },
  {
   "cell_type": "code",
   "execution_count": 29,
   "id": "cbca5a26-677a-4b2e-a4c1-5e7ce9360c07",
   "metadata": {},
   "outputs": [
    {
     "data": {
      "text/plain": [
       "1000"
      ]
     },
     "execution_count": 29,
     "metadata": {},
     "output_type": "execute_result"
    }
   ],
   "source": [
    "anju.get_balance()"
   ]
  },
  {
   "cell_type": "code",
   "execution_count": 30,
   "id": "72eaed99-0449-40e2-8c9a-1188b5e8255e",
   "metadata": {},
   "outputs": [],
   "source": [
    "anju.deposit(5000)"
   ]
  },
  {
   "cell_type": "code",
   "execution_count": 31,
   "id": "c9f67b64-2498-45f4-93c3-c1bf08bc38c6",
   "metadata": {},
   "outputs": [
    {
     "data": {
      "text/plain": [
       "6000"
      ]
     },
     "execution_count": 31,
     "metadata": {},
     "output_type": "execute_result"
    }
   ],
   "source": [
    "anju.get_balance()"
   ]
  },
  {
   "cell_type": "code",
   "execution_count": 32,
   "id": "bfa66014-6253-41a3-b922-33c4311fb3a0",
   "metadata": {},
   "outputs": [],
   "source": [
    "anju.deposit(1000)"
   ]
  },
  {
   "cell_type": "code",
   "execution_count": 33,
   "id": "a5ca67c8-bd7d-4bb1-a2ed-c0887aa968da",
   "metadata": {},
   "outputs": [
    {
     "data": {
      "text/plain": [
       "7000"
      ]
     },
     "execution_count": 33,
     "metadata": {},
     "output_type": "execute_result"
    }
   ],
   "source": [
    "anju.get_balance()"
   ]
  },
  {
   "cell_type": "code",
   "execution_count": 34,
   "id": "3c782a80-1bdd-4473-853f-064661f7817d",
   "metadata": {},
   "outputs": [
    {
     "data": {
      "text/plain": [
       "False"
      ]
     },
     "execution_count": 34,
     "metadata": {},
     "output_type": "execute_result"
    }
   ],
   "source": [
    "anju.withdraw(9000)"
   ]
  },
  {
   "cell_type": "code",
   "execution_count": 35,
   "id": "47ac456b-1284-41bc-b234-65e9b4e81c03",
   "metadata": {},
   "outputs": [
    {
     "data": {
      "text/plain": [
       "True"
      ]
     },
     "execution_count": 35,
     "metadata": {},
     "output_type": "execute_result"
    }
   ],
   "source": [
    "anju.withdraw(2000)"
   ]
  },
  {
   "cell_type": "code",
   "execution_count": 36,
   "id": "9b81dee8-7495-4382-98ac-d95ff135f342",
   "metadata": {},
   "outputs": [
    {
     "data": {
      "text/plain": [
       "5000"
      ]
     },
     "execution_count": 36,
     "metadata": {},
     "output_type": "execute_result"
    }
   ],
   "source": [
    "anju.get_balance()"
   ]
  },
  {
   "cell_type": "markdown",
   "id": "c21e0d27-e5cb-4841-ac2a-9da707a8390b",
   "metadata": {},
   "source": [
    "#### <u>INHERITANCE<u>\n",
    "    \n",
    "##### Inheritance concept in Object-Oriented Programming (OOP) allows a class to inherit properties and behavior from another class, known as its parent class. Inheritance provides a way to create new classes that are built upon existing classes, and can help reduce the amount of duplicate code in a program. Child class can inherit the properties and methods of its parent class, and can also add its own unique properties and methods. This allows for code reuse and helps to create a hierarchy of related classes."
   ]
  },
  {
   "cell_type": "code",
   "execution_count": 37,
   "id": "476259b5-3bf5-40ce-8f5a-057b664b2c08",
   "metadata": {},
   "outputs": [],
   "source": [
    "class test:\n",
    "    \n",
    "    def test_meth(self) :\n",
    "        return \"This is my first class\""
   ]
  },
  {
   "cell_type": "code",
   "execution_count": 38,
   "id": "14d14004-b611-4796-80c1-3ba35cffd958",
   "metadata": {},
   "outputs": [],
   "source": [
    "class child_test(test) :\n",
    "    pass"
   ]
  },
  {
   "cell_type": "code",
   "execution_count": 39,
   "id": "27082dca-5aae-4779-ad5b-43776536f77f",
   "metadata": {},
   "outputs": [],
   "source": [
    "child_test_obj = child_test()"
   ]
  },
  {
   "cell_type": "code",
   "execution_count": 40,
   "id": "0f5260b0-cb13-4327-a349-5a631aba46eb",
   "metadata": {},
   "outputs": [
    {
     "data": {
      "text/plain": [
       "'This is my first class'"
      ]
     },
     "execution_count": 40,
     "metadata": {},
     "output_type": "execute_result"
    }
   ],
   "source": [
    "child_test_obj.test_meth()"
   ]
  },
  {
   "cell_type": "markdown",
   "id": "9166f88e-039b-49cd-bc93-eb0f322ce43a",
   "metadata": {},
   "source": [
    "#### <u>MULTI-LEVEL INHERITANCE<u>\n",
    "    \n",
    "##### Multi-level inheritance is a type of inheritance in object-oriented programming (OOP) where a subclass inherits from a parent class, which in turn inherits from another parent class, and so on. This creates a hierarchy of related classes, with each subclass inheriting properties and behavior from its parent class and its parent's parent class, and so on.\n",
    "\n",
    "##### In simple terms, multi-level inheritance is like a family tree, where each new generation inherits characteristics and traits from their parents and grandparents, and adds their own unique characteristics to the mix."
   ]
  },
  {
   "cell_type": "code",
   "execution_count": 41,
   "id": "70f85bd9-1b5e-4ece-8dae-8036928841e6",
   "metadata": {},
   "outputs": [],
   "source": [
    "class class1:\n",
    "    \n",
    "    def test_class1(self):\n",
    "        return \"This is a method from class1\""
   ]
  },
  {
   "cell_type": "code",
   "execution_count": 42,
   "id": "4bc9e05b-e2a1-4b8b-b26c-94752cdca5d0",
   "metadata": {},
   "outputs": [],
   "source": [
    "class class2(class1):\n",
    "    def test_class2(self) :\n",
    "        return \"This is a method from class2\""
   ]
  },
  {
   "cell_type": "code",
   "execution_count": 43,
   "id": "fcb1f9ef-1d9d-419e-9012-a4d6a2a522ef",
   "metadata": {},
   "outputs": [],
   "source": [
    "class class3(class2):\n",
    "    pass"
   ]
  },
  {
   "cell_type": "code",
   "execution_count": 44,
   "id": "7f76c432-f15b-496d-a1d9-914c963a4a2c",
   "metadata": {},
   "outputs": [],
   "source": [
    "obj_class3 = class3()"
   ]
  },
  {
   "cell_type": "code",
   "execution_count": 45,
   "id": "f64f7780-9c85-41dd-ae43-d6fccdafcc9a",
   "metadata": {},
   "outputs": [
    {
     "data": {
      "text/plain": [
       "'This is a method from class1'"
      ]
     },
     "execution_count": 45,
     "metadata": {},
     "output_type": "execute_result"
    }
   ],
   "source": [
    "obj_class3.test_class1()"
   ]
  },
  {
   "cell_type": "code",
   "execution_count": 46,
   "id": "e1fdfe5a-66c3-4524-9b8b-4a7711ea715b",
   "metadata": {},
   "outputs": [
    {
     "data": {
      "text/plain": [
       "'This is a method from class2'"
      ]
     },
     "execution_count": 46,
     "metadata": {},
     "output_type": "execute_result"
    }
   ],
   "source": [
    "obj_class3.test_class2()"
   ]
  },
  {
   "cell_type": "markdown",
   "id": "030cbd11-135b-4769-9990-ae6e63da9473",
   "metadata": {},
   "source": [
    "#### <u>MULTIPLE INHERITANCE<u>\n",
    "    \n",
    "##### Multiple inheritance allows a subclass to inherit properties and behavior from more than one parent class. This means that a subclass can combine the features of multiple classes to create a new, more specialized class.\n",
    "\n",
    "##### In simple terms, multiple inheritance is like having parents from different backgrounds, where the child inherits traits and characteristics from both parents."
   ]
  },
  {
   "cell_type": "code",
   "execution_count": 47,
   "id": "fba644e8-7d10-4370-a996-010462c5bbaf",
   "metadata": {},
   "outputs": [],
   "source": [
    "class class1:\n",
    "    \n",
    "    def test_class1(self):\n",
    "        return \"This is Class 1\""
   ]
  },
  {
   "cell_type": "code",
   "execution_count": 48,
   "id": "5a5f106d-bcf8-4109-8464-ca7126e2eccc",
   "metadata": {},
   "outputs": [],
   "source": [
    "class class2:\n",
    "    \n",
    "    def test_class2(self):\n",
    "        return \"This is Class 2\""
   ]
  },
  {
   "cell_type": "code",
   "execution_count": 49,
   "id": "b185b3df-3703-43df-9ace-4699012bc653",
   "metadata": {},
   "outputs": [],
   "source": [
    "class class3(class1 , class2):\n",
    "    pass"
   ]
  },
  {
   "cell_type": "code",
   "execution_count": 50,
   "id": "b24ba6f2-319f-48c4-8759-3326928a76b9",
   "metadata": {},
   "outputs": [],
   "source": [
    "obj_class3 = class3()"
   ]
  },
  {
   "cell_type": "code",
   "execution_count": 51,
   "id": "c42e49f9-65ec-4b07-92d4-beae2e364661",
   "metadata": {},
   "outputs": [
    {
     "data": {
      "text/plain": [
       "'This is Class 1'"
      ]
     },
     "execution_count": 51,
     "metadata": {},
     "output_type": "execute_result"
    }
   ],
   "source": [
    "obj_class3.test_class1()"
   ]
  },
  {
   "cell_type": "code",
   "execution_count": 52,
   "id": "1903bab2-d21e-42c7-996b-1b74ce98a2f6",
   "metadata": {},
   "outputs": [
    {
     "data": {
      "text/plain": [
       "'This is Class 2'"
      ]
     },
     "execution_count": 52,
     "metadata": {},
     "output_type": "execute_result"
    }
   ],
   "source": [
    "obj_class3.test_class2()"
   ]
  }
 ],
 "metadata": {
  "kernelspec": {
   "display_name": "Python 3 (ipykernel)",
   "language": "python",
   "name": "python3"
  },
  "language_info": {
   "codemirror_mode": {
    "name": "ipython",
    "version": 3
   },
   "file_extension": ".py",
   "mimetype": "text/x-python",
   "name": "python",
   "nbconvert_exporter": "python",
   "pygments_lexer": "ipython3",
   "version": "3.10.8"
  }
 },
 "nbformat": 4,
 "nbformat_minor": 5
}
