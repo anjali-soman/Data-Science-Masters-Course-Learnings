{
 "cells": [
  {
   "cell_type": "markdown",
   "id": "9986770d-7221-4127-9af3-0f3fa4efcfc1",
   "metadata": {},
   "source": [
    "#### <u>WORKING WITH FILES<u>"
   ]
  },
  {
   "cell_type": "markdown",
   "id": "84d2f8ee-35a1-42a5-8d2f-ece423fd3ab1",
   "metadata": {},
   "source": [
    "#### <u>open()<u>\n",
    "##### The 'open()' function is used to open a file and returns a file object."
   ]
  },
  {
   "cell_type": "markdown",
   "id": "113a04cf-2d99-4e48-8bc1-5f7b60a4b57f",
   "metadata": {},
   "source": [
    "##### \"w\": write mode, for writing data to a file (and overwriting the existing file)"
   ]
  },
  {
   "cell_type": "code",
   "execution_count": 1,
   "id": "5709a6f3-342c-4d0b-ae7b-4b49d35c2922",
   "metadata": {},
   "outputs": [],
   "source": [
    "f = open(\"test.txt\" , \"w\")"
   ]
  },
  {
   "cell_type": "code",
   "execution_count": 2,
   "id": "d050e5eb-a017-4578-a2d4-2101edb05567",
   "metadata": {},
   "outputs": [
    {
     "data": {
      "text/plain": [
       "'/home/jovyan/work/Python/Hindi'"
      ]
     },
     "execution_count": 2,
     "metadata": {},
     "output_type": "execute_result"
    }
   ],
   "source": [
    "pwd ## Present Working Directory"
   ]
  },
  {
   "cell_type": "markdown",
   "id": "8ba1ffec-5cbe-441a-a009-741f6961825e",
   "metadata": {},
   "source": [
    "#### <u>write()<u>\n",
    "##### The 'write()' method is used to write data to a file."
   ]
  },
  {
   "cell_type": "code",
   "execution_count": 3,
   "id": "56ec042a-8605-4338-82a5-e289782e70b4",
   "metadata": {},
   "outputs": [
    {
     "data": {
      "text/plain": [
       "30"
      ]
     },
     "execution_count": 3,
     "metadata": {},
     "output_type": "execute_result"
    }
   ],
   "source": [
    "f.write(\"This is my first file to write\")"
   ]
  },
  {
   "cell_type": "markdown",
   "id": "0f321dc0-d3da-4f9f-b219-35e83bf9cbe2",
   "metadata": {},
   "source": [
    "#### <u>close()<u>\n",
    "##### The 'close()' method is used to close an opened file."
   ]
  },
  {
   "cell_type": "code",
   "execution_count": 4,
   "id": "2958ce35-a0b0-4297-ba2c-3e282433ddaf",
   "metadata": {},
   "outputs": [],
   "source": [
    "f.close()"
   ]
  },
  {
   "cell_type": "code",
   "execution_count": 5,
   "id": "a5b8f4d2-ff30-4570-90a4-d1976afc8569",
   "metadata": {},
   "outputs": [],
   "source": [
    "f = open(\"test.txt\" , \"w\")"
   ]
  },
  {
   "cell_type": "code",
   "execution_count": 6,
   "id": "2a50e0c9-a130-4f8d-a2ab-5075f7f446fb",
   "metadata": {},
   "outputs": [
    {
     "data": {
      "text/plain": [
       "15"
      ]
     },
     "execution_count": 6,
     "metadata": {},
     "output_type": "execute_result"
    }
   ],
   "source": [
    "f.write(\"This is my file\")"
   ]
  },
  {
   "cell_type": "code",
   "execution_count": 7,
   "id": "37506cf0-0ad8-4e8f-b645-a84d753d1640",
   "metadata": {},
   "outputs": [],
   "source": [
    "f.close()"
   ]
  },
  {
   "cell_type": "markdown",
   "id": "1d045dcf-4f7b-43cf-9f8c-83c95631fd36",
   "metadata": {},
   "source": [
    "##### \"a\": append mode, for appending data to the end of a file (without overwriting the existing file)"
   ]
  },
  {
   "cell_type": "code",
   "execution_count": 8,
   "id": "14c9e864-e11d-4a62-b5ca-cfa6fcecc7e2",
   "metadata": {},
   "outputs": [],
   "source": [
    "f = open(\"test.txt\" , \"a\")"
   ]
  },
  {
   "cell_type": "code",
   "execution_count": 9,
   "id": "1c6acd9a-bb8c-4cbb-a337-b4565eb7590e",
   "metadata": {},
   "outputs": [
    {
     "data": {
      "text/plain": [
       "765"
      ]
     },
     "execution_count": 9,
     "metadata": {},
     "output_type": "execute_result"
    }
   ],
   "source": [
    "f.write(\"Data Science Masters course is highly curated and uniquely designed according to the latest industry standards. This program instills students the skills essential to knowledge discovery efforts to identify standard, novel, and truly differentiated solutions and decision-making, including skills in managing, querying, analyzing, visualizing, and extracting meaning from extremely large data sets. This trending program provides students with the statistical, mathematical and computational skills needed to meet the large-scale data science challenges of today's professional world. You will learn all the stack required to work in data science industry including cloud infrastructure and real-time industry projects. This course will be taught in Hindi language.\")"
   ]
  },
  {
   "cell_type": "code",
   "execution_count": 10,
   "id": "3b6eef65-39eb-4a6e-81c6-ebc9d578a855",
   "metadata": {},
   "outputs": [],
   "source": [
    "f.close()"
   ]
  },
  {
   "cell_type": "markdown",
   "id": "e7356cb2-cb35-43c7-aac5-11072a155a07",
   "metadata": {},
   "source": [
    "##### \"r\": read mode, for reading data from a file"
   ]
  },
  {
   "cell_type": "code",
   "execution_count": 11,
   "id": "27608a55-e1b4-4a67-89e5-bd94ff35889f",
   "metadata": {},
   "outputs": [],
   "source": [
    "f = open(\"test.txt\" , \"r\")"
   ]
  },
  {
   "cell_type": "markdown",
   "id": "09370d3e-e765-4d3b-ab96-d5d249061291",
   "metadata": {},
   "source": [
    "#### <u>read()<u>\n",
    "##### The 'read()' method is used to read data from a file."
   ]
  },
  {
   "cell_type": "code",
   "execution_count": 12,
   "id": "3e8af2e6-46d9-42c7-8c70-9f66dbfbf471",
   "metadata": {},
   "outputs": [
    {
     "data": {
      "text/plain": [
       "\"This is my fileData Science Masters course is highly curated and uniquely designed according to the latest industry standards. This program instills students the skills essential to knowledge discovery efforts to identify standard, novel, and truly differentiated solutions and decision-making, including skills in managing, querying, analyzing, visualizing, and extracting meaning from extremely large data sets. This trending program provides students with the statistical, mathematical and computational skills needed to meet the large-scale data science challenges of today's professional world. You will learn all the stack required to work in data science industry including cloud infrastructure and real-time industry projects. This course will be taught in Hindi language.\""
      ]
     },
     "execution_count": 12,
     "metadata": {},
     "output_type": "execute_result"
    }
   ],
   "source": [
    "f.read()"
   ]
  },
  {
   "cell_type": "markdown",
   "id": "0ae3f24c-7bfe-4e0c-9c99-5d9e4093e31e",
   "metadata": {},
   "source": [
    "#### <u>readline()<u>\n",
    "##### The 'readline()' method is used to read a single line from a file."
   ]
  },
  {
   "cell_type": "code",
   "execution_count": 13,
   "id": "8a6fc851-e6a1-4efb-910b-0a8227be5543",
   "metadata": {},
   "outputs": [
    {
     "data": {
      "text/plain": [
       "''"
      ]
     },
     "execution_count": 13,
     "metadata": {},
     "output_type": "execute_result"
    }
   ],
   "source": [
    "f.readline()"
   ]
  },
  {
   "cell_type": "markdown",
   "id": "c50b5391-d71f-43cf-b98f-dea5fca9eff1",
   "metadata": {},
   "source": [
    "#### <u>seek()<u>\n",
    "##### The 'seek()' method is used to change the current position in a file."
   ]
  },
  {
   "cell_type": "code",
   "execution_count": 14,
   "id": "1ce11dae-d9c1-41e4-a0f1-0c41ca887cc6",
   "metadata": {},
   "outputs": [
    {
     "data": {
      "text/plain": [
       "0"
      ]
     },
     "execution_count": 14,
     "metadata": {},
     "output_type": "execute_result"
    }
   ],
   "source": [
    "f.seek(0)"
   ]
  },
  {
   "cell_type": "code",
   "execution_count": 15,
   "id": "31cc7cb3-e1d9-4de8-a9d8-ea41e31cb61b",
   "metadata": {},
   "outputs": [
    {
     "data": {
      "text/plain": [
       "\"This is my fileData Science Masters course is highly curated and uniquely designed according to the latest industry standards. This program instills students the skills essential to knowledge discovery efforts to identify standard, novel, and truly differentiated solutions and decision-making, including skills in managing, querying, analyzing, visualizing, and extracting meaning from extremely large data sets. This trending program provides students with the statistical, mathematical and computational skills needed to meet the large-scale data science challenges of today's professional world. You will learn all the stack required to work in data science industry including cloud infrastructure and real-time industry projects. This course will be taught in Hindi language.\""
      ]
     },
     "execution_count": 15,
     "metadata": {},
     "output_type": "execute_result"
    }
   ],
   "source": [
    "f.readline()"
   ]
  },
  {
   "cell_type": "code",
   "execution_count": 16,
   "id": "08adc420-75a1-4b5d-ad61-990d272969fc",
   "metadata": {},
   "outputs": [
    {
     "data": {
      "text/plain": [
       "''"
      ]
     },
     "execution_count": 16,
     "metadata": {},
     "output_type": "execute_result"
    }
   ],
   "source": [
    "f.readline()"
   ]
  },
  {
   "cell_type": "code",
   "execution_count": 17,
   "id": "f7c3002b-ebdb-427b-9400-467707eb768d",
   "metadata": {},
   "outputs": [
    {
     "data": {
      "text/plain": [
       "15"
      ]
     },
     "execution_count": 17,
     "metadata": {},
     "output_type": "execute_result"
    }
   ],
   "source": [
    "f.seek(15)"
   ]
  },
  {
   "cell_type": "code",
   "execution_count": 18,
   "id": "27996bc1-b984-4cbf-ab7f-ff9abf02d9ad",
   "metadata": {},
   "outputs": [
    {
     "data": {
      "text/plain": [
       "\"Data Science Masters course is highly curated and uniquely designed according to the latest industry standards. This program instills students the skills essential to knowledge discovery efforts to identify standard, novel, and truly differentiated solutions and decision-making, including skills in managing, querying, analyzing, visualizing, and extracting meaning from extremely large data sets. This trending program provides students with the statistical, mathematical and computational skills needed to meet the large-scale data science challenges of today's professional world. You will learn all the stack required to work in data science industry including cloud infrastructure and real-time industry projects. This course will be taught in Hindi language.\""
      ]
     },
     "execution_count": 18,
     "metadata": {},
     "output_type": "execute_result"
    }
   ],
   "source": [
    "f.readline()"
   ]
  },
  {
   "cell_type": "code",
   "execution_count": 19,
   "id": "6fd4f4b6-c7fe-4fa9-a049-52030dd0f53f",
   "metadata": {},
   "outputs": [],
   "source": [
    "data1 = open(\"test.txt\" , \"r\")"
   ]
  },
  {
   "cell_type": "code",
   "execution_count": 20,
   "id": "6e451fa9-8cef-46e1-8e5f-e71889284fe0",
   "metadata": {},
   "outputs": [
    {
     "name": "stdout",
     "output_type": "stream",
     "text": [
      "This is my fileData Science Masters course is highly curated and uniquely designed according to the latest industry standards. This program instills students the skills essential to knowledge discovery efforts to identify standard, novel, and truly differentiated solutions and decision-making, including skills in managing, querying, analyzing, visualizing, and extracting meaning from extremely large data sets. This trending program provides students with the statistical, mathematical and computational skills needed to meet the large-scale data science challenges of today's professional world. You will learn all the stack required to work in data science industry including cloud infrastructure and real-time industry projects. This course will be taught in Hindi language.\n"
     ]
    }
   ],
   "source": [
    "for i in data1:\n",
    "    print(i)"
   ]
  },
  {
   "cell_type": "code",
   "execution_count": 21,
   "id": "6a4bd4a0-3c9f-4913-9b1f-93dad236d2ac",
   "metadata": {},
   "outputs": [],
   "source": [
    "import os"
   ]
  },
  {
   "cell_type": "markdown",
   "id": "c797892c-1067-468b-a9b8-e1f08d082433",
   "metadata": {},
   "source": [
    "#### <u>os.path.getsize()<u>\n",
    "##### The 'os.path.getsize()' function is used to get the size of a file in bytes. It is a function provided by the 'os.path' module."
   ]
  },
  {
   "cell_type": "code",
   "execution_count": 22,
   "id": "546d55b3-95c9-4680-9af4-cf10fd59e92f",
   "metadata": {},
   "outputs": [
    {
     "data": {
      "text/plain": [
       "780"
      ]
     },
     "execution_count": 22,
     "metadata": {},
     "output_type": "execute_result"
    }
   ],
   "source": [
    "os.path.getsize(\"test.txt\")"
   ]
  },
  {
   "cell_type": "markdown",
   "id": "3964db06-cb31-47bf-9f81-2152b2c050c5",
   "metadata": {},
   "source": [
    "#### <u>os.remove()<u>\n",
    "##### The 'os.remove()' function is used to delete a file."
   ]
  },
  {
   "cell_type": "code",
   "execution_count": 23,
   "id": "60a69061-35f5-4870-b40c-6d9db05dd84f",
   "metadata": {},
   "outputs": [],
   "source": [
    "os.remove(\"test.txt\")"
   ]
  },
  {
   "cell_type": "code",
   "execution_count": 24,
   "id": "e02771e8-9138-44a3-b793-ede1b36ff902",
   "metadata": {},
   "outputs": [],
   "source": [
    "f = open(\"test1.txt\" , \"w\")"
   ]
  },
  {
   "cell_type": "code",
   "execution_count": 25,
   "id": "cd24ce4c-e6ed-43d0-a868-e92f4dbfda00",
   "metadata": {},
   "outputs": [
    {
     "data": {
      "text/plain": [
       "765"
      ]
     },
     "execution_count": 25,
     "metadata": {},
     "output_type": "execute_result"
    }
   ],
   "source": [
    "f.write(\"Data Science Masters course is highly curated and uniquely designed according to the latest industry standards. This program instills students the skills essential to knowledge discovery efforts to identify standard, novel, and truly differentiated solutions and decision-making, including skills in managing, querying, analyzing, visualizing, and extracting meaning from extremely large data sets. This trending program provides students with the statistical, mathematical and computational skills needed to meet the large-scale data science challenges of today's professional world. You will learn all the stack required to work in data science industry including cloud infrastructure and real-time industry projects. This course will be taught in Hindi language.\")"
   ]
  },
  {
   "cell_type": "code",
   "execution_count": 26,
   "id": "ed3b0748-0ddb-4598-a1de-3c9618e0df2a",
   "metadata": {},
   "outputs": [],
   "source": [
    "f.close()"
   ]
  },
  {
   "cell_type": "markdown",
   "id": "0c4086d0-b479-4ad3-99ee-c00a5ecca369",
   "metadata": {},
   "source": [
    "#### <u>os.rename()<u>\n",
    "##### The 'os.rename()' function is used to rename a file or directory."
   ]
  },
  {
   "cell_type": "code",
   "execution_count": 27,
   "id": "405624d3-1a73-45b5-822a-a57258f0e73d",
   "metadata": {},
   "outputs": [],
   "source": [
    "os.rename(\"test1.txt\" , \"new.txt\")"
   ]
  },
  {
   "cell_type": "code",
   "execution_count": 28,
   "id": "6acdb372-040f-49a1-b6de-2d7eaed316fb",
   "metadata": {},
   "outputs": [],
   "source": [
    "import shutil"
   ]
  },
  {
   "cell_type": "code",
   "execution_count": 29,
   "id": "29b94f55-a38f-40c3-9b55-e0f7ef176de3",
   "metadata": {},
   "outputs": [
    {
     "data": {
      "text/plain": [
       "'copy_new.txt'"
      ]
     },
     "execution_count": 29,
     "metadata": {},
     "output_type": "execute_result"
    }
   ],
   "source": [
    "shutil.copy(\"new.txt\" , \"copy_new.txt\")"
   ]
  },
  {
   "cell_type": "code",
   "execution_count": 30,
   "id": "5ccf2d81-1c64-417b-8e06-651e4e3e0833",
   "metadata": {},
   "outputs": [
    {
     "name": "stdout",
     "output_type": "stream",
     "text": [
      "Data Science Masters course is highly curated and uniquely designed according to the latest industry standards. This program instills students the skills essential to knowledge discovery efforts to identify standard, novel, and truly differentiated solutions and decision-making, including skills in managing, querying, analyzing, visualizing, and extracting meaning from extremely large data sets. This trending program provides students with the statistical, mathematical and computational skills needed to meet the large-scale data science challenges of today's professional world. You will learn all the stack required to work in data science industry including cloud infrastructure and real-time industry projects. This course will be taught in Hindi language.\n"
     ]
    }
   ],
   "source": [
    "with open(\"new.txt\" , \"r\") as f :\n",
    "    print(f.read())"
   ]
  },
  {
   "cell_type": "markdown",
   "id": "20d39a2d-c996-4a3c-ba6b-81e936758ff6",
   "metadata": {},
   "source": [
    "#### <u>READING AND WRITING FILES<u>"
   ]
  },
  {
   "cell_type": "code",
   "execution_count": 31,
   "id": "70f72bcd-b532-4cc8-8c13-f1a3e39a9478",
   "metadata": {},
   "outputs": [],
   "source": [
    "data = {\n",
    "    \"Name\" : \"Anju\",\n",
    "    \"Mail_ID\" : \"anju@gmail.com\",\n",
    "    \"Phone Number\" : 9876453421,\n",
    "    \"Subject\" : [\"Data Science\" , \"Big Data\" , \"Data Analytics\"]\n",
    "}"
   ]
  },
  {
   "cell_type": "code",
   "execution_count": 32,
   "id": "6b89b72c-1e18-4c66-be0f-df6d377d6a87",
   "metadata": {},
   "outputs": [],
   "source": [
    "import json"
   ]
  },
  {
   "cell_type": "markdown",
   "id": "5fb8041a-22de-45bb-adda-4e1291e5e4d4",
   "metadata": {},
   "source": [
    "#### <u>json.dump()<u>\n",
    "##### 'json.dump()' is a method in the 'json' module that allows you to write Python objects to a JSON file."
   ]
  },
  {
   "cell_type": "code",
   "execution_count": 33,
   "id": "807cd592-8834-4caa-ad4f-59e0f893c078",
   "metadata": {},
   "outputs": [],
   "source": [
    "with open(\"data.json\" , \"w\") as f :\n",
    "    json.dump(data , f)"
   ]
  },
  {
   "cell_type": "markdown",
   "id": "6a504631-0968-4e79-9ada-bfc378e36cc9",
   "metadata": {},
   "source": [
    "#### <u>json.load()<u>\n",
    "##### 'json.load()' is a method in the 'json' module that allows you to read data from a JSON file and convert it into a Python object."
   ]
  },
  {
   "cell_type": "code",
   "execution_count": 34,
   "id": "7413a38e-73ab-4925-b56e-7a316f29556e",
   "metadata": {},
   "outputs": [],
   "source": [
    "with open(\"data.json\" , \"r\") as f :\n",
    "    json.load(f)"
   ]
  },
  {
   "cell_type": "code",
   "execution_count": 35,
   "id": "6a827097-dc26-49a4-9fda-f6f67a31bceb",
   "metadata": {},
   "outputs": [
    {
     "data": {
      "text/plain": [
       "{'Name': 'Anju',\n",
       " 'Mail_ID': 'anju@gmail.com',\n",
       " 'Phone Number': 9876453421,\n",
       " 'Subject': ['Data Science', 'Big Data', 'Data Analytics']}"
      ]
     },
     "execution_count": 35,
     "metadata": {},
     "output_type": "execute_result"
    }
   ],
   "source": [
    "data"
   ]
  },
  {
   "cell_type": "code",
   "execution_count": 36,
   "id": "6aef86d1-4356-4c8d-97bf-78dce3cd522a",
   "metadata": {},
   "outputs": [
    {
     "data": {
      "text/plain": [
       "'Big Data'"
      ]
     },
     "execution_count": 36,
     "metadata": {},
     "output_type": "execute_result"
    }
   ],
   "source": [
    "data['Subject'][1]"
   ]
  },
  {
   "cell_type": "code",
   "execution_count": 37,
   "id": "2f726aaf-4ce5-41fb-a8e4-edfb354d5b67",
   "metadata": {},
   "outputs": [],
   "source": [
    "import csv"
   ]
  },
  {
   "cell_type": "code",
   "execution_count": 38,
   "id": "8b53404a-0656-4903-b9ba-ba670ad9faaa",
   "metadata": {},
   "outputs": [],
   "source": [
    "data = [[\"Name\" , \"Email ID\" , \"Phone Number\"],\n",
    "        [\"Anjali Soman\" , \"anjali@gmail.com\" , 9876543210],\n",
    "        [\"Anish Soman\" , \"anish@gmail.com\" , 9542579090]\n",
    "]"
   ]
  },
  {
   "cell_type": "code",
   "execution_count": 39,
   "id": "b605c312-6fb8-4c9c-9c7f-bb1f6124adbe",
   "metadata": {},
   "outputs": [],
   "source": [
    "with open (\"data.csv\" , \"w\") as f:\n",
    "    writer = csv.writer(f)\n",
    "    \n",
    "    for i in data:\n",
    "        writer.writerow(i)"
   ]
  },
  {
   "cell_type": "code",
   "execution_count": 40,
   "id": "63812fb6-50e4-4ca6-92c5-faa9a600afbe",
   "metadata": {},
   "outputs": [
    {
     "name": "stdout",
     "output_type": "stream",
     "text": [
      "['Name', 'Email ID', 'Phone Number']\n",
      "['Anjali Soman', 'anjali@gmail.com', '9876543210']\n",
      "['Anish Soman', 'anish@gmail.com', '9542579090']\n"
     ]
    }
   ],
   "source": [
    "with open (\"data.csv\" , \"r\") as f:\n",
    "    read_data = csv.reader(f)\n",
    "    \n",
    "    for i in read_data:\n",
    "        print(i)"
   ]
  },
  {
   "cell_type": "code",
   "execution_count": 41,
   "id": "dff9473c-26c4-4f87-b950-4a1f1f7d95ec",
   "metadata": {},
   "outputs": [],
   "source": [
    "with open(\"test.bin\" , \"wb\") as f:\n",
    "    f.write(b\"\\x01\\x02\\x03\\x56789655\")"
   ]
  },
  {
   "cell_type": "code",
   "execution_count": 42,
   "id": "fece01c8-5af0-4746-b0bd-ff97aa019a7c",
   "metadata": {},
   "outputs": [
    {
     "name": "stdout",
     "output_type": "stream",
     "text": [
      "b'\\x01\\x02\\x03V789655'\n"
     ]
    }
   ],
   "source": [
    "with open (\"test.bin\" , \"rb\") as f:\n",
    "    print(f.read())"
   ]
  },
  {
   "cell_type": "markdown",
   "id": "df2b6eb1-a3ab-437e-85ee-9ad9399c0d8a",
   "metadata": {},
   "source": [
    "#### <u>BUFFERED READ AND WRITE OTHER FILE METHODS<u>"
   ]
  },
  {
   "cell_type": "code",
   "execution_count": 43,
   "id": "e47b3ab8-e471-4550-8090-8b3dc3718621",
   "metadata": {},
   "outputs": [],
   "source": [
    "import io"
   ]
  },
  {
   "cell_type": "code",
   "execution_count": 44,
   "id": "5b49b499-41be-4d22-bef0-105bd72b3bb3",
   "metadata": {},
   "outputs": [],
   "source": [
    "with open(\"test1.txt\" , \"wb\") as f:\n",
    "    file = io.BufferedWriter(f)\n",
    "    \n",
    "    file.write(b\"Data Science Masters course is highly curated and uniquely designed according to the latest industry standards. This program instills students the skills essential to knowledge discovery efforts to identify standard, novel, and truly differentiated solutions and decision-making, including skills in managing, querying, analyzing, visualizing, and extracting meaning from extremely large data sets. This trending program provides students with the statistical, mathematical and computational skills needed to meet the large-scale data science challenges of today's professional world. You will learn all the stack required to work in data science industry including cloud infrastructure and real-time industry projects. This course will be taught in Hindi language.\\n\")\n",
    "    file.write(b\"This is my second line\\n\")\n",
    "    file.flush()"
   ]
  },
  {
   "cell_type": "code",
   "execution_count": 45,
   "id": "ca208f00-19c5-4a29-ab4e-097b67224883",
   "metadata": {},
   "outputs": [
    {
     "name": "stdout",
     "output_type": "stream",
     "text": [
      "b\"Data Science Masters course is highly curated and uniquely designed according to the latest industry standards. This program instills students the skills essential to knowledge discovery efforts to identify standard, novel, and truly differentiated solutions and decision-making, including skills in managing, querying, analyzing, visualizing, and extracting meaning from extremely large data sets. This trending program provides students with the statistical, mathematical and computational skills needed to meet the large-scale data science challenges of today's professional world. You will learn all the stack required to work in data science industry including cloud infrastructure and real-time industry projects. This course will be taught in Hindi language.\\nThis is my second line\\n\"\n"
     ]
    }
   ],
   "source": [
    "with open(\"test1.txt\" , \"rb\") as f:\n",
    "    file = io.BufferedReader(f)\n",
    "    \n",
    "    data = file.read()\n",
    "    print(data)"
   ]
  },
  {
   "cell_type": "code",
   "execution_count": 46,
   "id": "3d48325f-79d7-4567-813c-6f23f5fd568e",
   "metadata": {},
   "outputs": [
    {
     "name": "stdout",
     "output_type": "stream",
     "text": [
      "b'Data Science Masters course is highly curated and uniquely designed according to the latest industry'\n"
     ]
    }
   ],
   "source": [
    "with open(\"test1.txt\" , \"rb\") as f:\n",
    "    file = io.BufferedReader(f)\n",
    "    \n",
    "    data = file.read(100)\n",
    "    print(data)"
   ]
  },
  {
   "cell_type": "markdown",
   "id": "a6dd91d0-afbf-402e-9f23-5d53ce0d9d08",
   "metadata": {},
   "source": [
    "#### <u>LOGGING & DEBUGGER<u>"
   ]
  },
  {
   "cell_type": "code",
   "execution_count": 47,
   "id": "4bae7f5a-4908-4d6a-b89f-8e730eed8761",
   "metadata": {},
   "outputs": [
    {
     "name": "stdout",
     "output_type": "stream",
     "text": [
      "This is my print\n"
     ]
    }
   ],
   "source": [
    "print(\"This is my print\")"
   ]
  },
  {
   "cell_type": "markdown",
   "id": "dec3256d-7ca8-4d31-bb4a-19e24d352aaf",
   "metadata": {},
   "source": [
    "#### <u>logging<u>\n",
    "##### The 'logging' module is a way to write messages to a file that can help you understand what is happening in your code. It's like taking notes while you're working on a project to help you remember what you did and why. \n",
    "    \n",
    "##### With the 'logging' module, you can write messages at different levels of importance, such as 'DEBUG' (for detailed information), 'INFO' (for general information), 'WARNING' (for potential problems), 'ERROR' (for errors that don't stop the program), and 'CRITICAL' (for errors that stop the program)."
   ]
  },
  {
   "cell_type": "code",
   "execution_count": 48,
   "id": "d6d69237-40a9-4b8f-a68f-62a1c0414572",
   "metadata": {},
   "outputs": [],
   "source": [
    "import logging"
   ]
  },
  {
   "cell_type": "code",
   "execution_count": 49,
   "id": "03a6a995-f704-4b5a-9736-f25082a61f85",
   "metadata": {},
   "outputs": [],
   "source": [
    "logging.basicConfig(filename = \"test.log\" , level = logging.INFO)"
   ]
  },
  {
   "cell_type": "code",
   "execution_count": 50,
   "id": "2bfe9528-4363-425f-b07e-8ae028886e37",
   "metadata": {},
   "outputs": [],
   "source": [
    "logging.info(\"log this line of execution\" )"
   ]
  },
  {
   "cell_type": "code",
   "execution_count": 51,
   "id": "8d041fd9-094e-4a08-9770-7c6e009b2b79",
   "metadata": {},
   "outputs": [],
   "source": [
    "logging.info(\"This is my print\" )"
   ]
  },
  {
   "cell_type": "code",
   "execution_count": 52,
   "id": "bf92f779-dc99-4ada-8c35-d20e0e3a3e7f",
   "metadata": {},
   "outputs": [],
   "source": [
    "# Levels of Logging:\n",
    "    \n",
    "# 1. NOTSET\n",
    "# 2. DEBUG\n",
    "# 3. INFO\n",
    "# 4. WARNING\n",
    "# 5. ERROR\n",
    "# 6. CRITICAL"
   ]
  },
  {
   "cell_type": "code",
   "execution_count": 53,
   "id": "27acb2eb-22ef-49f7-979e-3a88daef3c01",
   "metadata": {},
   "outputs": [],
   "source": [
    "logging.debug(\"This is my msg\")"
   ]
  },
  {
   "cell_type": "code",
   "execution_count": 54,
   "id": "4f065937-6126-4ec0-bff3-dcd261d7fa9b",
   "metadata": {},
   "outputs": [],
   "source": [
    "logging.warning(\"This is my warning msg\")"
   ]
  },
  {
   "cell_type": "code",
   "execution_count": 55,
   "id": "8799383e-b819-4a08-90cb-c0ee21064327",
   "metadata": {},
   "outputs": [],
   "source": [
    "logging.error(\"This is my error\")"
   ]
  },
  {
   "cell_type": "code",
   "execution_count": 56,
   "id": "ffe8c520-cfa3-42be-abb0-54d02c669538",
   "metadata": {},
   "outputs": [],
   "source": [
    "logging.critical(\"This is my critical msg\")"
   ]
  },
  {
   "cell_type": "code",
   "execution_count": 57,
   "id": "41bacf30-3940-48db-9a31-9d0c518e5329",
   "metadata": {},
   "outputs": [],
   "source": [
    "logging.shutdown()"
   ]
  },
  {
   "cell_type": "code",
   "execution_count": 58,
   "id": "07008448-de1c-4486-a898-22c5a19e254b",
   "metadata": {},
   "outputs": [],
   "source": [
    "import logging"
   ]
  },
  {
   "cell_type": "code",
   "execution_count": 59,
   "id": "d1f3318a-04e2-4907-b9cc-13dff30c8746",
   "metadata": {},
   "outputs": [],
   "source": [
    "logging.basicConfig(filename = \"test1.log\" , level = logging.DEBUG , format = '%(asctime)s %(message)s' )"
   ]
  },
  {
   "cell_type": "code",
   "execution_count": 60,
   "id": "7303ba03-32c8-4623-9ce7-c26d8b4fc51d",
   "metadata": {},
   "outputs": [],
   "source": [
    "logging.info(\"This is my info logging\")\n",
    "logging.error(\"This is my error msg\")\n",
    "logging.critical(\"This is my critical\")"
   ]
  },
  {
   "cell_type": "code",
   "execution_count": 61,
   "id": "30659e0d-1ee1-4adb-a4cd-678ec48ca520",
   "metadata": {},
   "outputs": [],
   "source": [
    "logging.shutdown()"
   ]
  },
  {
   "cell_type": "code",
   "execution_count": 62,
   "id": "55dbd536-573c-43b2-8ff5-7de459ad6df4",
   "metadata": {},
   "outputs": [],
   "source": [
    "import logging"
   ]
  },
  {
   "cell_type": "code",
   "execution_count": 63,
   "id": "5e1c43a8-4ad5-4b9d-b0aa-d9fbdce8e23a",
   "metadata": {},
   "outputs": [],
   "source": [
    "logging.basicConfig(filename = \"test2.log\" , level = logging.DEBUG , format = '%(asctime)s %(name)s %(levelname)s %(message)s')"
   ]
  },
  {
   "cell_type": "code",
   "execution_count": 64,
   "id": "f60275fb-591a-493c-994f-6a29594e17cc",
   "metadata": {},
   "outputs": [],
   "source": [
    "logging.info(\"This is my info logging\")\n",
    "logging.error(\"This is my error msg\")\n",
    "logging.critical(\"This is my critical\")"
   ]
  },
  {
   "cell_type": "code",
   "execution_count": 65,
   "id": "efb8532f-5c84-4f60-8157-8d6ebcc8a32d",
   "metadata": {},
   "outputs": [],
   "source": [
    "l = [1,2,3,34,4,[2,3,4], \"anju\" , \"soman\"]"
   ]
  },
  {
   "cell_type": "code",
   "execution_count": 66,
   "id": "3e131644-cf70-44ef-a62d-aec33a3abf56",
   "metadata": {},
   "outputs": [],
   "source": [
    "l1_int = []\n",
    "l2_str = []\n",
    "for i in l:\n",
    "    if type(i) == list :\n",
    "        for j in i:\n",
    "            if type(j) == int:\n",
    "                l1_int.append(j)\n",
    "    elif type(i) == int:\n",
    "        l1_int.append(i)\n",
    "        \n",
    "    else:\n",
    "        if type(i) == str:\n",
    "            l2_str.append(i)"
   ]
  },
  {
   "cell_type": "code",
   "execution_count": 67,
   "id": "7375421f-e155-4206-af47-074c2a11ecf0",
   "metadata": {},
   "outputs": [
    {
     "data": {
      "text/plain": [
       "[1, 2, 3, 34, 4, 2, 3, 4]"
      ]
     },
     "execution_count": 67,
     "metadata": {},
     "output_type": "execute_result"
    }
   ],
   "source": [
    "l1_int"
   ]
  },
  {
   "cell_type": "code",
   "execution_count": 68,
   "id": "9ec45a25-b4ec-4c94-acbf-fff1abbe0aae",
   "metadata": {},
   "outputs": [
    {
     "data": {
      "text/plain": [
       "['anju', 'soman']"
      ]
     },
     "execution_count": 68,
     "metadata": {},
     "output_type": "execute_result"
    }
   ],
   "source": [
    "l2_str"
   ]
  },
  {
   "cell_type": "code",
   "execution_count": 69,
   "id": "e49e95ab-88d0-45a5-b26a-b1a10490b44e",
   "metadata": {},
   "outputs": [],
   "source": [
    "l1_int = []\n",
    "l2_str = []\n",
    "for i in l:\n",
    "    logging.info(\"We are iterating through our list and our local variable is i\")\n",
    "    if type(i) == list :\n",
    "        logging.info(\"I am inside if statement and I am trying to check list type\")\n",
    "        for j in i:\n",
    "            logging.info(\"I am inside another for loop for list inside list element\")\n",
    "            if type(j) == int:\n",
    "                logging.info(\"I am inside if statement\")\n",
    "                l1_int.append(j)\n",
    "    elif type(i) == int:\n",
    "        l1_int.append(i)\n",
    "        \n",
    "    else:\n",
    "        if type(i) == str:\n",
    "            l2_str.append(i)"
   ]
  },
  {
   "cell_type": "code",
   "execution_count": 70,
   "id": "82d9a5fd-af2d-4d9a-8763-22a6cbc95fa4",
   "metadata": {},
   "outputs": [],
   "source": [
    "l1_int = []\n",
    "l2_str = []\n",
    "for i in l:\n",
    "    logging.info(\"We are iterating through our list and our local variable is i\" + str(l))\n",
    "    if type(i) == list :\n",
    "        logging.info(\"I am inside if statement and I am trying to check list type\" + str(i))\n",
    "        for j in i:\n",
    "            logging.info(\"I am inside another for loop for list inside list element\" + str(j))\n",
    "            if type(j) == int:\n",
    "                logging.info(\"I am inside if statement\")\n",
    "                l1_int.append(j)\n",
    "    elif type(i) == int:\n",
    "        l1_int.append(i)\n",
    "        \n",
    "    else:\n",
    "        if type(i) == str:\n",
    "            l2_str.append(i)"
   ]
  },
  {
   "cell_type": "code",
   "execution_count": 71,
   "id": "ec53eac6-93f2-4629-9153-8ff344ceac87",
   "metadata": {},
   "outputs": [],
   "source": [
    "## Defining Placeholder\n",
    "l1_int = []\n",
    "l2_str = []\n",
    "for i in l:\n",
    "    logging.info(\"We are iterating through our list and our local variable is {}\".format(l))\n",
    "    if type(i) == list :\n",
    "        logging.info(\"I am inside if statement and I am trying to check list type\" + str(i))\n",
    "        for j in i:\n",
    "            logging.info(\"I am inside another for loop for list inside list element\" + str(j))\n",
    "            if type(j) == int:\n",
    "                logging.info(\"I am inside if statement\")\n",
    "                l1_int.append(j)\n",
    "    elif type(i) == int:\n",
    "        l1_int.append(i)\n",
    "        \n",
    "    else:\n",
    "        if type(i) == str:\n",
    "            l2_str.append(i)\n",
    "logging.info(\"My final result for int is {l1} and str is {l2}\".format(l1=l1_int , l2 = l2_str))"
   ]
  }
 ],
 "metadata": {
  "kernelspec": {
   "display_name": "Python 3 (ipykernel)",
   "language": "python",
   "name": "python3"
  },
  "language_info": {
   "codemirror_mode": {
    "name": "ipython",
    "version": 3
   },
   "file_extension": ".py",
   "mimetype": "text/x-python",
   "name": "python",
   "nbconvert_exporter": "python",
   "pygments_lexer": "ipython3",
   "version": "3.10.8"
  }
 },
 "nbformat": 4,
 "nbformat_minor": 5
}
