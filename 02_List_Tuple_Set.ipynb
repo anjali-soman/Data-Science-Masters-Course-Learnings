{
 "cells": [
  {
   "cell_type": "markdown",
   "id": "eb2923a0-5178-41e7-8e2f-7559697db534",
   "metadata": {},
   "source": [
    "#### <u>LIST<u>\n",
    "##### A list is a collection of items that can be of different data types, including numbers, strings, and other objects. Lists are ordered and mutable, which means that you can change the items in the list after it has been created. Lists are defined using square brackets [ ] and items are separated by commas."
   ]
  },
  {
   "cell_type": "code",
   "execution_count": 2,
   "id": "2f343ed5-de3a-4bf9-a707-7031b7655ae9",
   "metadata": {},
   "outputs": [],
   "source": [
    "l = [1,456,34,\"anju\",True,False,3+9j,45.876]"
   ]
  },
  {
   "cell_type": "code",
   "execution_count": 2,
   "id": "527e0d77-306e-4636-9b2b-d05a9710a207",
   "metadata": {},
   "outputs": [
    {
     "data": {
      "text/plain": [
       "list"
      ]
     },
     "execution_count": 2,
     "metadata": {},
     "output_type": "execute_result"
    }
   ],
   "source": [
    "type(l)"
   ]
  },
  {
   "cell_type": "code",
   "execution_count": 3,
   "id": "e888da9b-959e-4c10-9cc6-59a933e16b4c",
   "metadata": {},
   "outputs": [
    {
     "data": {
      "text/plain": [
       "1"
      ]
     },
     "execution_count": 3,
     "metadata": {},
     "output_type": "execute_result"
    }
   ],
   "source": [
    "l[0]"
   ]
  },
  {
   "cell_type": "code",
   "execution_count": 4,
   "id": "d94bddc0-0332-4c85-af88-f78997bdaa42",
   "metadata": {},
   "outputs": [
    {
     "data": {
      "text/plain": [
       "45.876"
      ]
     },
     "execution_count": 4,
     "metadata": {},
     "output_type": "execute_result"
    }
   ],
   "source": [
    "l[7]"
   ]
  },
  {
   "cell_type": "code",
   "execution_count": 5,
   "id": "459d8c3f-e647-479f-a270-3f775dd203bc",
   "metadata": {},
   "outputs": [
    {
     "ename": "IndexError",
     "evalue": "list index out of range",
     "output_type": "error",
     "traceback": [
      "\u001b[0;31m---------------------------------------------------------------------------\u001b[0m",
      "\u001b[0;31mIndexError\u001b[0m                                Traceback (most recent call last)",
      "Cell \u001b[0;32mIn[5], line 1\u001b[0m\n\u001b[0;32m----> 1\u001b[0m \u001b[43ml\u001b[49m\u001b[43m[\u001b[49m\u001b[38;5;241;43m90\u001b[39;49m\u001b[43m]\u001b[49m\n",
      "\u001b[0;31mIndexError\u001b[0m: list index out of range"
     ]
    }
   ],
   "source": [
    "l[90]"
   ]
  },
  {
   "cell_type": "code",
   "execution_count": 6,
   "id": "5fbfd064-1904-4cae-a26a-05e0a5eeeac4",
   "metadata": {},
   "outputs": [
    {
     "data": {
      "text/plain": [
       "[1, 456, 34, 'anju', True, False, (3+9j), 45.876]"
      ]
     },
     "execution_count": 6,
     "metadata": {},
     "output_type": "execute_result"
    }
   ],
   "source": [
    "l"
   ]
  },
  {
   "cell_type": "code",
   "execution_count": 7,
   "id": "210a7029-77fa-493a-9538-0bc724f66d62",
   "metadata": {},
   "outputs": [
    {
     "data": {
      "text/plain": [
       "[1, 456, 34]"
      ]
     },
     "execution_count": 7,
     "metadata": {},
     "output_type": "execute_result"
    }
   ],
   "source": [
    "l[0:3]"
   ]
  },
  {
   "cell_type": "code",
   "execution_count": 8,
   "id": "fe0aed9f-6374-4262-befa-5ee57d793366",
   "metadata": {},
   "outputs": [
    {
     "data": {
      "text/plain": [
       "45.876"
      ]
     },
     "execution_count": 8,
     "metadata": {},
     "output_type": "execute_result"
    }
   ],
   "source": [
    "l[-1]"
   ]
  },
  {
   "cell_type": "code",
   "execution_count": 9,
   "id": "c1a07ddd-8115-4747-baa9-67b67ae392e8",
   "metadata": {},
   "outputs": [
    {
     "data": {
      "text/plain": [
       "[45.876, (3+9j), False, True, 'anju', 34, 456, 1]"
      ]
     },
     "execution_count": 9,
     "metadata": {},
     "output_type": "execute_result"
    }
   ],
   "source": [
    "l[::-1]"
   ]
  },
  {
   "cell_type": "code",
   "execution_count": 11,
   "id": "d7baf85e-a0b3-4afe-aa3e-1edad7d42943",
   "metadata": {},
   "outputs": [
    {
     "data": {
      "text/plain": [
       "[1, 34, True, (3+9j)]"
      ]
     },
     "execution_count": 11,
     "metadata": {},
     "output_type": "execute_result"
    }
   ],
   "source": [
    "l[::2]"
   ]
  },
  {
   "cell_type": "code",
   "execution_count": 3,
   "id": "462b03f0-0387-4acc-be5c-c6ec1c9a60a0",
   "metadata": {},
   "outputs": [
    {
     "data": {
      "text/plain": [
       "[1, 456, 34, 'anju', True, False, (3+9j), 45.876]"
      ]
     },
     "execution_count": 3,
     "metadata": {},
     "output_type": "execute_result"
    }
   ],
   "source": [
    "l"
   ]
  },
  {
   "cell_type": "code",
   "execution_count": 7,
   "id": "03f2db0d-04fe-4205-94ac-8d87eb87716f",
   "metadata": {},
   "outputs": [],
   "source": [
    "s = \"pwskills\""
   ]
  },
  {
   "cell_type": "code",
   "execution_count": 14,
   "id": "184ed503-7bc0-4c40-b026-cdc71b89cbac",
   "metadata": {},
   "outputs": [
    {
     "ename": "TypeError",
     "evalue": "can only concatenate list (not \"str\") to list",
     "output_type": "error",
     "traceback": [
      "\u001b[0;31m---------------------------------------------------------------------------\u001b[0m",
      "\u001b[0;31mTypeError\u001b[0m                                 Traceback (most recent call last)",
      "Cell \u001b[0;32mIn[14], line 1\u001b[0m\n\u001b[0;32m----> 1\u001b[0m \u001b[43ml\u001b[49m\u001b[43m \u001b[49m\u001b[38;5;241;43m+\u001b[39;49m\u001b[43m \u001b[49m\u001b[43ms\u001b[49m\n",
      "\u001b[0;31mTypeError\u001b[0m: can only concatenate list (not \"str\") to list"
     ]
    }
   ],
   "source": [
    "l + s"
   ]
  },
  {
   "cell_type": "code",
   "execution_count": 16,
   "id": "62ae6d45-2647-4221-bd44-ebc0ef6dcdcc",
   "metadata": {},
   "outputs": [
    {
     "data": {
      "text/plain": [
       "['p', 'w', 's', 'k', 'i', 'l', 'l', 's']"
      ]
     },
     "execution_count": 16,
     "metadata": {},
     "output_type": "execute_result"
    }
   ],
   "source": [
    "list(s)"
   ]
  },
  {
   "cell_type": "code",
   "execution_count": 17,
   "id": "5cbb7875-dd34-4b83-bc9a-2543d265e7e4",
   "metadata": {},
   "outputs": [
    {
     "data": {
      "text/plain": [
       "[1,\n",
       " 456,\n",
       " 34,\n",
       " 'anju',\n",
       " True,\n",
       " False,\n",
       " (3+9j),\n",
       " 45.876,\n",
       " 'p',\n",
       " 'w',\n",
       " 's',\n",
       " 'k',\n",
       " 'i',\n",
       " 'l',\n",
       " 'l',\n",
       " 's']"
      ]
     },
     "execution_count": 17,
     "metadata": {},
     "output_type": "execute_result"
    }
   ],
   "source": [
    "l + list(s)"
   ]
  },
  {
   "cell_type": "code",
   "execution_count": 18,
   "id": "743054b4-8b4f-468f-a0d6-d69a5ea24ed2",
   "metadata": {},
   "outputs": [
    {
     "data": {
      "text/plain": [
       "[1, 456, 34, 'anju', True, False, (3+9j), 45.876]"
      ]
     },
     "execution_count": 18,
     "metadata": {},
     "output_type": "execute_result"
    }
   ],
   "source": [
    "l"
   ]
  },
  {
   "cell_type": "code",
   "execution_count": 28,
   "id": "238a9a41-4d1d-4d9d-955c-d32e7ab96838",
   "metadata": {},
   "outputs": [
    {
     "data": {
      "text/plain": [
       "'anju'"
      ]
     },
     "execution_count": 28,
     "metadata": {},
     "output_type": "execute_result"
    }
   ],
   "source": [
    "l[3]"
   ]
  },
  {
   "cell_type": "code",
   "execution_count": 29,
   "id": "0fb96400-b6a8-4d09-a2ad-f33dd5fa8d11",
   "metadata": {},
   "outputs": [
    {
     "data": {
      "text/plain": [
       "'an'"
      ]
     },
     "execution_count": 29,
     "metadata": {},
     "output_type": "execute_result"
    }
   ],
   "source": [
    "l[3][0:2]"
   ]
  },
  {
   "cell_type": "code",
   "execution_count": 30,
   "id": "fef48ed2-5f51-4d1a-a9b4-48052335afed",
   "metadata": {},
   "outputs": [
    {
     "data": {
      "text/plain": [
       "True"
      ]
     },
     "execution_count": 30,
     "metadata": {},
     "output_type": "execute_result"
    }
   ],
   "source": [
    "l[4]"
   ]
  },
  {
   "cell_type": "code",
   "execution_count": 31,
   "id": "f3a4cc44-45ee-4d75-8891-c9ced4ac3eb6",
   "metadata": {},
   "outputs": [
    {
     "data": {
      "text/plain": [
       "'True'"
      ]
     },
     "execution_count": 31,
     "metadata": {},
     "output_type": "execute_result"
    }
   ],
   "source": [
    "str(l[4])"
   ]
  },
  {
   "cell_type": "code",
   "execution_count": 32,
   "id": "6d9f7cdb-c87f-4446-a894-8148b999dbb7",
   "metadata": {},
   "outputs": [
    {
     "data": {
      "text/plain": [
       "'Tr'"
      ]
     },
     "execution_count": 32,
     "metadata": {},
     "output_type": "execute_result"
    }
   ],
   "source": [
    "str(l[4])[0:2] ## It longer remains a boolean value"
   ]
  },
  {
   "cell_type": "code",
   "execution_count": 33,
   "id": "c55dd16c-3c8d-4c6a-b325-e7115108bae7",
   "metadata": {},
   "outputs": [
    {
     "ename": "TypeError",
     "evalue": "can only concatenate list (not \"int\") to list",
     "output_type": "error",
     "traceback": [
      "\u001b[0;31m---------------------------------------------------------------------------\u001b[0m",
      "\u001b[0;31mTypeError\u001b[0m                                 Traceback (most recent call last)",
      "Cell \u001b[0;32mIn[33], line 1\u001b[0m\n\u001b[0;32m----> 1\u001b[0m \u001b[43ml\u001b[49m\u001b[43m \u001b[49m\u001b[38;5;241;43m+\u001b[39;49m\u001b[43m \u001b[49m\u001b[38;5;241;43m5\u001b[39;49m\n",
      "\u001b[0;31mTypeError\u001b[0m: can only concatenate list (not \"int\") to list"
     ]
    }
   ],
   "source": [
    "l + 5"
   ]
  },
  {
   "cell_type": "code",
   "execution_count": 11,
   "id": "90fb94b5-d260-4576-954e-7b3a446bc2f5",
   "metadata": {},
   "outputs": [],
   "source": [
    "l1 = [3,4,5]"
   ]
  },
  {
   "cell_type": "code",
   "execution_count": 35,
   "id": "72aca898-976f-4a4a-bd0d-1a639ff648af",
   "metadata": {},
   "outputs": [
    {
     "data": {
      "text/plain": [
       "[1, 456, 34, 'anju', True, False, (3+9j), 45.876, 3, 4, 5]"
      ]
     },
     "execution_count": 35,
     "metadata": {},
     "output_type": "execute_result"
    }
   ],
   "source": [
    "l + l1"
   ]
  },
  {
   "cell_type": "code",
   "execution_count": 36,
   "id": "d432be72-10ca-4001-9dbb-1371aba785ce",
   "metadata": {},
   "outputs": [
    {
     "data": {
      "text/plain": [
       "[3, 4, 5, 3, 4, 5, 3, 4, 5]"
      ]
     },
     "execution_count": 36,
     "metadata": {},
     "output_type": "execute_result"
    }
   ],
   "source": [
    "l1 * 3"
   ]
  },
  {
   "cell_type": "code",
   "execution_count": 41,
   "id": "417a4cfc-08f3-40c2-a292-41bbd87e0488",
   "metadata": {},
   "outputs": [
    {
     "data": {
      "text/plain": [
       "8"
      ]
     },
     "execution_count": 41,
     "metadata": {},
     "output_type": "execute_result"
    }
   ],
   "source": [
    "len(l)"
   ]
  },
  {
   "cell_type": "code",
   "execution_count": 4,
   "id": "4c18fae6-9161-4000-b41d-eb3c9d3e4723",
   "metadata": {},
   "outputs": [
    {
     "data": {
      "text/plain": [
       "[1, 456, 34, 'anju', True, False, (3+9j), 45.876]"
      ]
     },
     "execution_count": 4,
     "metadata": {},
     "output_type": "execute_result"
    }
   ],
   "source": [
    "l"
   ]
  },
  {
   "cell_type": "markdown",
   "id": "8489c9f7-9725-4d39-b952-776874e8455b",
   "metadata": {},
   "source": [
    "#### <u>append() FUNCTION<u>\n",
    "##### The 'append()' function is a built-in function that is used to add an element to the end of a list."
   ]
  },
  {
   "cell_type": "code",
   "execution_count": 5,
   "id": "70022892-a3ac-4483-b8e1-41086f2d3b02",
   "metadata": {},
   "outputs": [],
   "source": [
    "l.append(5)"
   ]
  },
  {
   "cell_type": "code",
   "execution_count": 6,
   "id": "3553f262-550a-4cf7-9ae1-4a79f80f5f4a",
   "metadata": {},
   "outputs": [
    {
     "data": {
      "text/plain": [
       "[1, 456, 34, 'anju', True, False, (3+9j), 45.876, 5]"
      ]
     },
     "execution_count": 6,
     "metadata": {},
     "output_type": "execute_result"
    }
   ],
   "source": [
    "l"
   ]
  },
  {
   "cell_type": "code",
   "execution_count": 8,
   "id": "9ded9628-4235-4a48-b710-d05ef59ab15a",
   "metadata": {},
   "outputs": [
    {
     "data": {
      "text/plain": [
       "'pwskills'"
      ]
     },
     "execution_count": 8,
     "metadata": {},
     "output_type": "execute_result"
    }
   ],
   "source": [
    "s"
   ]
  },
  {
   "cell_type": "code",
   "execution_count": 9,
   "id": "22ed866a-e8ba-4dd4-969e-cecc4826f750",
   "metadata": {},
   "outputs": [],
   "source": [
    "l.append(s)"
   ]
  },
  {
   "cell_type": "code",
   "execution_count": 10,
   "id": "f76f3a46-f524-47d4-9c4b-6690ac695c5d",
   "metadata": {},
   "outputs": [
    {
     "data": {
      "text/plain": [
       "[1, 456, 34, 'anju', True, False, (3+9j), 45.876, 5, 'pwskills']"
      ]
     },
     "execution_count": 10,
     "metadata": {},
     "output_type": "execute_result"
    }
   ],
   "source": [
    "l"
   ]
  },
  {
   "cell_type": "code",
   "execution_count": 12,
   "id": "29621b5d-18ca-44b4-aa31-8e640af741ec",
   "metadata": {},
   "outputs": [
    {
     "data": {
      "text/plain": [
       "[3, 4, 5]"
      ]
     },
     "execution_count": 12,
     "metadata": {},
     "output_type": "execute_result"
    }
   ],
   "source": [
    "l1"
   ]
  },
  {
   "cell_type": "code",
   "execution_count": 13,
   "id": "488437ab-2636-4c23-ae3e-b11d69493a9b",
   "metadata": {},
   "outputs": [],
   "source": [
    "l.append(l1)"
   ]
  },
  {
   "cell_type": "code",
   "execution_count": 14,
   "id": "c56bf70c-0885-4857-aa4b-dbb6d147295a",
   "metadata": {},
   "outputs": [
    {
     "data": {
      "text/plain": [
       "[1, 456, 34, 'anju', True, False, (3+9j), 45.876, 5, 'pwskills', [3, 4, 5]]"
      ]
     },
     "execution_count": 14,
     "metadata": {},
     "output_type": "execute_result"
    }
   ],
   "source": [
    "l"
   ]
  },
  {
   "cell_type": "code",
   "execution_count": 16,
   "id": "2cf40bf3-9b99-461a-acf7-c713cccac1b6",
   "metadata": {},
   "outputs": [
    {
     "data": {
      "text/plain": [
       "4"
      ]
     },
     "execution_count": 16,
     "metadata": {},
     "output_type": "execute_result"
    }
   ],
   "source": [
    "l[10][1] ## Foward"
   ]
  },
  {
   "cell_type": "code",
   "execution_count": 18,
   "id": "a98bb8e9-3c83-422f-8330-da1ae42971c5",
   "metadata": {},
   "outputs": [
    {
     "data": {
      "text/plain": [
       "4"
      ]
     },
     "execution_count": 18,
     "metadata": {},
     "output_type": "execute_result"
    }
   ],
   "source": [
    "l[-1][1] ## Backward"
   ]
  },
  {
   "cell_type": "code",
   "execution_count": 19,
   "id": "0a47a22b-056a-43a2-b8dc-bbcad2e9ca33",
   "metadata": {},
   "outputs": [
    {
     "data": {
      "text/plain": [
       "[1, 456, 34, 'anju', True, False, (3+9j), 45.876, 5, 'pwskills', [3, 4, 5]]"
      ]
     },
     "execution_count": 19,
     "metadata": {},
     "output_type": "execute_result"
    }
   ],
   "source": [
    "l"
   ]
  },
  {
   "cell_type": "markdown",
   "id": "a8a981e0-8643-4d69-ae37-5838cbb3e694",
   "metadata": {},
   "source": [
    "#### <u>extend() FUNCTION<u>\n",
    "##### The 'extend()' method is used to extend a list by adding elements from another list, or from any iterable object, to the end of the list."
   ]
  },
  {
   "cell_type": "code",
   "execution_count": 20,
   "id": "1dc48a14-f39c-49f6-bbbc-640fa923f42a",
   "metadata": {},
   "outputs": [
    {
     "ename": "TypeError",
     "evalue": "'int' object is not iterable",
     "output_type": "error",
     "traceback": [
      "\u001b[0;31m---------------------------------------------------------------------------\u001b[0m",
      "\u001b[0;31mTypeError\u001b[0m                                 Traceback (most recent call last)",
      "Cell \u001b[0;32mIn[20], line 1\u001b[0m\n\u001b[0;32m----> 1\u001b[0m \u001b[43ml\u001b[49m\u001b[38;5;241;43m.\u001b[39;49m\u001b[43mextend\u001b[49m\u001b[43m(\u001b[49m\u001b[38;5;241;43m4\u001b[39;49m\u001b[43m)\u001b[49m\n",
      "\u001b[0;31mTypeError\u001b[0m: 'int' object is not iterable"
     ]
    }
   ],
   "source": [
    "l.extend(4)"
   ]
  },
  {
   "cell_type": "code",
   "execution_count": 21,
   "id": "ba52bcf5-621a-4cea-9d7d-ab80aa9e8dc6",
   "metadata": {},
   "outputs": [],
   "source": [
    "l.extend(\"anju\")"
   ]
  },
  {
   "cell_type": "code",
   "execution_count": 22,
   "id": "ddb19330-9e7c-4731-9701-cffe99f12063",
   "metadata": {},
   "outputs": [
    {
     "data": {
      "text/plain": [
       "[1,\n",
       " 456,\n",
       " 34,\n",
       " 'anju',\n",
       " True,\n",
       " False,\n",
       " (3+9j),\n",
       " 45.876,\n",
       " 5,\n",
       " 'pwskills',\n",
       " [3, 4, 5],\n",
       " 'a',\n",
       " 'n',\n",
       " 'j',\n",
       " 'u']"
      ]
     },
     "execution_count": 22,
     "metadata": {},
     "output_type": "execute_result"
    }
   ],
   "source": [
    "l"
   ]
  },
  {
   "cell_type": "code",
   "execution_count": 23,
   "id": "f6d57610-b519-4835-b406-22333b380b2a",
   "metadata": {},
   "outputs": [],
   "source": [
    "l.extend([3,4,5])"
   ]
  },
  {
   "cell_type": "code",
   "execution_count": 24,
   "id": "163bc8d1-dc65-41ab-ab19-256fb13275f6",
   "metadata": {},
   "outputs": [
    {
     "data": {
      "text/plain": [
       "[1,\n",
       " 456,\n",
       " 34,\n",
       " 'anju',\n",
       " True,\n",
       " False,\n",
       " (3+9j),\n",
       " 45.876,\n",
       " 5,\n",
       " 'pwskills',\n",
       " [3, 4, 5],\n",
       " 'a',\n",
       " 'n',\n",
       " 'j',\n",
       " 'u',\n",
       " 3,\n",
       " 4,\n",
       " 5]"
      ]
     },
     "execution_count": 24,
     "metadata": {},
     "output_type": "execute_result"
    }
   ],
   "source": [
    "l"
   ]
  },
  {
   "cell_type": "code",
   "execution_count": 25,
   "id": "1e595ad7-5b63-44b6-bb7d-42d733a33445",
   "metadata": {},
   "outputs": [
    {
     "data": {
      "text/plain": [
       "[3, 4, 5]"
      ]
     },
     "execution_count": 25,
     "metadata": {},
     "output_type": "execute_result"
    }
   ],
   "source": [
    "l1"
   ]
  },
  {
   "cell_type": "markdown",
   "id": "55cb49a2-c36b-4590-9d3a-b05b4976f39e",
   "metadata": {},
   "source": [
    "#### <u>insert() FUNCTION<u>\n",
    "##### The 'insert()' method is used to insert an element at a specified position in a list. This method takes two arguments: the index at which the element should be inserted and the value of the element to be inserted."
   ]
  },
  {
   "cell_type": "code",
   "execution_count": 26,
   "id": "9adf8280-7c81-48ee-9723-bba39a4353e2",
   "metadata": {},
   "outputs": [],
   "source": [
    "l1.insert(1,\"anju\") ## 1 here is index"
   ]
  },
  {
   "cell_type": "code",
   "execution_count": 27,
   "id": "2d2a4b57-a31d-4668-a3e0-ca44bf1204b1",
   "metadata": {},
   "outputs": [
    {
     "data": {
      "text/plain": [
       "[3, 'anju', 4, 5]"
      ]
     },
     "execution_count": 27,
     "metadata": {},
     "output_type": "execute_result"
    }
   ],
   "source": [
    "l1"
   ]
  },
  {
   "cell_type": "code",
   "execution_count": 28,
   "id": "8fd40153-b561-4a55-899d-a5e984f14990",
   "metadata": {},
   "outputs": [],
   "source": [
    "l1.insert(2,[2,3,4])"
   ]
  },
  {
   "cell_type": "code",
   "execution_count": 29,
   "id": "c339866c-e33b-4854-b740-ecea1640a6b5",
   "metadata": {},
   "outputs": [
    {
     "data": {
      "text/plain": [
       "[3, 'anju', [2, 3, 4], 4, 5]"
      ]
     },
     "execution_count": 29,
     "metadata": {},
     "output_type": "execute_result"
    }
   ],
   "source": [
    "l1"
   ]
  },
  {
   "cell_type": "code",
   "execution_count": 30,
   "id": "d976efa9-d71e-4035-b457-fd346a741bbd",
   "metadata": {},
   "outputs": [],
   "source": [
    "l1.insert(2,[2,3,4])"
   ]
  },
  {
   "cell_type": "code",
   "execution_count": 31,
   "id": "0e035467-f437-4d69-92b1-32c671a5ddd4",
   "metadata": {},
   "outputs": [
    {
     "data": {
      "text/plain": [
       "[3, 'anju', [2, 3, 4], [2, 3, 4], 4, 5]"
      ]
     },
     "execution_count": 31,
     "metadata": {},
     "output_type": "execute_result"
    }
   ],
   "source": [
    "l1"
   ]
  },
  {
   "cell_type": "code",
   "execution_count": 34,
   "id": "785cc023-b99f-465a-bb23-27c1615f40f0",
   "metadata": {},
   "outputs": [],
   "source": [
    "l1.insert(-1,45)"
   ]
  },
  {
   "cell_type": "code",
   "execution_count": 35,
   "id": "ed4ab699-a276-40e7-a234-eadc80231d8d",
   "metadata": {},
   "outputs": [
    {
     "data": {
      "text/plain": [
       "[3, 'anju', [2, 3, 4], [2, 3, 4], 4, 45, 5]"
      ]
     },
     "execution_count": 35,
     "metadata": {},
     "output_type": "execute_result"
    }
   ],
   "source": [
    "l1"
   ]
  },
  {
   "cell_type": "code",
   "execution_count": 36,
   "id": "1b8f5dd1-d176-4182-8f33-4e67e61858f3",
   "metadata": {},
   "outputs": [],
   "source": [
    "l1.insert(0,45)"
   ]
  },
  {
   "cell_type": "code",
   "execution_count": 37,
   "id": "250cc407-8117-4e84-9ba7-8d274d946537",
   "metadata": {},
   "outputs": [
    {
     "data": {
      "text/plain": [
       "[45, 3, 'anju', [2, 3, 4], [2, 3, 4], 4, 45, 5]"
      ]
     },
     "execution_count": 37,
     "metadata": {},
     "output_type": "execute_result"
    }
   ],
   "source": [
    "l1"
   ]
  },
  {
   "cell_type": "markdown",
   "id": "485825c8-5e23-4439-a574-f2ab1f920856",
   "metadata": {},
   "source": [
    "#### <u>pop() FUNCTION<u>\n",
    "##### The 'pop()' method is a built-in method used to remove and return an item from a list. The item that is popped can be specified by its index or if the index is not provided, the method will remove and return the last item in the list by default."
   ]
  },
  {
   "cell_type": "code",
   "execution_count": 38,
   "id": "1babb2ff-adb2-46ce-8cce-be485396c17b",
   "metadata": {},
   "outputs": [
    {
     "data": {
      "text/plain": [
       "5"
      ]
     },
     "execution_count": 38,
     "metadata": {},
     "output_type": "execute_result"
    }
   ],
   "source": [
    "l1.pop()"
   ]
  },
  {
   "cell_type": "code",
   "execution_count": 39,
   "id": "d5ab40c9-8cb4-43ad-8a7c-aafbf2297b7e",
   "metadata": {},
   "outputs": [
    {
     "data": {
      "text/plain": [
       "[45, 3, 'anju', [2, 3, 4], [2, 3, 4], 4, 45]"
      ]
     },
     "execution_count": 39,
     "metadata": {},
     "output_type": "execute_result"
    }
   ],
   "source": [
    "l1"
   ]
  },
  {
   "cell_type": "code",
   "execution_count": 40,
   "id": "f22f1a90-acb8-4410-9240-f869550ebb1f",
   "metadata": {},
   "outputs": [
    {
     "data": {
      "text/plain": [
       "45"
      ]
     },
     "execution_count": 40,
     "metadata": {},
     "output_type": "execute_result"
    }
   ],
   "source": [
    "l1.pop()"
   ]
  },
  {
   "cell_type": "code",
   "execution_count": 41,
   "id": "de510db3-6e8c-4ad5-a6f7-8748caa71af9",
   "metadata": {},
   "outputs": [
    {
     "data": {
      "text/plain": [
       "[45, 3, 'anju', [2, 3, 4], [2, 3, 4], 4]"
      ]
     },
     "execution_count": 41,
     "metadata": {},
     "output_type": "execute_result"
    }
   ],
   "source": [
    "l1"
   ]
  },
  {
   "cell_type": "code",
   "execution_count": 42,
   "id": "e233633d-a915-48bc-94cb-be46d47e53d9",
   "metadata": {},
   "outputs": [
    {
     "data": {
      "text/plain": [
       "'anju'"
      ]
     },
     "execution_count": 42,
     "metadata": {},
     "output_type": "execute_result"
    }
   ],
   "source": [
    "l1.pop(2) ## Index 2"
   ]
  },
  {
   "cell_type": "code",
   "execution_count": 43,
   "id": "af0c5c13-8ac1-46a3-8c99-14a94d63edb6",
   "metadata": {},
   "outputs": [
    {
     "data": {
      "text/plain": [
       "[45, 3, [2, 3, 4], [2, 3, 4], 4]"
      ]
     },
     "execution_count": 43,
     "metadata": {},
     "output_type": "execute_result"
    }
   ],
   "source": [
    "l1"
   ]
  },
  {
   "cell_type": "markdown",
   "id": "a2d67f22-076c-4288-b583-778c77277f67",
   "metadata": {},
   "source": [
    "#### <u>remove() FUNCTION<u>\n",
    "##### The 'remove()' function is a built-in function that is used to remove an element from a list. The remove function takes a single argument, which is the value of the item you want to remove from the list. The remove function only removes the first occurrence of the specified item in the list."
   ]
  },
  {
   "cell_type": "code",
   "execution_count": 44,
   "id": "bb468781-0e79-495b-9f3c-1cdbd2df8931",
   "metadata": {},
   "outputs": [],
   "source": [
    "l1.remove(3)"
   ]
  },
  {
   "cell_type": "code",
   "execution_count": 45,
   "id": "5230f144-9310-4916-b2cb-62d0ba6dc1e8",
   "metadata": {},
   "outputs": [
    {
     "data": {
      "text/plain": [
       "[45, [2, 3, 4], [2, 3, 4], 4]"
      ]
     },
     "execution_count": 45,
     "metadata": {},
     "output_type": "execute_result"
    }
   ],
   "source": [
    "l1"
   ]
  },
  {
   "cell_type": "code",
   "execution_count": 46,
   "id": "da5adc57-00ae-4f49-ac4d-04cbeb94a523",
   "metadata": {},
   "outputs": [
    {
     "ename": "ValueError",
     "evalue": "list.remove(x): x not in list",
     "output_type": "error",
     "traceback": [
      "\u001b[0;31m---------------------------------------------------------------------------\u001b[0m",
      "\u001b[0;31mValueError\u001b[0m                                Traceback (most recent call last)",
      "Cell \u001b[0;32mIn[46], line 1\u001b[0m\n\u001b[0;32m----> 1\u001b[0m \u001b[43ml1\u001b[49m\u001b[38;5;241;43m.\u001b[39;49m\u001b[43mremove\u001b[49m\u001b[43m(\u001b[49m\u001b[38;5;241;43m234\u001b[39;49m\u001b[43m)\u001b[49m\n",
      "\u001b[0;31mValueError\u001b[0m: list.remove(x): x not in list"
     ]
    }
   ],
   "source": [
    "l1.remove(234)"
   ]
  },
  {
   "cell_type": "code",
   "execution_count": 49,
   "id": "58cdb320-7505-42cc-90e5-1810740513dc",
   "metadata": {},
   "outputs": [
    {
     "data": {
      "text/plain": [
       "[45, [2, 3, 4], [2, 3, 4], 4]"
      ]
     },
     "execution_count": 49,
     "metadata": {},
     "output_type": "execute_result"
    }
   ],
   "source": [
    "l1"
   ]
  },
  {
   "cell_type": "code",
   "execution_count": 51,
   "id": "0bdcf03f-2881-496c-b0a2-8ed6399e4756",
   "metadata": {},
   "outputs": [],
   "source": [
    "l1[2].remove(3) ## Remove 3 from list [2,3,4]"
   ]
  },
  {
   "cell_type": "code",
   "execution_count": 52,
   "id": "2caff78e-1fca-4b2a-bc94-629c094587e9",
   "metadata": {},
   "outputs": [
    {
     "data": {
      "text/plain": [
       "[45, [2, 3, 4], [2, 4], 4]"
      ]
     },
     "execution_count": 52,
     "metadata": {},
     "output_type": "execute_result"
    }
   ],
   "source": [
    "l1"
   ]
  },
  {
   "cell_type": "code",
   "execution_count": 53,
   "id": "6b168963-b256-46fb-a248-ef38326db7a2",
   "metadata": {},
   "outputs": [],
   "source": [
    "l1.insert(1,\"anju\")"
   ]
  },
  {
   "cell_type": "code",
   "execution_count": 54,
   "id": "5ad9ac2a-4e41-4ceb-87c3-40a6da81141b",
   "metadata": {},
   "outputs": [
    {
     "data": {
      "text/plain": [
       "[45, 'anju', [2, 3, 4], [2, 4], 4]"
      ]
     },
     "execution_count": 54,
     "metadata": {},
     "output_type": "execute_result"
    }
   ],
   "source": [
    "l1"
   ]
  },
  {
   "cell_type": "code",
   "execution_count": 58,
   "id": "ef1cef53-9e2b-4afc-9af7-57d9754725b4",
   "metadata": {},
   "outputs": [],
   "source": [
    "## String is a immutable object so u cannot remove character from a string"
   ]
  },
  {
   "cell_type": "code",
   "execution_count": 59,
   "id": "f7df4203-0d8c-4091-8d94-3dbf051b3d5a",
   "metadata": {},
   "outputs": [],
   "source": [
    "l1.append(4)"
   ]
  },
  {
   "cell_type": "code",
   "execution_count": 60,
   "id": "f1f3a249-deac-4eaf-81f0-b87dfe7f5af7",
   "metadata": {},
   "outputs": [
    {
     "data": {
      "text/plain": [
       "[45, 'anju', [2, 3, 4], [2, 4], 4, 4]"
      ]
     },
     "execution_count": 60,
     "metadata": {},
     "output_type": "execute_result"
    }
   ],
   "source": [
    "l1"
   ]
  },
  {
   "cell_type": "code",
   "execution_count": 61,
   "id": "75c27313-1eb4-4ec0-af91-94191529bff1",
   "metadata": {},
   "outputs": [],
   "source": [
    "l1.remove(4)"
   ]
  },
  {
   "cell_type": "code",
   "execution_count": 62,
   "id": "9e648dab-cd7a-4fa3-8b28-8c8aa73fe766",
   "metadata": {},
   "outputs": [
    {
     "data": {
      "text/plain": [
       "[45, 'anju', [2, 3, 4], [2, 4], 4]"
      ]
     },
     "execution_count": 62,
     "metadata": {},
     "output_type": "execute_result"
    }
   ],
   "source": [
    "l1"
   ]
  },
  {
   "cell_type": "code",
   "execution_count": 63,
   "id": "83282ac5-72cc-46a4-9b3a-538d6412bc41",
   "metadata": {},
   "outputs": [
    {
     "data": {
      "text/plain": [
       "[4, [2, 4], [2, 3, 4], 'anju', 45]"
      ]
     },
     "execution_count": 63,
     "metadata": {},
     "output_type": "execute_result"
    }
   ],
   "source": [
    "l1[::-1] ## Temporary Reverse"
   ]
  },
  {
   "cell_type": "code",
   "execution_count": 67,
   "id": "161b6df8-2412-406e-91e0-5729562f8c42",
   "metadata": {},
   "outputs": [],
   "source": [
    "l2 = l1[::-1] ## Permanent reverse by assigning variable"
   ]
  },
  {
   "cell_type": "code",
   "execution_count": 69,
   "id": "e358bd37-0371-41e0-b608-66b3e3a61e83",
   "metadata": {},
   "outputs": [
    {
     "data": {
      "text/plain": [
       "[45, 'anju', [2, 3, 4], [2, 4], 4]"
      ]
     },
     "execution_count": 69,
     "metadata": {},
     "output_type": "execute_result"
    }
   ],
   "source": [
    "l2"
   ]
  },
  {
   "cell_type": "markdown",
   "id": "5ff8befb-77d1-4347-b1b5-575beccb878b",
   "metadata": {},
   "source": [
    "#### <u>reverse() FUNCTION<u>\n",
    "##### The 'reverse()' function is a built-in function that can be used to reverse the order of the elements in a list. This function modifies the original list."
   ]
  },
  {
   "cell_type": "code",
   "execution_count": 64,
   "id": "1ec8bc13-4b21-4ead-8439-15013ecd74b1",
   "metadata": {},
   "outputs": [],
   "source": [
    "l1.reverse() ## Permanent Reverse"
   ]
  },
  {
   "cell_type": "code",
   "execution_count": 65,
   "id": "5229b9f1-cb08-4839-926f-9324f041a396",
   "metadata": {},
   "outputs": [
    {
     "data": {
      "text/plain": [
       "[4, [2, 4], [2, 3, 4], 'anju', 45]"
      ]
     },
     "execution_count": 65,
     "metadata": {},
     "output_type": "execute_result"
    }
   ],
   "source": [
    "l1"
   ]
  },
  {
   "cell_type": "code",
   "execution_count": 68,
   "id": "42e3ec3c-7b8b-4086-8830-7e001bc6a559",
   "metadata": {},
   "outputs": [
    {
     "data": {
      "text/plain": [
       "[45, 'anju', [2, 3, 4], [2, 4], 4]"
      ]
     },
     "execution_count": 68,
     "metadata": {},
     "output_type": "execute_result"
    }
   ],
   "source": [
    "l2 ## Reverse of new l1 (Line#65)"
   ]
  },
  {
   "cell_type": "markdown",
   "id": "eafe315e-67b5-4786-9646-ba0de4430e0c",
   "metadata": {},
   "source": [
    "#### <u>sort() FUNCTION<u>\n",
    "##### The 'sort()' function is a built-in function used to sort the elements of a list. It sorts the elements in ascending order by default, but it can also sort the elements in descending order by specifying the optional reverse argument as True."
   ]
  },
  {
   "cell_type": "code",
   "execution_count": 70,
   "id": "6c250b87-86eb-405c-9458-dd663dd60aa7",
   "metadata": {},
   "outputs": [
    {
     "ename": "TypeError",
     "evalue": "'<' not supported between instances of 'list' and 'int'",
     "output_type": "error",
     "traceback": [
      "\u001b[0;31m---------------------------------------------------------------------------\u001b[0m",
      "\u001b[0;31mTypeError\u001b[0m                                 Traceback (most recent call last)",
      "Cell \u001b[0;32mIn[70], line 1\u001b[0m\n\u001b[0;32m----> 1\u001b[0m \u001b[43ml1\u001b[49m\u001b[38;5;241;43m.\u001b[39;49m\u001b[43msort\u001b[49m\u001b[43m(\u001b[49m\u001b[43m)\u001b[49m\n",
      "\u001b[0;31mTypeError\u001b[0m: '<' not supported between instances of 'list' and 'int'"
     ]
    }
   ],
   "source": [
    "l1.sort()"
   ]
  },
  {
   "cell_type": "code",
   "execution_count": 74,
   "id": "4b3395a9-327e-44af-aa86-6a3986d3ea20",
   "metadata": {},
   "outputs": [],
   "source": [
    "l3 = [4,4,1,6,2,0,3]"
   ]
  },
  {
   "cell_type": "code",
   "execution_count": 76,
   "id": "63ff06c0-e9b1-4e97-9b3c-f81c8e0bb27e",
   "metadata": {},
   "outputs": [],
   "source": [
    "l3.sort() ## Ascending Order"
   ]
  },
  {
   "cell_type": "code",
   "execution_count": 77,
   "id": "7267cfcd-d4af-44d5-9231-755c03f03972",
   "metadata": {},
   "outputs": [
    {
     "data": {
      "text/plain": [
       "[0, 1, 2, 3, 4, 4, 6]"
      ]
     },
     "execution_count": 77,
     "metadata": {},
     "output_type": "execute_result"
    }
   ],
   "source": [
    "l3"
   ]
  },
  {
   "cell_type": "code",
   "execution_count": 79,
   "id": "b69ae206-6cd9-4c99-ad56-5ad7fb01f0a1",
   "metadata": {},
   "outputs": [
    {
     "data": {
      "text/plain": [
       "[0, 1, 2, 3, 4, 4, 6]"
      ]
     },
     "execution_count": 79,
     "metadata": {},
     "output_type": "execute_result"
    }
   ],
   "source": [
    "l3 ## Permanent Operation"
   ]
  },
  {
   "cell_type": "code",
   "execution_count": 80,
   "id": "b167e966-261b-4933-8153-592eea6f6786",
   "metadata": {},
   "outputs": [],
   "source": [
    "l4 = [34, \"anju\", 45, 12, \"soman\"]"
   ]
  },
  {
   "cell_type": "code",
   "execution_count": 81,
   "id": "9a673cf2-accc-445e-8478-a0d186574759",
   "metadata": {},
   "outputs": [
    {
     "ename": "TypeError",
     "evalue": "'<' not supported between instances of 'str' and 'int'",
     "output_type": "error",
     "traceback": [
      "\u001b[0;31m---------------------------------------------------------------------------\u001b[0m",
      "\u001b[0;31mTypeError\u001b[0m                                 Traceback (most recent call last)",
      "Cell \u001b[0;32mIn[81], line 1\u001b[0m\n\u001b[0;32m----> 1\u001b[0m \u001b[43ml4\u001b[49m\u001b[38;5;241;43m.\u001b[39;49m\u001b[43msort\u001b[49m\u001b[43m(\u001b[49m\u001b[43m)\u001b[49m\n",
      "\u001b[0;31mTypeError\u001b[0m: '<' not supported between instances of 'str' and 'int'"
     ]
    }
   ],
   "source": [
    "l4.sort() ## Comparison between Str and int is not possible"
   ]
  },
  {
   "cell_type": "code",
   "execution_count": 82,
   "id": "b32f406b-4f5c-484a-833b-f0beccc743c3",
   "metadata": {},
   "outputs": [],
   "source": [
    "l5 = [\"anju\", \"soman\", \"pwskills\", \"data science\"]"
   ]
  },
  {
   "cell_type": "code",
   "execution_count": 83,
   "id": "3266b8a9-148f-4b35-9e1a-ded06fb4c1e3",
   "metadata": {},
   "outputs": [],
   "source": [
    "l5.sort()"
   ]
  },
  {
   "cell_type": "code",
   "execution_count": 84,
   "id": "ad2d164c-769a-402e-bf55-06584c33d5cc",
   "metadata": {},
   "outputs": [
    {
     "data": {
      "text/plain": [
       "['anju', 'data science', 'pwskills', 'soman']"
      ]
     },
     "execution_count": 84,
     "metadata": {},
     "output_type": "execute_result"
    }
   ],
   "source": [
    "l5 ## Ascending Alphabetical Order"
   ]
  },
  {
   "cell_type": "code",
   "execution_count": 85,
   "id": "08f4d69d-31f7-42c7-9e1a-dbb321b39434",
   "metadata": {},
   "outputs": [],
   "source": [
    "l5.sort(reverse=True)"
   ]
  },
  {
   "cell_type": "code",
   "execution_count": 86,
   "id": "948f25a0-287b-4b4e-bf80-e56c97d87179",
   "metadata": {},
   "outputs": [
    {
     "data": {
      "text/plain": [
       "['soman', 'pwskills', 'data science', 'anju']"
      ]
     },
     "execution_count": 86,
     "metadata": {},
     "output_type": "execute_result"
    }
   ],
   "source": [
    "l5"
   ]
  },
  {
   "cell_type": "markdown",
   "id": "588dd5ff-6cbc-459c-869c-04be6aa0556c",
   "metadata": {},
   "source": [
    "#### <u>index() FUNCTION<u>\n",
    "##### The 'index()' function is used to search for the first occurrence of a specified value in a list or a string and returns its index position."
   ]
  },
  {
   "cell_type": "code",
   "execution_count": 87,
   "id": "b3843f26-585e-472b-9724-d0128fc374d4",
   "metadata": {},
   "outputs": [
    {
     "data": {
      "text/plain": [
       "3"
      ]
     },
     "execution_count": 87,
     "metadata": {},
     "output_type": "execute_result"
    }
   ],
   "source": [
    "l5.index(\"anju\")"
   ]
  },
  {
   "cell_type": "code",
   "execution_count": 88,
   "id": "bb05c41a-1f68-46b0-aa6c-37475f4d2543",
   "metadata": {},
   "outputs": [
    {
     "data": {
      "text/plain": [
       "1"
      ]
     },
     "execution_count": 88,
     "metadata": {},
     "output_type": "execute_result"
    }
   ],
   "source": [
    "l5.count(\"anju\") ## Total No. Of Occurence"
   ]
  },
  {
   "cell_type": "code",
   "execution_count": 89,
   "id": "8e2925aa-ad3c-41a9-9c34-68219c8c9b39",
   "metadata": {},
   "outputs": [],
   "source": [
    "s = \"anju\""
   ]
  },
  {
   "cell_type": "code",
   "execution_count": 90,
   "id": "c9a0223c-f95d-471a-9c37-9a712dcbc91e",
   "metadata": {},
   "outputs": [],
   "source": [
    "l6 = [3,4,5,6]"
   ]
  },
  {
   "cell_type": "code",
   "execution_count": 91,
   "id": "d81413ec-814c-44b9-acf6-cb5fca1aa78a",
   "metadata": {},
   "outputs": [
    {
     "data": {
      "text/plain": [
       "'a'"
      ]
     },
     "execution_count": 91,
     "metadata": {},
     "output_type": "execute_result"
    }
   ],
   "source": [
    "s[0]"
   ]
  },
  {
   "cell_type": "code",
   "execution_count": 92,
   "id": "2e4d5ee6-7a71-47f1-8e5d-24e8d4060413",
   "metadata": {},
   "outputs": [
    {
     "ename": "TypeError",
     "evalue": "'str' object does not support item assignment",
     "output_type": "error",
     "traceback": [
      "\u001b[0;31m---------------------------------------------------------------------------\u001b[0m",
      "\u001b[0;31mTypeError\u001b[0m                                 Traceback (most recent call last)",
      "Cell \u001b[0;32mIn[92], line 1\u001b[0m\n\u001b[0;32m----> 1\u001b[0m \u001b[43ms\u001b[49m\u001b[43m[\u001b[49m\u001b[38;5;241;43m0\u001b[39;49m\u001b[43m]\u001b[49m \u001b[38;5;241m=\u001b[39m \u001b[38;5;124m\"\u001b[39m\u001b[38;5;124ma\u001b[39m\u001b[38;5;124m\"\u001b[39m\n",
      "\u001b[0;31mTypeError\u001b[0m: 'str' object does not support item assignment"
     ]
    }
   ],
   "source": [
    "s[0] = \"a\""
   ]
  },
  {
   "cell_type": "code",
   "execution_count": 93,
   "id": "73c9f1b5-374a-4c74-8449-3dc049df2d97",
   "metadata": {},
   "outputs": [
    {
     "data": {
      "text/plain": [
       "3"
      ]
     },
     "execution_count": 93,
     "metadata": {},
     "output_type": "execute_result"
    }
   ],
   "source": [
    "l6[0]"
   ]
  },
  {
   "cell_type": "code",
   "execution_count": 94,
   "id": "1a4d7c27-6b79-4aac-bbca-097bb744941d",
   "metadata": {},
   "outputs": [],
   "source": [
    "l6[0] = 30"
   ]
  },
  {
   "cell_type": "code",
   "execution_count": 95,
   "id": "471d9288-f9f8-4393-a03a-a0ffee4075de",
   "metadata": {},
   "outputs": [
    {
     "data": {
      "text/plain": [
       "[30, 4, 5, 6]"
      ]
     },
     "execution_count": 95,
     "metadata": {},
     "output_type": "execute_result"
    }
   ],
   "source": [
    "l6"
   ]
  },
  {
   "cell_type": "markdown",
   "id": "1ceab023-35fb-433c-8960-632430abd904",
   "metadata": {},
   "source": [
    "#### <u>replace() FUNCTION<u>\n",
    "##### The 'replace()' function is a string method that is used to replace one or more occurrences of a substring in a string with another substring."
   ]
  },
  {
   "cell_type": "code",
   "execution_count": 96,
   "id": "99491f2a-440f-4bb6-b7ca-e95a68ca7dbd",
   "metadata": {},
   "outputs": [
    {
     "data": {
      "text/plain": [
       "'anju'"
      ]
     },
     "execution_count": 96,
     "metadata": {},
     "output_type": "execute_result"
    }
   ],
   "source": [
    "s"
   ]
  },
  {
   "cell_type": "code",
   "execution_count": 97,
   "id": "2eae1892-4b72-4326-ab89-af3da2928eed",
   "metadata": {},
   "outputs": [
    {
     "data": {
      "text/plain": [
       "'tnju'"
      ]
     },
     "execution_count": 97,
     "metadata": {},
     "output_type": "execute_result"
    }
   ],
   "source": [
    "s.replace(\"a\" , \"t\")"
   ]
  },
  {
   "cell_type": "code",
   "execution_count": 98,
   "id": "71754316-2088-49e5-b317-81bb02d198a5",
   "metadata": {},
   "outputs": [
    {
     "data": {
      "text/plain": [
       "'anju'"
      ]
     },
     "execution_count": 98,
     "metadata": {},
     "output_type": "execute_result"
    }
   ],
   "source": [
    "s"
   ]
  },
  {
   "cell_type": "markdown",
   "id": "fc72fa68-1e09-4707-bbe0-3552bb49c778",
   "metadata": {},
   "source": [
    "#### <u>TUPLE<u>\n",
    "##### A tuple is a collection of ordered, immutable elements that can be of different data types. The elements in a tuple are separated by commas and enclosed in round brackets ( ) or parentheses. Unlike lists, tuples cannot be modified after creation, which makes them more suitable for tasks where data integrity is important."
   ]
  },
  {
   "cell_type": "code",
   "execution_count": 102,
   "id": "64a63294-256c-4baa-965d-1e6ebe350b2e",
   "metadata": {},
   "outputs": [],
   "source": [
    "t = (1,3,5,7,9, \"anju\", 56.98, True, 5+4j, [3,4,5])"
   ]
  },
  {
   "cell_type": "code",
   "execution_count": 103,
   "id": "22747be9-2e49-4b39-acda-d2e4c7451c40",
   "metadata": {},
   "outputs": [
    {
     "data": {
      "text/plain": [
       "(1, 3, 5, 7, 9, 'anju', 56.98, True, (5+4j), [3, 4, 5])"
      ]
     },
     "execution_count": 103,
     "metadata": {},
     "output_type": "execute_result"
    }
   ],
   "source": [
    "t"
   ]
  },
  {
   "cell_type": "code",
   "execution_count": 104,
   "id": "700dfe66-9e97-43ee-a896-68ed94a49ebb",
   "metadata": {},
   "outputs": [
    {
     "data": {
      "text/plain": [
       "tuple"
      ]
     },
     "execution_count": 104,
     "metadata": {},
     "output_type": "execute_result"
    }
   ],
   "source": [
    "type(t)"
   ]
  },
  {
   "cell_type": "code",
   "execution_count": 105,
   "id": "ac006cbb-c7db-422e-a8a0-fe90605d6d92",
   "metadata": {},
   "outputs": [
    {
     "data": {
      "text/plain": [
       "10"
      ]
     },
     "execution_count": 105,
     "metadata": {},
     "output_type": "execute_result"
    }
   ],
   "source": [
    "len(t)"
   ]
  },
  {
   "cell_type": "code",
   "execution_count": 106,
   "id": "1aae7937-8217-4b6e-a9d4-b0e2d15278e5",
   "metadata": {},
   "outputs": [
    {
     "data": {
      "text/plain": [
       "1"
      ]
     },
     "execution_count": 106,
     "metadata": {},
     "output_type": "execute_result"
    }
   ],
   "source": [
    "t[0]"
   ]
  },
  {
   "cell_type": "code",
   "execution_count": 108,
   "id": "fa9a57f4-c668-476f-94bb-c855a0a01e08",
   "metadata": {},
   "outputs": [
    {
     "data": {
      "text/plain": [
       "[3, 4, 5]"
      ]
     },
     "execution_count": 108,
     "metadata": {},
     "output_type": "execute_result"
    }
   ],
   "source": [
    "t[-1]"
   ]
  },
  {
   "cell_type": "code",
   "execution_count": 109,
   "id": "a3c0ece7-65fb-4b4a-8ee0-22d1b2dc4d4d",
   "metadata": {},
   "outputs": [
    {
     "data": {
      "text/plain": [
       "([3, 4, 5], (5+4j), True, 56.98, 'anju', 9, 7, 5, 3, 1)"
      ]
     },
     "execution_count": 109,
     "metadata": {},
     "output_type": "execute_result"
    }
   ],
   "source": [
    "t[::-1]"
   ]
  },
  {
   "cell_type": "code",
   "execution_count": 110,
   "id": "854043cf-e580-45fc-8145-7d1a654060d6",
   "metadata": {},
   "outputs": [
    {
     "data": {
      "text/plain": [
       "['soman', 'pwskills', 'data science', 'anju']"
      ]
     },
     "execution_count": 110,
     "metadata": {},
     "output_type": "execute_result"
    }
   ],
   "source": [
    "l5"
   ]
  },
  {
   "cell_type": "code",
   "execution_count": 111,
   "id": "bb7dceef-034c-4938-8777-2232a7abdcc8",
   "metadata": {},
   "outputs": [],
   "source": [
    "l5[0] = 567899"
   ]
  },
  {
   "cell_type": "code",
   "execution_count": 112,
   "id": "c05c5ce9-681b-445e-b38d-8bf9852b297f",
   "metadata": {},
   "outputs": [
    {
     "data": {
      "text/plain": [
       "[567899, 'pwskills', 'data science', 'anju']"
      ]
     },
     "execution_count": 112,
     "metadata": {},
     "output_type": "execute_result"
    }
   ],
   "source": [
    "l5"
   ]
  },
  {
   "cell_type": "code",
   "execution_count": 113,
   "id": "817288d6-2e37-4f21-a52f-3b31b1fbdba6",
   "metadata": {},
   "outputs": [
    {
     "data": {
      "text/plain": [
       "(1, 3, 5, 7, 9, 'anju', 56.98, True, (5+4j), [3, 4, 5])"
      ]
     },
     "execution_count": 113,
     "metadata": {},
     "output_type": "execute_result"
    }
   ],
   "source": [
    "t"
   ]
  },
  {
   "cell_type": "code",
   "execution_count": 114,
   "id": "509d2784-20a0-4913-ba2f-e77fdcf6dc98",
   "metadata": {},
   "outputs": [
    {
     "data": {
      "text/plain": [
       "1"
      ]
     },
     "execution_count": 114,
     "metadata": {},
     "output_type": "execute_result"
    }
   ],
   "source": [
    "t[0]"
   ]
  },
  {
   "cell_type": "code",
   "execution_count": 115,
   "id": "c9fc367a-d424-45d0-b44f-906a5c79fdde",
   "metadata": {},
   "outputs": [
    {
     "ename": "TypeError",
     "evalue": "'tuple' object does not support item assignment",
     "output_type": "error",
     "traceback": [
      "\u001b[0;31m---------------------------------------------------------------------------\u001b[0m",
      "\u001b[0;31mTypeError\u001b[0m                                 Traceback (most recent call last)",
      "Cell \u001b[0;32mIn[115], line 1\u001b[0m\n\u001b[0;32m----> 1\u001b[0m \u001b[43mt\u001b[49m\u001b[43m[\u001b[49m\u001b[38;5;241;43m0\u001b[39;49m\u001b[43m]\u001b[49m \u001b[38;5;241m=\u001b[39m \u001b[38;5;124m\"\u001b[39m\u001b[38;5;124ma\u001b[39m\u001b[38;5;124m\"\u001b[39m\n",
      "\u001b[0;31mTypeError\u001b[0m: 'tuple' object does not support item assignment"
     ]
    }
   ],
   "source": [
    "t[0] = \"a\""
   ]
  },
  {
   "cell_type": "code",
   "execution_count": 116,
   "id": "fc42cd79-d979-4e78-bd24-ccf8938c1165",
   "metadata": {},
   "outputs": [],
   "source": [
    "## String, Tuple ::: Immutable\n",
    "## List ::: Mutable"
   ]
  },
  {
   "cell_type": "markdown",
   "id": "9e40fc97-cf09-4a3e-89b5-6290c9700515",
   "metadata": {},
   "source": [
    "#### <u>MUTABILITY-IMMUTABILITY CONCEPT<u>\n",
    "##### Mutability refers to the ability of an object to change its state or value. Objects are either mutable or immutable. Mutable objects can be changed after they have been created, whereas immutable objects cannot be changed once they have been created. For example, because a list is mutable, you can add or remove elements from it after it has been created. However, because a string is immutable, you cannot modify a string once it has been created. Instead, you must create a new string with the desired modifications."
   ]
  },
  {
   "cell_type": "code",
   "execution_count": 117,
   "id": "34de2bf3-a627-4947-bcd8-91b7c75069b7",
   "metadata": {},
   "outputs": [
    {
     "data": {
      "text/plain": [
       "(1, 3, 5, 7, 9, 'anju', 56.98, True, (5+4j), [3, 4, 5])"
      ]
     },
     "execution_count": 117,
     "metadata": {},
     "output_type": "execute_result"
    }
   ],
   "source": [
    "t"
   ]
  },
  {
   "cell_type": "code",
   "execution_count": 118,
   "id": "6c7e53a2-7023-42ae-afe4-ec0ee367476b",
   "metadata": {},
   "outputs": [
    {
     "data": {
      "text/plain": [
       "([3, 4, 5], (5+4j), True, 56.98, 'anju', 9, 7, 5, 3, 1)"
      ]
     },
     "execution_count": 118,
     "metadata": {},
     "output_type": "execute_result"
    }
   ],
   "source": [
    "t[::-1]"
   ]
  },
  {
   "cell_type": "code",
   "execution_count": 119,
   "id": "5712c77f-048f-413d-b86e-95205b2c4051",
   "metadata": {},
   "outputs": [
    {
     "data": {
      "text/plain": [
       "1"
      ]
     },
     "execution_count": 119,
     "metadata": {},
     "output_type": "execute_result"
    }
   ],
   "source": [
    "t.count(9)"
   ]
  },
  {
   "cell_type": "code",
   "execution_count": 120,
   "id": "aff4184a-66aa-4ede-8427-d60516fc1af6",
   "metadata": {},
   "outputs": [
    {
     "data": {
      "text/plain": [
       "4"
      ]
     },
     "execution_count": 120,
     "metadata": {},
     "output_type": "execute_result"
    }
   ],
   "source": [
    "t.index(9)"
   ]
  },
  {
   "cell_type": "code",
   "execution_count": 121,
   "id": "820e4970-dc72-45e2-a363-7c2ba75bf0a7",
   "metadata": {},
   "outputs": [
    {
     "data": {
      "text/plain": [
       "(1, 3, 5, 7, 9, 'anju', 56.98, True, (5+4j), [3, 4, 5])"
      ]
     },
     "execution_count": 121,
     "metadata": {},
     "output_type": "execute_result"
    }
   ],
   "source": [
    "t"
   ]
  },
  {
   "cell_type": "markdown",
   "id": "93deb73f-0b86-4550-9b97-f81524b10fae",
   "metadata": {},
   "source": [
    "#### <u>SET<u>\n",
    "##### A set is a collection data type that is unordered, mutable, and has no duplicate elements. It is used to store multiple items in a single variable and is defined using curly braces {} or the 'set()' function. The elements in a set can be of any type, including numbers, strings, and other data structures like lists and tuples."
   ]
  },
  {
   "cell_type": "code",
   "execution_count": 122,
   "id": "6ac0f18e-3f6b-4028-bccb-221ded614a18",
   "metadata": {},
   "outputs": [],
   "source": [
    "s1 = {}"
   ]
  },
  {
   "cell_type": "code",
   "execution_count": 124,
   "id": "7f6bf06a-c99a-4feb-9229-e40d2100379a",
   "metadata": {},
   "outputs": [
    {
     "data": {
      "text/plain": [
       "dict"
      ]
     },
     "execution_count": 124,
     "metadata": {},
     "output_type": "execute_result"
    }
   ],
   "source": [
    "type(s1)"
   ]
  },
  {
   "cell_type": "code",
   "execution_count": 125,
   "id": "ffa1d14f-0d92-4163-b820-a6a4e2652c2d",
   "metadata": {},
   "outputs": [],
   "source": [
    "s2 = {2.7,9,0}"
   ]
  },
  {
   "cell_type": "code",
   "execution_count": 127,
   "id": "f763f1a5-6e18-4ee5-999f-1eade631e366",
   "metadata": {},
   "outputs": [
    {
     "data": {
      "text/plain": [
       "set"
      ]
     },
     "execution_count": 127,
     "metadata": {},
     "output_type": "execute_result"
    }
   ],
   "source": [
    "type(s2)"
   ]
  },
  {
   "cell_type": "code",
   "execution_count": 128,
   "id": "914748cf-3418-48ef-a98b-17a51a26823f",
   "metadata": {},
   "outputs": [],
   "source": [
    "s3 = {234,567,\"anju\",23.890,3+7j,(3,4,5)}"
   ]
  },
  {
   "cell_type": "code",
   "execution_count": 129,
   "id": "1d135779-9cee-4bc9-b4cc-bfb37de2010a",
   "metadata": {},
   "outputs": [
    {
     "data": {
      "text/plain": [
       "{(3+7j), (3, 4, 5), 23.89, 234, 567, 'anju'}"
      ]
     },
     "execution_count": 129,
     "metadata": {},
     "output_type": "execute_result"
    }
   ],
   "source": [
    "s3"
   ]
  },
  {
   "cell_type": "code",
   "execution_count": 130,
   "id": "77bf3cab-7034-4bca-9236-6e0e229f2599",
   "metadata": {},
   "outputs": [
    {
     "ename": "TypeError",
     "evalue": "unhashable type: 'list'",
     "output_type": "error",
     "traceback": [
      "\u001b[0;31m---------------------------------------------------------------------------\u001b[0m",
      "\u001b[0;31mTypeError\u001b[0m                                 Traceback (most recent call last)",
      "Cell \u001b[0;32mIn[130], line 1\u001b[0m\n\u001b[0;32m----> 1\u001b[0m s3 \u001b[38;5;241m=\u001b[39m {\u001b[38;5;241m234\u001b[39m,\u001b[38;5;241m567\u001b[39m,\u001b[38;5;124m\"\u001b[39m\u001b[38;5;124manju\u001b[39m\u001b[38;5;124m\"\u001b[39m,\u001b[38;5;241m23.890\u001b[39m,\u001b[38;5;241m3\u001b[39m\u001b[38;5;241m+\u001b[39m\u001b[38;5;241m7\u001b[39mj,(\u001b[38;5;241m3\u001b[39m,\u001b[38;5;241m4\u001b[39m,\u001b[38;5;241m5\u001b[39m),[\u001b[38;5;241m0\u001b[39m,\u001b[38;5;241m8\u001b[39m,\u001b[38;5;241m9\u001b[39m]}\n",
      "\u001b[0;31mTypeError\u001b[0m: unhashable type: 'list'"
     ]
    }
   ],
   "source": [
    "## Will Not Accept List Coz It Is Mutable\n",
    "s3 = {234,567,\"anju\",23.890,3+7j,(3,4,5),[0,8,9]}"
   ]
  },
  {
   "cell_type": "code",
   "execution_count": 131,
   "id": "7eed6a94-d796-4c99-9774-fd32c22361cc",
   "metadata": {},
   "outputs": [],
   "source": [
    "s4 = {2,3,4,5,6,7,8,9,0,1,2,3,4,5,6,7}"
   ]
  },
  {
   "cell_type": "code",
   "execution_count": 132,
   "id": "5f826cd3-4bbd-45f8-9d84-59a1867410a3",
   "metadata": {},
   "outputs": [
    {
     "data": {
      "text/plain": [
       "{0, 1, 2, 3, 4, 5, 6, 7, 8, 9}"
      ]
     },
     "execution_count": 132,
     "metadata": {},
     "output_type": "execute_result"
    }
   ],
   "source": [
    "s4"
   ]
  },
  {
   "cell_type": "code",
   "execution_count": 133,
   "id": "042bbfef-d132-4e99-8c8b-40efa4fa25a6",
   "metadata": {},
   "outputs": [],
   "source": [
    "s4 = {2,3,4,5,6,7,8,9,0,1,2,3,4,5,6,7,\"anju\",\"Anju\"}"
   ]
  },
  {
   "cell_type": "code",
   "execution_count": 134,
   "id": "58120fdc-771d-440a-a89e-eeef4bcce9f8",
   "metadata": {},
   "outputs": [
    {
     "data": {
      "text/plain": [
       "{0, 1, 2, 3, 4, 5, 6, 7, 8, 9, 'Anju', 'anju'}"
      ]
     },
     "execution_count": 134,
     "metadata": {},
     "output_type": "execute_result"
    }
   ],
   "source": [
    "s4"
   ]
  },
  {
   "cell_type": "code",
   "execution_count": 135,
   "id": "1cc46e6d-bd14-4de3-979b-888c455cd5a9",
   "metadata": {},
   "outputs": [],
   "source": [
    "l7 = [2,3,4,5,6,7,8,9,0,1,2,3,4,5,6,7,\"anju\",\"Anju\"]"
   ]
  },
  {
   "cell_type": "code",
   "execution_count": 136,
   "id": "4d08b424-a1d3-4dc1-b117-7d6019dd8230",
   "metadata": {},
   "outputs": [
    {
     "data": {
      "text/plain": [
       "{0, 1, 2, 3, 4, 5, 6, 7, 8, 9, 'Anju', 'anju'}"
      ]
     },
     "execution_count": 136,
     "metadata": {},
     "output_type": "execute_result"
    }
   ],
   "source": [
    "set(l7)"
   ]
  },
  {
   "cell_type": "code",
   "execution_count": 137,
   "id": "4144c2f7-f4d1-4d78-8071-cf3d2868b63d",
   "metadata": {},
   "outputs": [],
   "source": [
    "l7 = set(l7)"
   ]
  },
  {
   "cell_type": "code",
   "execution_count": 138,
   "id": "aa0b8062-9214-4cd9-bc5d-44624351cbe8",
   "metadata": {},
   "outputs": [
    {
     "data": {
      "text/plain": [
       "{0, 1, 2, 3, 4, 5, 6, 7, 8, 9, 'Anju', 'anju'}"
      ]
     },
     "execution_count": 138,
     "metadata": {},
     "output_type": "execute_result"
    }
   ],
   "source": [
    "l7"
   ]
  },
  {
   "cell_type": "code",
   "execution_count": 139,
   "id": "df8eba03-032d-4195-8722-5979f5461488",
   "metadata": {},
   "outputs": [],
   "source": [
    "l7 = list(set(l7))"
   ]
  },
  {
   "cell_type": "code",
   "execution_count": 140,
   "id": "9988735f-9943-4bea-85e9-b54bd5262df0",
   "metadata": {},
   "outputs": [
    {
     "data": {
      "text/plain": [
       "[0, 1, 2, 3, 4, 5, 6, 7, 8, 9, 'Anju', 'anju']"
      ]
     },
     "execution_count": 140,
     "metadata": {},
     "output_type": "execute_result"
    }
   ],
   "source": [
    "l7"
   ]
  },
  {
   "cell_type": "code",
   "execution_count": 143,
   "id": "8a34bd43-87a5-4e73-8102-0f6501627661",
   "metadata": {},
   "outputs": [],
   "source": [
    "l8 = {456,874,897,8,78,65,\"abc\",457,198}"
   ]
  },
  {
   "cell_type": "code",
   "execution_count": 144,
   "id": "c73832b8-6521-402c-b0ae-d426bc2076d1",
   "metadata": {},
   "outputs": [
    {
     "data": {
      "text/plain": [
       "{198, 456, 457, 65, 78, 8, 874, 897, 'abc'}"
      ]
     },
     "execution_count": 144,
     "metadata": {},
     "output_type": "execute_result"
    }
   ],
   "source": [
    "l8"
   ]
  },
  {
   "cell_type": "code",
   "execution_count": 146,
   "id": "448e0223-3e5d-40bf-ada8-a00570b4b1bb",
   "metadata": {},
   "outputs": [
    {
     "ename": "TypeError",
     "evalue": "'set' object is not subscriptable",
     "output_type": "error",
     "traceback": [
      "\u001b[0;31m---------------------------------------------------------------------------\u001b[0m",
      "\u001b[0;31mTypeError\u001b[0m                                 Traceback (most recent call last)",
      "Cell \u001b[0;32mIn[146], line 1\u001b[0m\n\u001b[0;32m----> 1\u001b[0m \u001b[43ml8\u001b[49m\u001b[43m[\u001b[49m\u001b[38;5;241;43m0\u001b[39;49m\u001b[43m]\u001b[49m\n",
      "\u001b[0;31mTypeError\u001b[0m: 'set' object is not subscriptable"
     ]
    }
   ],
   "source": [
    "l8[0]"
   ]
  },
  {
   "cell_type": "code",
   "execution_count": 147,
   "id": "e40f5840-2761-41a2-b3d3-95fd1ad7fbf0",
   "metadata": {},
   "outputs": [
    {
     "ename": "TypeError",
     "evalue": "'set' object is not subscriptable",
     "output_type": "error",
     "traceback": [
      "\u001b[0;31m---------------------------------------------------------------------------\u001b[0m",
      "\u001b[0;31mTypeError\u001b[0m                                 Traceback (most recent call last)",
      "Cell \u001b[0;32mIn[147], line 1\u001b[0m\n\u001b[0;32m----> 1\u001b[0m \u001b[43ml8\u001b[49m\u001b[43m[\u001b[49m\u001b[43m:\u001b[49m\u001b[43m:\u001b[49m\u001b[38;5;241;43m-\u001b[39;49m\u001b[38;5;241;43m1\u001b[39;49m\u001b[43m]\u001b[49m\n",
      "\u001b[0;31mTypeError\u001b[0m: 'set' object is not subscriptable"
     ]
    }
   ],
   "source": [
    "l8[::-1]"
   ]
  },
  {
   "cell_type": "code",
   "execution_count": 148,
   "id": "3895a5bd-99d4-4ef5-90d2-3820417ea6ec",
   "metadata": {},
   "outputs": [],
   "source": [
    "l8.add(4)"
   ]
  },
  {
   "cell_type": "code",
   "execution_count": 149,
   "id": "f76d5e4a-2167-4470-8485-8446470fc0bd",
   "metadata": {},
   "outputs": [
    {
     "data": {
      "text/plain": [
       "{198, 4, 456, 457, 65, 78, 8, 874, 897, 'abc'}"
      ]
     },
     "execution_count": 149,
     "metadata": {},
     "output_type": "execute_result"
    }
   ],
   "source": [
    "l8"
   ]
  },
  {
   "cell_type": "code",
   "execution_count": 150,
   "id": "fb8fd707-a6ac-4faa-b21d-ced6444741f7",
   "metadata": {},
   "outputs": [],
   "source": [
    "l8.remove(4)"
   ]
  },
  {
   "cell_type": "code",
   "execution_count": 151,
   "id": "4114b6bb-a42b-4f96-bdd0-3052d339a63a",
   "metadata": {},
   "outputs": [
    {
     "data": {
      "text/plain": [
       "{198, 456, 457, 65, 78, 8, 874, 897, 'abc'}"
      ]
     },
     "execution_count": 151,
     "metadata": {},
     "output_type": "execute_result"
    }
   ],
   "source": [
    "l8"
   ]
  }
 ],
 "metadata": {
  "kernelspec": {
   "display_name": "Python 3 (ipykernel)",
   "language": "python",
   "name": "python3"
  },
  "language_info": {
   "codemirror_mode": {
    "name": "ipython",
    "version": 3
   },
   "file_extension": ".py",
   "mimetype": "text/x-python",
   "name": "python",
   "nbconvert_exporter": "python",
   "pygments_lexer": "ipython3",
   "version": "3.10.8"
  }
 },
 "nbformat": 4,
 "nbformat_minor": 5
}
