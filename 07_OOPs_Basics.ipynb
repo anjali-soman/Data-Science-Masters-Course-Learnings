{
 "cells": [
  {
   "cell_type": "markdown",
   "id": "fe4808a2-6631-4312-8008-7a113cfbc6cb",
   "metadata": {},
   "source": [
    "#### <u>OOPs BASICS<u>\n",
    "##### OOP stands for Object-Oriented Programming. It uses objects and classes to organize code and data."
   ]
  },
  {
   "cell_type": "code",
   "execution_count": 1,
   "id": "c9526cf5-2da4-4565-80f1-a9705fd9a740",
   "metadata": {},
   "outputs": [
    {
     "name": "stdout",
     "output_type": "stream",
     "text": [
      "<class 'int'>\n"
     ]
    }
   ],
   "source": [
    "a = 1\n",
    "print(type(a))"
   ]
  },
  {
   "cell_type": "code",
   "execution_count": 2,
   "id": "356339f3-0792-4a38-b662-ffba422517a9",
   "metadata": {},
   "outputs": [
    {
     "name": "stdout",
     "output_type": "stream",
     "text": [
      "<class 'str'>\n"
     ]
    }
   ],
   "source": [
    "print(type(\"pwskills\"))"
   ]
  },
  {
   "cell_type": "markdown",
   "id": "9c936366-4002-4ab2-abe7-0c79f764a216",
   "metadata": {},
   "source": [
    "#### <u>Class<u>\n",
    "##### A blueprint or template for creating objects. A class can have attributes (variables) and methods (functions).\n",
    "#### <u>Object<u>\n",
    "##### An instance of a class. It contains the data and methods defined in the class."
   ]
  },
  {
   "cell_type": "code",
   "execution_count": 4,
   "id": "531796f4-d0ae-4831-a5b5-03dad14a0ba3",
   "metadata": {},
   "outputs": [],
   "source": [
    "class test :\n",
    "    pass"
   ]
  },
  {
   "cell_type": "code",
   "execution_count": 5,
   "id": "68b5c83c-521a-475b-826a-567a3ee05c8c",
   "metadata": {},
   "outputs": [],
   "source": [
    "a = test()"
   ]
  },
  {
   "cell_type": "code",
   "execution_count": 6,
   "id": "1fac367c-c5da-42aa-ae98-dfa02aa0ac6d",
   "metadata": {},
   "outputs": [
    {
     "data": {
      "text/plain": [
       "__main__.test"
      ]
     },
     "execution_count": 6,
     "metadata": {},
     "output_type": "execute_result"
    }
   ],
   "source": [
    "type(a)"
   ]
  },
  {
   "cell_type": "code",
   "execution_count": 7,
   "id": "da925cca-bfce-4d25-9c87-27aa57cdd21a",
   "metadata": {},
   "outputs": [
    {
     "name": "stdout",
     "output_type": "stream",
     "text": [
      "<class '__main__.test'>\n"
     ]
    }
   ],
   "source": [
    "print(type(a))"
   ]
  },
  {
   "cell_type": "code",
   "execution_count": 14,
   "id": "97b3bd01-6723-4529-875e-3137b52fcf8b",
   "metadata": {},
   "outputs": [],
   "source": [
    "class pwskills :\n",
    "    def welcome_msg():\n",
    "        print(\"Welcome To PWSKILLS\")"
   ]
  },
  {
   "cell_type": "code",
   "execution_count": 22,
   "id": "e38467a1-bca2-452e-92a4-364baab7d848",
   "metadata": {},
   "outputs": [],
   "source": [
    "Rohan = pwskills()"
   ]
  },
  {
   "cell_type": "code",
   "execution_count": 23,
   "id": "0fe54cd0-ca88-472b-8999-18f659403ed0",
   "metadata": {},
   "outputs": [
    {
     "name": "stdout",
     "output_type": "stream",
     "text": [
      "<class '__main__.pwskills'>\n"
     ]
    }
   ],
   "source": [
    "print(type(Rohan))"
   ]
  },
  {
   "cell_type": "code",
   "execution_count": 19,
   "id": "09038603-a022-43fa-bb0c-2b6cc6d47eba",
   "metadata": {},
   "outputs": [],
   "source": [
    "class pwskills :\n",
    "    def welcome_msg(self):\n",
    "        print(\"Welcome To PWSKILLS\")"
   ]
  },
  {
   "cell_type": "code",
   "execution_count": 25,
   "id": "5a4a3781-1e2f-4536-bc42-e2f3c221efb1",
   "metadata": {},
   "outputs": [
    {
     "name": "stdout",
     "output_type": "stream",
     "text": [
      "Welcome To PWSKILLS\n"
     ]
    }
   ],
   "source": [
    "Rohan.welcome_msg()"
   ]
  },
  {
   "cell_type": "code",
   "execution_count": 28,
   "id": "0c21dce8-3b86-492b-bc58-5d0c07dba6f4",
   "metadata": {},
   "outputs": [],
   "source": [
    "Gaurav = pwskills()"
   ]
  },
  {
   "cell_type": "code",
   "execution_count": 29,
   "id": "f3c26fcb-78fe-4852-a9d6-6c2d4f668189",
   "metadata": {},
   "outputs": [
    {
     "name": "stdout",
     "output_type": "stream",
     "text": [
      "Welcome To PWSKILLS\n"
     ]
    }
   ],
   "source": [
    "Gaurav.welcome_msg()"
   ]
  },
  {
   "cell_type": "markdown",
   "id": "6c400431-d68a-463f-8388-bbeba7885b53",
   "metadata": {
    "tags": []
   },
   "source": [
    "#### \\_\\_init__\n",
    "##### The '\\_\\_init__' method, also known as the constructor, is called when an instance of a class is created. The purpose of the '\\_\\_init__' method is to initialize the attributes of the class."
   ]
  },
  {
   "cell_type": "markdown",
   "id": "81964f9d-ee9d-4f4b-b047-95b6ff640d1c",
   "metadata": {},
   "source": [
    "#### self\n",
    "##### 'self' is a special parameter that refers to the instance of a class. When you create an object from a class, self is automatically passed as the first parameter to any method defined in the class. The 'self' parameter is required in all instance methods of a class, including the '\\_\\_init__' method, and allows you to access and modify the attributes of the instance within the method. Without the 'self' parameter, you would not be able to refer to the instance or its attributes from within the method."
   ]
  },
  {
   "cell_type": "code",
   "execution_count": 31,
   "id": "e25d7cf8-710a-4975-b30d-9a19ce0323d9",
   "metadata": {},
   "outputs": [],
   "source": [
    "class pwskills1 :\n",
    "    def __init__(self , phone_number, mail_id, student_id):\n",
    "        self.phone_number = phone_number\n",
    "        self.mail_id = mail_id\n",
    "        self.student_id = student_id\n",
    "        \n",
    "    def return_student_details(self):\n",
    "        return self.student_id, self.mail_id, self.phone_number"
   ]
  },
  {
   "cell_type": "code",
   "execution_count": 34,
   "id": "4488d803-0558-41c7-b9a8-0bc2f0f379fd",
   "metadata": {},
   "outputs": [],
   "source": [
    "Rohan = pwskills1(12344848, \"rohan@gmail.com\", 101)"
   ]
  },
  {
   "cell_type": "code",
   "execution_count": 44,
   "id": "828dedd1-9853-4007-a227-ee1ccb318a5f",
   "metadata": {},
   "outputs": [
    {
     "data": {
      "text/plain": [
       "12344848"
      ]
     },
     "execution_count": 44,
     "metadata": {},
     "output_type": "execute_result"
    }
   ],
   "source": [
    "Rohan.phone_number"
   ]
  },
  {
   "cell_type": "code",
   "execution_count": 45,
   "id": "6a480ffe-6a8a-4a02-960d-1dde9090357a",
   "metadata": {},
   "outputs": [
    {
     "data": {
      "text/plain": [
       "'rohan@gmail.com'"
      ]
     },
     "execution_count": 45,
     "metadata": {},
     "output_type": "execute_result"
    }
   ],
   "source": [
    "Rohan.mail_id"
   ]
  },
  {
   "cell_type": "code",
   "execution_count": 35,
   "id": "14ad3afa-3263-49e1-9e10-ad266f8ce0ea",
   "metadata": {},
   "outputs": [
    {
     "data": {
      "text/plain": [
       "(101, 'rohan@gmail.com', 12344848)"
      ]
     },
     "execution_count": 35,
     "metadata": {},
     "output_type": "execute_result"
    }
   ],
   "source": [
    "Rohan.return_student_details()"
   ]
  },
  {
   "cell_type": "code",
   "execution_count": 36,
   "id": "22c6cda7-754d-464e-ab64-059227cab477",
   "metadata": {},
   "outputs": [],
   "source": [
    "Gaurav = pwskills1(23904589, \"gaurav@gmail.com\", 102)"
   ]
  },
  {
   "cell_type": "code",
   "execution_count": 37,
   "id": "c452bd24-79df-4ab7-945e-39dafb4bc3f5",
   "metadata": {},
   "outputs": [
    {
     "data": {
      "text/plain": [
       "(102, 'gaurav@gmail.com', 23904589)"
      ]
     },
     "execution_count": 37,
     "metadata": {},
     "output_type": "execute_result"
    }
   ],
   "source": [
    "Gaurav.return_student_details()"
   ]
  },
  {
   "cell_type": "code",
   "execution_count": 56,
   "id": "78ada431-6c30-42f9-b214-8166256f9ac1",
   "metadata": {},
   "outputs": [],
   "source": [
    "class pwskills2 :\n",
    "    def __init__(self , phone_number, mail_id, student_id):\n",
    "        self.phone_number1 = phone_number\n",
    "        self.mail_id1 = mail_id\n",
    "        self.student_id1 = student_id\n",
    "        \n",
    "    def return_student_details(self):\n",
    "        return self.student_id1, self.mail_id1, self.phone_number1"
   ]
  },
  {
   "cell_type": "code",
   "execution_count": 57,
   "id": "2c74e529-bd2f-4094-89a4-09d2f67eedf2",
   "metadata": {},
   "outputs": [],
   "source": [
    "anju = pwskills2(4263756, \"anju@gmail.com\", 103)"
   ]
  },
  {
   "cell_type": "code",
   "execution_count": 58,
   "id": "5d566cab-6a57-4430-9bba-3dd90e91c62a",
   "metadata": {},
   "outputs": [
    {
     "data": {
      "text/plain": [
       "<__main__.pwskills2 at 0x7ff23975a710>"
      ]
     },
     "execution_count": 58,
     "metadata": {},
     "output_type": "execute_result"
    }
   ],
   "source": [
    "anju"
   ]
  },
  {
   "cell_type": "code",
   "execution_count": 59,
   "id": "430c2929-9492-4b79-99d3-ba96bc9a818e",
   "metadata": {},
   "outputs": [
    {
     "data": {
      "text/plain": [
       "4263756"
      ]
     },
     "execution_count": 59,
     "metadata": {},
     "output_type": "execute_result"
    }
   ],
   "source": [
    "anju.phone_number1"
   ]
  },
  {
   "cell_type": "code",
   "execution_count": 60,
   "id": "d8ac80ee-311c-4eb9-a9a2-d89f7486d5c4",
   "metadata": {},
   "outputs": [
    {
     "data": {
      "text/plain": [
       "(103, 'anju@gmail.com', 4263756)"
      ]
     },
     "execution_count": 60,
     "metadata": {},
     "output_type": "execute_result"
    }
   ],
   "source": [
    "anju.return_student_details()"
   ]
  },
  {
   "cell_type": "code",
   "execution_count": 61,
   "id": "591fd081-b8f0-4790-9d6e-ffdff75566a8",
   "metadata": {},
   "outputs": [],
   "source": [
    "class pwskills2 :\n",
    "    def __init__(anju , phone_number, mail_id, student_id):\n",
    "        anju.phone_number1 = phone_number\n",
    "        anju.mail_id1 = mail_id\n",
    "        anju.student_id1 = student_id\n",
    "        \n",
    "    def return_student_details(anju):\n",
    "        return anju.student_id1, anju.mail_id1, anju.phone_number1"
   ]
  },
  {
   "cell_type": "code",
   "execution_count": 62,
   "id": "7edd6060-f372-4988-a32d-e05899bd1242",
   "metadata": {},
   "outputs": [],
   "source": [
    "rohan = pwskills2(377587382, \"roj@gmail.com\", 1203)"
   ]
  },
  {
   "cell_type": "code",
   "execution_count": 64,
   "id": "0388fc48-570f-431f-b019-b355a3984628",
   "metadata": {},
   "outputs": [
    {
     "data": {
      "text/plain": [
       "(1203, 'roj@gmail.com', 377587382)"
      ]
     },
     "execution_count": 64,
     "metadata": {},
     "output_type": "execute_result"
    }
   ],
   "source": [
    "rohan.return_student_details()"
   ]
  },
  {
   "cell_type": "code",
   "execution_count": 65,
   "id": "448b8e49-d2d3-43ab-80b5-f5a3fc19be09",
   "metadata": {},
   "outputs": [
    {
     "data": {
      "text/plain": [
       "377587382"
      ]
     },
     "execution_count": 65,
     "metadata": {},
     "output_type": "execute_result"
    }
   ],
   "source": [
    "rohan.phone_number1"
   ]
  }
 ],
 "metadata": {
  "kernelspec": {
   "display_name": "Python 3 (ipykernel)",
   "language": "python",
   "name": "python3"
  },
  "language_info": {
   "codemirror_mode": {
    "name": "ipython",
    "version": 3
   },
   "file_extension": ".py",
   "mimetype": "text/x-python",
   "name": "python",
   "nbconvert_exporter": "python",
   "pygments_lexer": "ipython3",
   "version": "3.10.8"
  }
 },
 "nbformat": 4,
 "nbformat_minor": 5
}
