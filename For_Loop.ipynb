{
 "cells": [
  {
   "cell_type": "markdown",
   "id": "9a74bfe3-b3ab-4166-b62b-8320aaae6a9e",
   "metadata": {},
   "source": [
    "#### <u>FOR LOOP<u>\n",
    "\n",
    "##### The 'for' loop is a type of loop that is used to iterate over a sequence (such as a list, tuple, or string) or other iterable object. The general syntax of a for loop is:  for item in sequence:\n",
    "\n",
    "##### Here, item is a variable that takes on the value of each element in the sequence one by one, and the block of indented code following the for line is executed once for each iteration of the loop."
   ]
  },
  {
   "cell_type": "code",
   "execution_count": 1,
   "id": "a7a7d53f-e470-487b-8ab9-628d7fe6a35b",
   "metadata": {},
   "outputs": [],
   "source": [
    "l = [1,2,3,4,5]"
   ]
  },
  {
   "cell_type": "code",
   "execution_count": 3,
   "id": "a82c846b-64fe-4d5a-8352-11610a6129a6",
   "metadata": {},
   "outputs": [
    {
     "name": "stdout",
     "output_type": "stream",
     "text": [
      "1 <class 'int'>\n",
      "2 <class 'int'>\n",
      "3 <class 'int'>\n",
      "4 <class 'int'>\n",
      "5 <class 'int'>\n"
     ]
    }
   ],
   "source": [
    "for i in l :\n",
    "    print(i , type(i))"
   ]
  },
  {
   "cell_type": "code",
   "execution_count": 4,
   "id": "3ff04fca-624e-470e-8eec-d8e4ed6783b4",
   "metadata": {},
   "outputs": [],
   "source": [
    "l1 = [\"anju\",\"soman\",\"krish\",\"naik\"]"
   ]
  },
  {
   "cell_type": "code",
   "execution_count": 6,
   "id": "a13fc4a4-3fa0-4793-b87d-8e93ec4b30d4",
   "metadata": {},
   "outputs": [
    {
     "name": "stdout",
     "output_type": "stream",
     "text": [
      "anju\n",
      "soman\n",
      "krish\n",
      "naik\n"
     ]
    }
   ],
   "source": [
    "for i in l1:\n",
    "    print(i)"
   ]
  },
  {
   "cell_type": "code",
   "execution_count": 8,
   "id": "3f33ba2c-d467-4065-8758-34bc6dd4f72e",
   "metadata": {},
   "outputs": [
    {
     "name": "stdout",
     "output_type": "stream",
     "text": [
      "anju\n",
      "soman\n",
      "krish\n",
      "naik\n",
      "If For Loop Is Able To Complete Itself Then Only Else Will Execute.\n"
     ]
    }
   ],
   "source": [
    "for i in l1:\n",
    "    print(i)\n",
    "else:\n",
    "    print(\"If For Loop Is Able To Complete Itself Then Only Else Will Execute.\")"
   ]
  },
  {
   "cell_type": "markdown",
   "id": "0f60166a-a4c3-4383-b562-206450465574",
   "metadata": {},
   "source": [
    "#### <u>BREAK STATEMENT<u>\n",
    "\n",
    "- The 'break' statement is used to exit a loop prematurely. When a 'break' statement is encountered, the loop is terminated and the program continues with the next statement after the loop."
   ]
  },
  {
   "cell_type": "code",
   "execution_count": 9,
   "id": "cc394fb4-62c0-4734-9699-ef79466b9faf",
   "metadata": {},
   "outputs": [
    {
     "data": {
      "text/plain": [
       "['anju', 'soman', 'krish', 'naik']"
      ]
     },
     "execution_count": 9,
     "metadata": {},
     "output_type": "execute_result"
    }
   ],
   "source": [
    "l1"
   ]
  },
  {
   "cell_type": "code",
   "execution_count": 11,
   "id": "e8e3f7af-da05-4031-900f-c6dc4ec30c37",
   "metadata": {},
   "outputs": [
    {
     "name": "stdout",
     "output_type": "stream",
     "text": [
      "anju\n"
     ]
    }
   ],
   "source": [
    "for i in l1:\n",
    "    if i == \"soman\":\n",
    "        break\n",
    "    print(i)"
   ]
  },
  {
   "cell_type": "code",
   "execution_count": 12,
   "id": "7dfea14d-541d-4165-9bef-ab1ab519e465",
   "metadata": {},
   "outputs": [
    {
     "data": {
      "text/plain": [
       "['anju', 'soman', 'krish', 'naik']"
      ]
     },
     "execution_count": 12,
     "metadata": {},
     "output_type": "execute_result"
    }
   ],
   "source": [
    "l1"
   ]
  },
  {
   "cell_type": "code",
   "execution_count": 13,
   "id": "41b58b0b-99fa-4546-8a92-65df5becda46",
   "metadata": {},
   "outputs": [
    {
     "name": "stdout",
     "output_type": "stream",
     "text": [
      "anju\n"
     ]
    }
   ],
   "source": [
    "for i in l1:\n",
    "    if i == \"soman\":\n",
    "        break\n",
    "    print(i)\n",
    "else:\n",
    "    print(\"Execute this if for loop is able to complete itself\")"
   ]
  },
  {
   "cell_type": "markdown",
   "id": "199bbe30-feaa-4d97-8c34-d5d13fda6da0",
   "metadata": {},
   "source": [
    "#### <u>CONTINUE STATEMENT<u>\n",
    "\n",
    "- The 'continue' statement is used to skip the current iteration of a loop and continue with the next iteration. When a 'continue' statement is encountered, the current iteration is skipped and the program continues with the next iteration."
   ]
  },
  {
   "cell_type": "code",
   "execution_count": 14,
   "id": "fa981e15-c648-405b-be30-eb608949c411",
   "metadata": {},
   "outputs": [
    {
     "data": {
      "text/plain": [
       "['anju', 'soman', 'krish', 'naik']"
      ]
     },
     "execution_count": 14,
     "metadata": {},
     "output_type": "execute_result"
    }
   ],
   "source": [
    "l1"
   ]
  },
  {
   "cell_type": "code",
   "execution_count": 15,
   "id": "90dcee44-e72e-46b9-94be-ee05b2573a45",
   "metadata": {},
   "outputs": [
    {
     "name": "stdout",
     "output_type": "stream",
     "text": [
      "anju\n",
      "krish\n",
      "naik\n"
     ]
    }
   ],
   "source": [
    "for i in l1:\n",
    "    if i == \"soman\":\n",
    "        continue ## control will be sent to for so \"soman\" was not printed\n",
    "    print(i)"
   ]
  },
  {
   "cell_type": "code",
   "execution_count": 16,
   "id": "8b49ecca-8999-44f2-a611-3f253f4cb7f7",
   "metadata": {},
   "outputs": [
    {
     "name": "stdout",
     "output_type": "stream",
     "text": [
      "anju\n",
      "krish\n",
      "naik\n",
      "Execute this if for loop is able to complete itself\n"
     ]
    }
   ],
   "source": [
    "for i in l1:\n",
    "    if i == \"soman\":\n",
    "        continue\n",
    "    print(i)\n",
    "else:\n",
    "    print(\"Execute this if for loop is able to complete itself\")"
   ]
  },
  {
   "cell_type": "markdown",
   "id": "5e2b990d-cb61-4efb-8c6d-71764395a6e5",
   "metadata": {},
   "source": [
    "#### <u>RANGE FUNCTION<u>\n",
    "\n",
    "##### The 'range()' function is a built-in function that is used to generate a sequence of numbers. This function returns a sequence of numbers from 'start' to 'stop' by increments of 'step'. The 'range()' function can be used in a 'for' loop to iterate through a sequence of numbers.\n",
    "\n",
    "##### The syntax of the 'range()' function is as follows:  range(start, stop, step)\n",
    "\n",
    "- start: An integer that represents the starting value of the sequence (default value is 0).\n",
    "- stop: An integer that represents the ending value of the sequence (the value is not included in the sequence).\n",
    "- step: An integer that represents the increment value of the sequence (default value is 1)."
   ]
  },
  {
   "cell_type": "code",
   "execution_count": 17,
   "id": "7bcd0666-c705-4818-bbad-4be8826b9e25",
   "metadata": {},
   "outputs": [
    {
     "data": {
      "text/plain": [
       "range(0, 5)"
      ]
     },
     "execution_count": 17,
     "metadata": {},
     "output_type": "execute_result"
    }
   ],
   "source": [
    "range(5)"
   ]
  },
  {
   "cell_type": "code",
   "execution_count": 18,
   "id": "b50e0ba3-beca-4324-9570-dc0a3699bbb2",
   "metadata": {},
   "outputs": [
    {
     "data": {
      "text/plain": [
       "[0, 1, 2, 3, 4]"
      ]
     },
     "execution_count": 18,
     "metadata": {},
     "output_type": "execute_result"
    }
   ],
   "source": [
    "list(range(5))"
   ]
  },
  {
   "cell_type": "code",
   "execution_count": 19,
   "id": "d816227b-2b1c-4e1b-81e9-9b74a26d4772",
   "metadata": {},
   "outputs": [
    {
     "data": {
      "text/plain": [
       "[0, 1, 2, 3, 4]"
      ]
     },
     "execution_count": 19,
     "metadata": {},
     "output_type": "execute_result"
    }
   ],
   "source": [
    "list(range(0,5,1)) ## 1 is Step Size"
   ]
  },
  {
   "cell_type": "code",
   "execution_count": 20,
   "id": "4600afc6-e26e-4d9e-a381-8ff09d9d7d17",
   "metadata": {},
   "outputs": [
    {
     "data": {
      "text/plain": [
       "[0, 2, 4, 6, 8, 10, 12, 14, 16, 18]"
      ]
     },
     "execution_count": 20,
     "metadata": {},
     "output_type": "execute_result"
    }
   ],
   "source": [
    "list(range(0,20,2))"
   ]
  },
  {
   "cell_type": "code",
   "execution_count": 21,
   "id": "8df15211-92a2-4c96-8844-84d24bec5079",
   "metadata": {},
   "outputs": [
    {
     "data": {
      "text/plain": [
       "[-10, -9, -8, -7, -6, -5, -4, -3, -2, -1]"
      ]
     },
     "execution_count": 21,
     "metadata": {},
     "output_type": "execute_result"
    }
   ],
   "source": [
    "list(range(-10,0))"
   ]
  },
  {
   "cell_type": "code",
   "execution_count": 22,
   "id": "e0ffc0d5-0510-4481-b5f5-3789ff5dc3a1",
   "metadata": {},
   "outputs": [
    {
     "data": {
      "text/plain": [
       "['anju', 'soman', 'krish', 'naik']"
      ]
     },
     "execution_count": 22,
     "metadata": {},
     "output_type": "execute_result"
    }
   ],
   "source": [
    "l1"
   ]
  },
  {
   "cell_type": "code",
   "execution_count": 23,
   "id": "18284c66-0da1-4e44-8529-dcfa1e86ca09",
   "metadata": {},
   "outputs": [
    {
     "data": {
      "text/plain": [
       "4"
      ]
     },
     "execution_count": 23,
     "metadata": {},
     "output_type": "execute_result"
    }
   ],
   "source": [
    "len(l1)"
   ]
  },
  {
   "cell_type": "code",
   "execution_count": 24,
   "id": "917768eb-004d-40a6-8f79-f7ff725a6800",
   "metadata": {},
   "outputs": [
    {
     "data": {
      "text/plain": [
       "[0, 1, 2, 3]"
      ]
     },
     "execution_count": 24,
     "metadata": {},
     "output_type": "execute_result"
    }
   ],
   "source": [
    "list(range(len(l1)))"
   ]
  },
  {
   "cell_type": "code",
   "execution_count": 26,
   "id": "67a1bb76-49f2-480a-86b0-e98a3e903307",
   "metadata": {},
   "outputs": [
    {
     "name": "stdout",
     "output_type": "stream",
     "text": [
      "anju\n",
      "soman\n",
      "krish\n",
      "naik\n"
     ]
    }
   ],
   "source": [
    "for i in range(len(l1)):\n",
    "    print(l1[i])"
   ]
  },
  {
   "cell_type": "code",
   "execution_count": 27,
   "id": "d0190164-fa45-4425-bfb5-dee4e55b82ab",
   "metadata": {},
   "outputs": [
    {
     "data": {
      "text/plain": [
       "4"
      ]
     },
     "execution_count": 27,
     "metadata": {},
     "output_type": "execute_result"
    }
   ],
   "source": [
    "len(l1)"
   ]
  },
  {
   "cell_type": "code",
   "execution_count": 28,
   "id": "1754038f-3220-4344-a117-0da365b4e64d",
   "metadata": {},
   "outputs": [
    {
     "data": {
      "text/plain": [
       "[]"
      ]
     },
     "execution_count": 28,
     "metadata": {},
     "output_type": "execute_result"
    }
   ],
   "source": [
    "list(range(len(l1),0))"
   ]
  },
  {
   "cell_type": "code",
   "execution_count": 30,
   "id": "66980ec2-1532-4349-9b5c-aa51b70197cc",
   "metadata": {},
   "outputs": [
    {
     "data": {
      "text/plain": [
       "[4, 3, 2, 1]"
      ]
     },
     "execution_count": 30,
     "metadata": {},
     "output_type": "execute_result"
    }
   ],
   "source": [
    "list(range(len(l1),0,-1))"
   ]
  },
  {
   "cell_type": "code",
   "execution_count": 31,
   "id": "6a46c04e-4f5d-4cdf-b514-ca871b50fa6d",
   "metadata": {},
   "outputs": [
    {
     "data": {
      "text/plain": [
       "['anju', 'soman', 'krish', 'naik']"
      ]
     },
     "execution_count": 31,
     "metadata": {},
     "output_type": "execute_result"
    }
   ],
   "source": [
    "l1"
   ]
  },
  {
   "cell_type": "code",
   "execution_count": 33,
   "id": "729c30a6-63e4-4731-99ed-702424ac4f96",
   "metadata": {},
   "outputs": [
    {
     "data": {
      "text/plain": [
       "[3, 2, 1, 0]"
      ]
     },
     "execution_count": 33,
     "metadata": {},
     "output_type": "execute_result"
    }
   ],
   "source": [
    "list(range(len(l1)-1,-1,-1))"
   ]
  },
  {
   "cell_type": "code",
   "execution_count": 35,
   "id": "eaaccb2b-759f-405f-875a-fc2481ed97ff",
   "metadata": {},
   "outputs": [
    {
     "name": "stdout",
     "output_type": "stream",
     "text": [
      "naik\n",
      "krish\n",
      "soman\n",
      "anju\n"
     ]
    }
   ],
   "source": [
    "for i in range(len(l1)-1,-1,-1):\n",
    "    print(l1[i])"
   ]
  },
  {
   "cell_type": "code",
   "execution_count": 36,
   "id": "2bc50811-a42d-4c9d-a6f1-e4d86de8acc5",
   "metadata": {},
   "outputs": [],
   "source": [
    "l2 = [1,45,67,890,534,66777,433,56,67,11,25]"
   ]
  },
  {
   "cell_type": "code",
   "execution_count": 37,
   "id": "06fad550-b90f-4432-ad74-cee73ffe0b2b",
   "metadata": {},
   "outputs": [
    {
     "data": {
      "text/plain": [
       "[0, 2, 4, 6, 8, 10]"
      ]
     },
     "execution_count": 37,
     "metadata": {},
     "output_type": "execute_result"
    }
   ],
   "source": [
    "list(range(0 , len(l2) , 2))"
   ]
  },
  {
   "cell_type": "code",
   "execution_count": 38,
   "id": "8d2b3dcf-5ecb-454e-a62b-5ac1322db473",
   "metadata": {},
   "outputs": [
    {
     "name": "stdout",
     "output_type": "stream",
     "text": [
      "1\n",
      "67\n",
      "534\n",
      "433\n",
      "67\n",
      "25\n"
     ]
    }
   ],
   "source": [
    "## To print even index\n",
    "for i in range(0 , len(l2) , 2):\n",
    "    print(l2[i])"
   ]
  },
  {
   "cell_type": "code",
   "execution_count": 39,
   "id": "e2a2aefd-9a0c-4d23-a528-9fe9b92b0e14",
   "metadata": {},
   "outputs": [
    {
     "data": {
      "text/plain": [
       "1"
      ]
     },
     "execution_count": 39,
     "metadata": {},
     "output_type": "execute_result"
    }
   ],
   "source": [
    "l2[0]"
   ]
  },
  {
   "cell_type": "code",
   "execution_count": 40,
   "id": "3db4fd87-9abd-4465-b492-c21f14aacd5a",
   "metadata": {},
   "outputs": [],
   "source": [
    "l = [1,2,3,4,5,6,7,8,9]"
   ]
  },
  {
   "cell_type": "code",
   "execution_count": null,
   "id": "5d24b96f-eaa7-47de-83d5-7f513cc12dbf",
   "metadata": {},
   "outputs": [],
   "source": [
    "## Sumation of all element in the list"
   ]
  },
  {
   "cell_type": "code",
   "execution_count": 41,
   "id": "5ac12090-2214-479a-b899-ffc7db7f9b68",
   "metadata": {},
   "outputs": [
    {
     "data": {
      "text/plain": [
       "45"
      ]
     },
     "execution_count": 41,
     "metadata": {},
     "output_type": "execute_result"
    }
   ],
   "source": [
    "sum(l)"
   ]
  },
  {
   "cell_type": "code",
   "execution_count": 43,
   "id": "20e6b399-766b-4220-917f-664c64b7ec2b",
   "metadata": {},
   "outputs": [
    {
     "data": {
      "text/plain": [
       "45"
      ]
     },
     "execution_count": 43,
     "metadata": {},
     "output_type": "execute_result"
    }
   ],
   "source": [
    "result = 0\n",
    "for i in l:\n",
    "    result = result + i\n",
    "result"
   ]
  },
  {
   "cell_type": "code",
   "execution_count": 44,
   "id": "9b82b3b6-3c9c-4fc8-8523-74293548f020",
   "metadata": {},
   "outputs": [],
   "source": [
    "t = (1,2,3,4,5)"
   ]
  },
  {
   "cell_type": "code",
   "execution_count": 45,
   "id": "15a6842a-108c-4f75-a61f-b787e37e9679",
   "metadata": {},
   "outputs": [
    {
     "name": "stdout",
     "output_type": "stream",
     "text": [
      "1\n",
      "2\n",
      "3\n",
      "4\n",
      "5\n"
     ]
    }
   ],
   "source": [
    "for i in t:\n",
    "    print(i)"
   ]
  },
  {
   "cell_type": "code",
   "execution_count": 46,
   "id": "fcdf2c26-e67e-4058-b940-226029264a7b",
   "metadata": {},
   "outputs": [
    {
     "data": {
      "text/plain": [
       "15"
      ]
     },
     "execution_count": 46,
     "metadata": {},
     "output_type": "execute_result"
    }
   ],
   "source": [
    "result = 0\n",
    "for i in t:\n",
    "    result = result + i\n",
    "result"
   ]
  },
  {
   "cell_type": "code",
   "execution_count": 47,
   "id": "5ed67121-8767-4c00-825f-190f82275908",
   "metadata": {},
   "outputs": [],
   "source": [
    "s = {1,2,3,4,5,6,\"anju\",\"soman\"}"
   ]
  },
  {
   "cell_type": "code",
   "execution_count": 48,
   "id": "e6bba94d-acbe-48e0-84e4-ced48bc1abdf",
   "metadata": {},
   "outputs": [
    {
     "name": "stdout",
     "output_type": "stream",
     "text": [
      "1\n",
      "2\n",
      "3\n",
      "4\n",
      "5\n",
      "6\n",
      "soman\n",
      "anju\n"
     ]
    }
   ],
   "source": [
    "for i in s:\n",
    "    print(i)"
   ]
  },
  {
   "cell_type": "code",
   "execution_count": 49,
   "id": "e905ae4a-6c0d-40fa-a912-2da8e68b7adc",
   "metadata": {},
   "outputs": [],
   "source": [
    "s1 = \"pwskills\""
   ]
  },
  {
   "cell_type": "code",
   "execution_count": 50,
   "id": "b2d2e2d8-b314-4007-b658-540d9c589375",
   "metadata": {},
   "outputs": [
    {
     "name": "stdout",
     "output_type": "stream",
     "text": [
      "p\n",
      "w\n",
      "s\n",
      "k\n",
      "i\n",
      "l\n",
      "l\n",
      "s\n"
     ]
    }
   ],
   "source": [
    "for i in s1:\n",
    "    print(i)"
   ]
  },
  {
   "cell_type": "code",
   "execution_count": 52,
   "id": "acbc1d84-2028-4c86-906c-9a20a98c4c65",
   "metadata": {},
   "outputs": [],
   "source": [
    "d = {\"Name\" : \"Anju\", \"Class\" : \"Data science Masters\", \"Topics\" : [\"Python\", \"Stats\", \"Machine Learning\", \"Deep Learning\", \"NLP\",\"Resume\", \"Interview\"]}"
   ]
  },
  {
   "cell_type": "code",
   "execution_count": 53,
   "id": "1e0fd7ca-064c-4d3e-8160-2442ec02db96",
   "metadata": {},
   "outputs": [
    {
     "data": {
      "text/plain": [
       "'Anju'"
      ]
     },
     "execution_count": 53,
     "metadata": {},
     "output_type": "execute_result"
    }
   ],
   "source": [
    "d[\"Name\"]"
   ]
  },
  {
   "cell_type": "code",
   "execution_count": 55,
   "id": "68220f5e-05b7-4719-82dc-042847014ee0",
   "metadata": {},
   "outputs": [
    {
     "data": {
      "text/plain": [
       "dict_keys(['Name', 'Class', 'Topics'])"
      ]
     },
     "execution_count": 55,
     "metadata": {},
     "output_type": "execute_result"
    }
   ],
   "source": [
    "d.keys()"
   ]
  },
  {
   "cell_type": "code",
   "execution_count": 65,
   "id": "facacf2f-3098-411b-b8ac-7c3afd66b3ef",
   "metadata": {},
   "outputs": [
    {
     "name": "stdout",
     "output_type": "stream",
     "text": [
      "Anju\n",
      "Data science Masters\n",
      "['Python', 'Stats', 'Machine Learning', 'Deep Learning', 'NLP', 'Resume', 'Interview']\n"
     ]
    }
   ],
   "source": [
    "for i in d.keys():\n",
    "    print(d[i])"
   ]
  },
  {
   "cell_type": "code",
   "execution_count": 57,
   "id": "f2d0e3b1-e8c8-413c-91ca-1179a429e31b",
   "metadata": {},
   "outputs": [
    {
     "data": {
      "text/plain": [
       "dict_values(['Anju', 'Data science Masters', ['Python', 'Stats', 'Machine Learning', 'Deep Learning', 'NLP', 'Resume', 'Interview']])"
      ]
     },
     "execution_count": 57,
     "metadata": {},
     "output_type": "execute_result"
    }
   ],
   "source": [
    "d.values()"
   ]
  },
  {
   "cell_type": "code",
   "execution_count": 58,
   "id": "63af161d-1490-44f8-8a02-9e20f4b37169",
   "metadata": {},
   "outputs": [
    {
     "name": "stdout",
     "output_type": "stream",
     "text": [
      "Anju\n",
      "Data science Masters\n",
      "['Python', 'Stats', 'Machine Learning', 'Deep Learning', 'NLP', 'Resume', 'Interview']\n"
     ]
    }
   ],
   "source": [
    "for i in d.values():\n",
    "    print(i)"
   ]
  },
  {
   "cell_type": "code",
   "execution_count": 59,
   "id": "3c613f53-11e9-47f4-ad4e-6daa73560188",
   "metadata": {},
   "outputs": [
    {
     "data": {
      "text/plain": [
       "dict_items([('Name', 'Anju'), ('Class', 'Data science Masters'), ('Topics', ['Python', 'Stats', 'Machine Learning', 'Deep Learning', 'NLP', 'Resume', 'Interview'])])"
      ]
     },
     "execution_count": 59,
     "metadata": {},
     "output_type": "execute_result"
    }
   ],
   "source": [
    "d.items()"
   ]
  },
  {
   "cell_type": "code",
   "execution_count": 63,
   "id": "ec9267c8-dbd4-4ff6-83f8-63cc828c51d9",
   "metadata": {},
   "outputs": [
    {
     "name": "stdout",
     "output_type": "stream",
     "text": [
      "('Name', 'Anju')\n",
      "('Class', 'Data science Masters')\n",
      "('Topics', ['Python', 'Stats', 'Machine Learning', 'Deep Learning', 'NLP', 'Resume', 'Interview'])\n"
     ]
    }
   ],
   "source": [
    "for i in d.items():\n",
    "    print(i)"
   ]
  }
 ],
 "metadata": {
  "kernelspec": {
   "display_name": "Python 3 (ipykernel)",
   "language": "python",
   "name": "python3"
  },
  "language_info": {
   "codemirror_mode": {
    "name": "ipython",
    "version": 3
   },
   "file_extension": ".py",
   "mimetype": "text/x-python",
   "name": "python",
   "nbconvert_exporter": "python",
   "pygments_lexer": "ipython3",
   "version": "3.10.8"
  }
 },
 "nbformat": 4,
 "nbformat_minor": 5
}
