{
 "cells": [
  {
   "cell_type": "markdown",
   "id": "4b6026d1-ac2a-4bc7-91bd-3529d5f489ca",
   "metadata": {},
   "source": [
    "#### <u>NUMBERS<u>\n",
    "##### In Python, you can perform various mathematical calculations using basic operators such as '+' (addition), '-' (subtraction), '*' (multiplication), '/' (division), '%' (modulo), and '**' (exponentiation). Here's a simple example that performs some basic calculations:"
   ]
  },
  {
   "cell_type": "code",
   "execution_count": 4,
   "id": "96da411b-c138-4815-95c8-7b69b3e0ce11",
   "metadata": {},
   "outputs": [
    {
     "data": {
      "text/plain": [
       "2"
      ]
     },
     "execution_count": 4,
     "metadata": {},
     "output_type": "execute_result"
    }
   ],
   "source": [
    "# Addition\n",
    "1 + 1"
   ]
  },
  {
   "cell_type": "code",
   "execution_count": 5,
   "id": "38d452cc-196d-465e-865c-8c046f185942",
   "metadata": {},
   "outputs": [
    {
     "data": {
      "text/plain": [
       "3"
      ]
     },
     "execution_count": 5,
     "metadata": {},
     "output_type": "execute_result"
    }
   ],
   "source": [
    "# Subtraction\n",
    "5 - 2"
   ]
  },
  {
   "cell_type": "code",
   "execution_count": 6,
   "id": "57343678-b170-428d-8b27-0bb1ee76f011",
   "metadata": {},
   "outputs": [
    {
     "data": {
      "text/plain": [
       "25"
      ]
     },
     "execution_count": 6,
     "metadata": {},
     "output_type": "execute_result"
    }
   ],
   "source": [
    "# Multiplication\n",
    "5 * 5"
   ]
  },
  {
   "cell_type": "code",
   "execution_count": 7,
   "id": "6ae3a1db-9b50-4bb7-a12c-d1c5d073d997",
   "metadata": {},
   "outputs": [
    {
     "data": {
      "text/plain": [
       "5.0"
      ]
     },
     "execution_count": 7,
     "metadata": {},
     "output_type": "execute_result"
    }
   ],
   "source": [
    "# Division\n",
    "10 / 2"
   ]
  },
  {
   "cell_type": "code",
   "execution_count": 8,
   "id": "b1e26e96-54ef-4904-af96-d3df287ba0f3",
   "metadata": {},
   "outputs": [
    {
     "data": {
      "text/plain": [
       "1"
      ]
     },
     "execution_count": 8,
     "metadata": {},
     "output_type": "execute_result"
    }
   ],
   "source": [
    "# Modulo (returns the remainder)\n",
    "10 % 3"
   ]
  },
  {
   "cell_type": "code",
   "execution_count": 9,
   "id": "68f29592-84be-43a2-996c-67bd1ac54175",
   "metadata": {},
   "outputs": [
    {
     "data": {
      "text/plain": [
       "8"
      ]
     },
     "execution_count": 9,
     "metadata": {},
     "output_type": "execute_result"
    }
   ],
   "source": [
    "# Exponentiation\n",
    "2 ** 3"
   ]
  },
  {
   "cell_type": "markdown",
   "id": "04252260-beaf-44c4-b384-a87f7266ce18",
   "metadata": {},
   "source": [
    "#### <u>VARIABLES<u>\n",
    "##### A variable is a named storage location for holding a value. You can assign a value to a variable using the equal sign '=', and then use the variable in expressions and statements."
   ]
  },
  {
   "cell_type": "code",
   "execution_count": 10,
   "id": "e6232417-e1bf-40d7-82e4-6e303c9e59c1",
   "metadata": {},
   "outputs": [],
   "source": [
    "# Assign a value to a variable\n",
    "a = 10"
   ]
  },
  {
   "cell_type": "code",
   "execution_count": 11,
   "id": "5f26dc73-0404-4820-bd91-4d071d2c0bc6",
   "metadata": {},
   "outputs": [],
   "source": [
    "# Use the variable in an expression\n",
    "b = 3 * a + 2"
   ]
  },
  {
   "cell_type": "code",
   "execution_count": 12,
   "id": "aa3f54cb-f087-47f0-aaf7-f2a8d542e5a4",
   "metadata": {},
   "outputs": [
    {
     "name": "stdout",
     "output_type": "stream",
     "text": [
      "32\n"
     ]
    }
   ],
   "source": [
    "# Print the result\n",
    "print(b)"
   ]
  },
  {
   "cell_type": "markdown",
   "id": "040e83de-6bac-41db-99bf-7f712c6f5381",
   "metadata": {},
   "source": [
    "##### You don't need to specify the type of a variable, as the type of a variable is determined dynamically based on the value assigned to it. For example, you can assign an integer to a variable and then later assign a string to the same variable, and Python will automatically recognize the change in type."
   ]
  },
  {
   "cell_type": "code",
   "execution_count": 13,
   "id": "bfd12f96-07ba-4908-a676-516a634c6379",
   "metadata": {},
   "outputs": [],
   "source": [
    "# Assign an integer to a variable\n",
    "x = 5"
   ]
  },
  {
   "cell_type": "code",
   "execution_count": 14,
   "id": "58d28184-6fa7-4b1a-98bf-9fb616d083d1",
   "metadata": {},
   "outputs": [],
   "source": [
    "# Assign a string to the same variable\n",
    "x = \"Hello\""
   ]
  },
  {
   "cell_type": "code",
   "execution_count": 15,
   "id": "3fd62281-f8db-49ae-a4e7-c9563cc1d397",
   "metadata": {},
   "outputs": [
    {
     "name": "stdout",
     "output_type": "stream",
     "text": [
      "Hello\n"
     ]
    }
   ],
   "source": [
    "# Print the value of the variable\n",
    "print(x)"
   ]
  },
  {
   "cell_type": "markdown",
   "id": "920e2f04-c337-427d-9211-9af7d2ef13ad",
   "metadata": {},
   "source": [
    "##### It's a good practice to choose descriptive and meaningful names for your variables, as it makes your code easier to read and understand. In Python, variable names can contain letters, numbers, and underscores, but they can't start with a number and they should not be a reserved word."
   ]
  },
  {
   "cell_type": "code",
   "execution_count": 5,
   "id": "e05d6f21-0449-444b-8865-6617419caa64",
   "metadata": {},
   "outputs": [],
   "source": [
    "anju = 20"
   ]
  },
  {
   "cell_type": "code",
   "execution_count": 6,
   "id": "ab540b62-c3ba-449a-a012-a50df2c97263",
   "metadata": {},
   "outputs": [
    {
     "data": {
      "text/plain": [
       "20"
      ]
     },
     "execution_count": 6,
     "metadata": {},
     "output_type": "execute_result"
    }
   ],
   "source": [
    "anju"
   ]
  },
  {
   "cell_type": "code",
   "execution_count": 7,
   "id": "c767b420-9e3d-4120-876f-60c0879e8f85",
   "metadata": {},
   "outputs": [
    {
     "data": {
      "text/plain": [
       "30"
      ]
     },
     "execution_count": 7,
     "metadata": {},
     "output_type": "execute_result"
    }
   ],
   "source": [
    "a + anju"
   ]
  },
  {
   "cell_type": "markdown",
   "id": "efdf4e10-7845-48a0-b419-770facf4c7b0",
   "metadata": {},
   "source": [
    "#### <u>DATA TYPES<u>\n",
    "##### There are several built-in data types that you can use to store and manipulate data. Some of the most commonly used data types are:\n",
    "\n",
    "- int (integer): a whole number, such as 42.\n",
    "- float (floating-point number): a real number with a decimal point, such as 3.14.\n",
    "- str (string): a sequence of characters, such as \"hello\". Strings must be enclosed in quotes, either single ' or double \" quotes.\n",
    "- bool (boolean): a value that represents True or False."
   ]
  },
  {
   "cell_type": "code",
   "execution_count": 17,
   "id": "fd971514-ed25-4387-84c1-7c2f36dcc62a",
   "metadata": {},
   "outputs": [
    {
     "data": {
      "text/plain": [
       "10"
      ]
     },
     "execution_count": 17,
     "metadata": {},
     "output_type": "execute_result"
    }
   ],
   "source": [
    "# An integer\n",
    "a"
   ]
  },
  {
   "cell_type": "code",
   "execution_count": 8,
   "id": "1694a74b-1817-4510-8d6f-7713273c2884",
   "metadata": {},
   "outputs": [
    {
     "data": {
      "text/plain": [
       "int"
      ]
     },
     "execution_count": 8,
     "metadata": {},
     "output_type": "execute_result"
    }
   ],
   "source": [
    "type(a)"
   ]
  },
  {
   "cell_type": "code",
   "execution_count": 18,
   "id": "06d91014-5c09-4ec8-9e59-5a5ad5a06ed1",
   "metadata": {},
   "outputs": [],
   "source": [
    "# A floating-point number\n",
    "b = 3.14"
   ]
  },
  {
   "cell_type": "code",
   "execution_count": 19,
   "id": "03ca9928-9611-4d0d-8dc2-ca15f79f571f",
   "metadata": {},
   "outputs": [
    {
     "data": {
      "text/plain": [
       "float"
      ]
     },
     "execution_count": 19,
     "metadata": {},
     "output_type": "execute_result"
    }
   ],
   "source": [
    "type(b)"
   ]
  },
  {
   "cell_type": "code",
   "execution_count": 20,
   "id": "6ff3ad04-1bda-43c1-bf77-84817e7ef17a",
   "metadata": {},
   "outputs": [],
   "source": [
    "# A string\n",
    "c = \"Hello, World!\""
   ]
  },
  {
   "cell_type": "code",
   "execution_count": 21,
   "id": "dfa6bfad-6239-4c64-87ee-2cbb48d1cf99",
   "metadata": {},
   "outputs": [
    {
     "data": {
      "text/plain": [
       "str"
      ]
     },
     "execution_count": 21,
     "metadata": {},
     "output_type": "execute_result"
    }
   ],
   "source": [
    "type(c)"
   ]
  },
  {
   "cell_type": "code",
   "execution_count": 22,
   "id": "ee635552-545f-4c72-ad73-bd68827c65cb",
   "metadata": {},
   "outputs": [],
   "source": [
    "# A boolean\n",
    "d = True"
   ]
  },
  {
   "cell_type": "code",
   "execution_count": 23,
   "id": "d01f4b8b-07db-4966-ad92-15bf92ff0c13",
   "metadata": {},
   "outputs": [
    {
     "data": {
      "text/plain": [
       "bool"
      ]
     },
     "execution_count": 23,
     "metadata": {},
     "output_type": "execute_result"
    }
   ],
   "source": [
    "type(d)"
   ]
  },
  {
   "cell_type": "code",
   "execution_count": 24,
   "id": "75252b42-e20f-4b5c-928c-061d50e6fd8b",
   "metadata": {},
   "outputs": [],
   "source": [
    "e = False"
   ]
  },
  {
   "cell_type": "code",
   "execution_count": 25,
   "id": "5045ae42-db18-42d6-83a9-d78586ff2032",
   "metadata": {},
   "outputs": [
    {
     "data": {
      "text/plain": [
       "bool"
      ]
     },
     "execution_count": 25,
     "metadata": {},
     "output_type": "execute_result"
    }
   ],
   "source": [
    "type(e)"
   ]
  },
  {
   "cell_type": "code",
   "execution_count": 26,
   "id": "1933d6c7-2f10-48a2-8ac5-fc7e45d1894d",
   "metadata": {},
   "outputs": [],
   "source": [
    "f = \"This is my first tech class.\""
   ]
  },
  {
   "cell_type": "code",
   "execution_count": 27,
   "id": "411525c1-3fd1-4b58-851f-e9a8b6804099",
   "metadata": {},
   "outputs": [
    {
     "data": {
      "text/plain": [
       "str"
      ]
     },
     "execution_count": 27,
     "metadata": {},
     "output_type": "execute_result"
    }
   ],
   "source": [
    "type(f)"
   ]
  },
  {
   "cell_type": "code",
   "execution_count": 28,
   "id": "32c48fd6-6548-4747-8938-09517134ce29",
   "metadata": {},
   "outputs": [
    {
     "data": {
      "text/plain": [
       "1"
      ]
     },
     "execution_count": 28,
     "metadata": {},
     "output_type": "execute_result"
    }
   ],
   "source": [
    "d + e"
   ]
  },
  {
   "cell_type": "code",
   "execution_count": 27,
   "id": "83b208f8-9bb1-42b7-adc3-3858e1e2d60e",
   "metadata": {},
   "outputs": [
    {
     "data": {
      "text/plain": [
       "1"
      ]
     },
     "execution_count": 27,
     "metadata": {},
     "output_type": "execute_result"
    }
   ],
   "source": [
    "True * True"
   ]
  },
  {
   "cell_type": "code",
   "execution_count": 28,
   "id": "8e2c911d-7449-490d-b851-09c6f67bfa3d",
   "metadata": {},
   "outputs": [
    {
     "data": {
      "text/plain": [
       "0"
      ]
     },
     "execution_count": 28,
     "metadata": {},
     "output_type": "execute_result"
    }
   ],
   "source": [
    "True * False"
   ]
  },
  {
   "cell_type": "markdown",
   "id": "4a60a604-c1cb-4f07-9d05-4ee6f4b9a2d7",
   "metadata": {},
   "source": [
    "#### <u>ZeroDivisionError<u>\n",
    "##### The \"ZeroDivisionError\" is an error in Python that occurs when you try to divide a number by zero. In mathematics, division by zero is undefined, and Python raises this error to indicate that the operation is invalid."
   ]
  },
  {
   "cell_type": "code",
   "execution_count": 30,
   "id": "81f0da6f-a5bd-4d97-8d74-57759c69450e",
   "metadata": {},
   "outputs": [
    {
     "ename": "ZeroDivisionError",
     "evalue": "division by zero",
     "output_type": "error",
     "traceback": [
      "\u001b[0;31m---------------------------------------------------------------------------\u001b[0m",
      "\u001b[0;31mZeroDivisionError\u001b[0m                         Traceback (most recent call last)",
      "Cell \u001b[0;32mIn[30], line 1\u001b[0m\n\u001b[0;32m----> 1\u001b[0m \u001b[38;5;241;43m1\u001b[39;49m\u001b[43m \u001b[49m\u001b[38;5;241;43m/\u001b[39;49m\u001b[43m \u001b[49m\u001b[38;5;241;43m0\u001b[39;49m\n",
      "\u001b[0;31mZeroDivisionError\u001b[0m: division by zero"
     ]
    }
   ],
   "source": [
    "1 / 0"
   ]
  },
  {
   "cell_type": "markdown",
   "id": "1c8bf1be-9be7-472e-b0e5-2fd4b5313f82",
   "metadata": {},
   "source": [
    "##### In mathematics, a complex number is a number of the form a + bi, where a and b are real numbers and i represents the imaginary unit. However, in Python, Imaginary Unit is represented by 'j'."
   ]
  },
  {
   "cell_type": "code",
   "execution_count": 31,
   "id": "4e753bca-974a-444e-a026-a7515017995e",
   "metadata": {},
   "outputs": [],
   "source": [
    "v = 5+8j ## 5 is Real No. & 8 is Imaginary No."
   ]
  },
  {
   "cell_type": "code",
   "execution_count": 32,
   "id": "546f2586-2139-4875-966d-666cf9c2be30",
   "metadata": {},
   "outputs": [
    {
     "data": {
      "text/plain": [
       "complex"
      ]
     },
     "execution_count": 32,
     "metadata": {},
     "output_type": "execute_result"
    }
   ],
   "source": [
    "type(v)"
   ]
  },
  {
   "cell_type": "markdown",
   "id": "507ede3c-647a-46f5-a488-0e67130edc6d",
   "metadata": {},
   "source": [
    "#### <u>REAL FUNCTION<u>\n",
    "##### The 'real' function in Python is used to extract the real part of a complex number. It returns a floating-point number that represents the real part of the complex number."
   ]
  },
  {
   "cell_type": "code",
   "execution_count": 33,
   "id": "cfb47378-a1c1-444a-9a51-582a4a6ab128",
   "metadata": {},
   "outputs": [
    {
     "data": {
      "text/plain": [
       "5.0"
      ]
     },
     "execution_count": 33,
     "metadata": {},
     "output_type": "execute_result"
    }
   ],
   "source": [
    "v.real"
   ]
  },
  {
   "cell_type": "markdown",
   "id": "337576b2-5ebb-4512-be36-79d7e56ea248",
   "metadata": {},
   "source": [
    "#### <u>IMAG FUNCTION<u>\n",
    "##### The 'imag' function in Python is used to extract the imaginary part of a complex number. It returns a floating-point number that represents the imaginary part of the complex number."
   ]
  },
  {
   "cell_type": "code",
   "execution_count": 34,
   "id": "3f63336b-2527-4bd6-b074-0f5b104a8b8d",
   "metadata": {},
   "outputs": [
    {
     "data": {
      "text/plain": [
       "8.0"
      ]
     },
     "execution_count": 34,
     "metadata": {},
     "output_type": "execute_result"
    }
   ],
   "source": [
    "v.imag"
   ]
  },
  {
   "cell_type": "markdown",
   "id": "6e57d0b1-4f14-4c99-95e4-e67189c54a21",
   "metadata": {},
   "source": [
    "#### <u>PRINT FUNCTION<u>\n",
    "##### The 'print()' function in Python is used to display the output of your code to the console. It is a very important function as it is used to debug and test your code, as well as to display the results of your code to the user."
   ]
  },
  {
   "cell_type": "code",
   "execution_count": 35,
   "id": "1d61fbbe-c364-4350-aa5a-ad5ad23394f3",
   "metadata": {},
   "outputs": [
    {
     "name": "stdout",
     "output_type": "stream",
     "text": [
      "My name is Anjali.\n"
     ]
    }
   ],
   "source": [
    "print(\"My name is Anjali.\")"
   ]
  },
  {
   "cell_type": "code",
   "execution_count": 36,
   "id": "87406f6f-a731-46d4-879c-31b21e4c9bf7",
   "metadata": {},
   "outputs": [
    {
     "name": "stdout",
     "output_type": "stream",
     "text": [
      "10\n"
     ]
    }
   ],
   "source": [
    "print(a)"
   ]
  },
  {
   "cell_type": "code",
   "execution_count": 37,
   "id": "e56e83b8-8a17-4acb-b3de-23141903c044",
   "metadata": {},
   "outputs": [
    {
     "name": "stdout",
     "output_type": "stream",
     "text": [
      "(5+8j)\n"
     ]
    }
   ],
   "source": [
    "print(v)"
   ]
  },
  {
   "cell_type": "code",
   "execution_count": 14,
   "id": "7b09ffe8-eddc-412d-9cbc-44d8bec3f06a",
   "metadata": {},
   "outputs": [],
   "source": [
    "s = \"pwskills\""
   ]
  },
  {
   "cell_type": "code",
   "execution_count": 39,
   "id": "a7fc83b3-e10d-4443-95be-2f32371604a9",
   "metadata": {},
   "outputs": [
    {
     "data": {
      "text/plain": [
       "str"
      ]
     },
     "execution_count": 39,
     "metadata": {},
     "output_type": "execute_result"
    }
   ],
   "source": [
    "type(s)"
   ]
  },
  {
   "cell_type": "markdown",
   "id": "713a03a6-9a4f-43a5-997e-dad05e3b31c8",
   "metadata": {},
   "source": [
    "#### <u>INDEXING<u>\n",
    "##### The index of an element in a sequence refers to its position within the sequence. In Python, indexing starts from 0, which means the first element in the sequence has an index of 0, the second element has an index of 1, and so on."
   ]
  },
  {
   "cell_type": "code",
   "execution_count": 40,
   "id": "d1d00ebf-9ed1-468a-97df-048bff0a0103",
   "metadata": {},
   "outputs": [
    {
     "data": {
      "text/plain": [
       "'p'"
      ]
     },
     "execution_count": 40,
     "metadata": {},
     "output_type": "execute_result"
    }
   ],
   "source": [
    "s[0]"
   ]
  },
  {
   "cell_type": "code",
   "execution_count": 41,
   "id": "8c617c6a-f202-4112-b18c-7bcb7e2e4a6c",
   "metadata": {},
   "outputs": [
    {
     "data": {
      "text/plain": [
       "'s'"
      ]
     },
     "execution_count": 41,
     "metadata": {},
     "output_type": "execute_result"
    }
   ],
   "source": [
    "s[2]"
   ]
  },
  {
   "cell_type": "code",
   "execution_count": 42,
   "id": "3b2acb98-9d2a-40d8-b340-cb5a1a09d712",
   "metadata": {},
   "outputs": [
    {
     "data": {
      "text/plain": [
       "'k'"
      ]
     },
     "execution_count": 42,
     "metadata": {},
     "output_type": "execute_result"
    }
   ],
   "source": [
    "s[3]"
   ]
  },
  {
   "cell_type": "code",
   "execution_count": 43,
   "id": "fa603673-2c27-4c2f-a7cd-a855126cdb2e",
   "metadata": {},
   "outputs": [
    {
     "data": {
      "text/plain": [
       "'s'"
      ]
     },
     "execution_count": 43,
     "metadata": {},
     "output_type": "execute_result"
    }
   ],
   "source": [
    "s[-1]"
   ]
  },
  {
   "cell_type": "code",
   "execution_count": 44,
   "id": "86a1d567-3fd6-421f-95ca-e176022fae10",
   "metadata": {},
   "outputs": [
    {
     "data": {
      "text/plain": [
       "'p'"
      ]
     },
     "execution_count": 44,
     "metadata": {},
     "output_type": "execute_result"
    }
   ],
   "source": [
    "s[-8]"
   ]
  },
  {
   "cell_type": "markdown",
   "id": "c4e8785a-9b3e-4ee1-bcf8-60e605ea2ed5",
   "metadata": {},
   "source": [
    "#### <u>SLICING<u>\n",
    "##### Slicing is a way to extract a portion, or \"slice\" of a sequence. The slice is specified using the square brackets [ ] and a range of indices separated by a colon ':'. The range of indices defines the start and end of the slice, and optionally a step size. By default, the step size of the slice is 1, which means the slice includes every element in the specified range. However, you can specify a different step size by including it after the second colon ':'."
   ]
  },
  {
   "cell_type": "code",
   "execution_count": 46,
   "id": "fd5bf2a1-e1fd-46b6-aaf4-f30e3a59e101",
   "metadata": {},
   "outputs": [
    {
     "data": {
      "text/plain": [
       "'pws'"
      ]
     },
     "execution_count": 46,
     "metadata": {},
     "output_type": "execute_result"
    }
   ],
   "source": [
    "s[0:3]"
   ]
  },
  {
   "cell_type": "code",
   "execution_count": 47,
   "id": "08c190c0-c375-4f5b-91be-cdf669fb8e9f",
   "metadata": {},
   "outputs": [
    {
     "data": {
      "text/plain": [
       "'pw'"
      ]
     },
     "execution_count": 47,
     "metadata": {},
     "output_type": "execute_result"
    }
   ],
   "source": [
    "s[0:2]"
   ]
  },
  {
   "cell_type": "code",
   "execution_count": 49,
   "id": "81d033dd-7d0e-429b-a342-256a1a882545",
   "metadata": {},
   "outputs": [
    {
     "data": {
      "text/plain": [
       "'pwsk'"
      ]
     },
     "execution_count": 49,
     "metadata": {},
     "output_type": "execute_result"
    }
   ],
   "source": [
    "s[0:4]"
   ]
  },
  {
   "cell_type": "code",
   "execution_count": 63,
   "id": "f2a1de10-62d1-4390-8dfb-3ed6ba22afc0",
   "metadata": {},
   "outputs": [
    {
     "data": {
      "text/plain": [
       "'pwskills'"
      ]
     },
     "execution_count": 63,
     "metadata": {},
     "output_type": "execute_result"
    }
   ],
   "source": [
    "s"
   ]
  },
  {
   "cell_type": "code",
   "execution_count": 64,
   "id": "88b26d77-b8a3-41dd-ad69-c6eb1246174b",
   "metadata": {},
   "outputs": [
    {
     "data": {
      "text/plain": [
       "'psil'"
      ]
     },
     "execution_count": 64,
     "metadata": {},
     "output_type": "execute_result"
    }
   ],
   "source": [
    "s[0:8:2]"
   ]
  },
  {
   "cell_type": "code",
   "execution_count": 65,
   "id": "ecc95c85-405b-4a8d-9d84-59ef50411248",
   "metadata": {},
   "outputs": [
    {
     "data": {
      "text/plain": [
       "'psil'"
      ]
     },
     "execution_count": 65,
     "metadata": {},
     "output_type": "execute_result"
    }
   ],
   "source": [
    "s[::2]"
   ]
  },
  {
   "cell_type": "code",
   "execution_count": 66,
   "id": "579a8382-99c6-4358-a8ba-d1386b2b83af",
   "metadata": {},
   "outputs": [
    {
     "data": {
      "text/plain": [
       "'psil'"
      ]
     },
     "execution_count": 66,
     "metadata": {},
     "output_type": "execute_result"
    }
   ],
   "source": [
    "s[0::2]"
   ]
  },
  {
   "cell_type": "code",
   "execution_count": 67,
   "id": "5a57d357-2027-440d-9481-d7d2b9b22e88",
   "metadata": {},
   "outputs": [
    {
     "data": {
      "text/plain": [
       "'sil'"
      ]
     },
     "execution_count": 67,
     "metadata": {},
     "output_type": "execute_result"
    }
   ],
   "source": [
    "s[2::2]"
   ]
  },
  {
   "cell_type": "code",
   "execution_count": 68,
   "id": "abb9631f-7ccd-4376-9e2f-ab116fd5de18",
   "metadata": {},
   "outputs": [
    {
     "ename": "ValueError",
     "evalue": "slice step cannot be zero",
     "output_type": "error",
     "traceback": [
      "\u001b[0;31m---------------------------------------------------------------------------\u001b[0m",
      "\u001b[0;31mValueError\u001b[0m                                Traceback (most recent call last)",
      "Cell \u001b[0;32mIn[68], line 1\u001b[0m\n\u001b[0;32m----> 1\u001b[0m \u001b[43ms\u001b[49m\u001b[43m[\u001b[49m\u001b[38;5;241;43m2\u001b[39;49m\u001b[43m:\u001b[49m\u001b[43m:\u001b[49m\u001b[38;5;241;43m0\u001b[39;49m\u001b[43m]\u001b[49m\n",
      "\u001b[0;31mValueError\u001b[0m: slice step cannot be zero"
     ]
    }
   ],
   "source": [
    "s[2::0]"
   ]
  },
  {
   "cell_type": "code",
   "execution_count": 69,
   "id": "1a790f02-e7e9-4daf-804a-0b0e24f16402",
   "metadata": {},
   "outputs": [
    {
     "data": {
      "text/plain": [
       "'sllikswp'"
      ]
     },
     "execution_count": 69,
     "metadata": {},
     "output_type": "execute_result"
    }
   ],
   "source": [
    "s[::-1] ## Reverse Direction"
   ]
  },
  {
   "cell_type": "code",
   "execution_count": 71,
   "id": "4abdba78-358a-4764-8d5d-87ba28c15e9f",
   "metadata": {},
   "outputs": [
    {
     "data": {
      "text/plain": [
       "''"
      ]
     },
     "execution_count": 71,
     "metadata": {},
     "output_type": "execute_result"
    }
   ],
   "source": [
    "s[2:8:-1]"
   ]
  },
  {
   "cell_type": "code",
   "execution_count": 72,
   "id": "dd420942-8910-4510-9c00-e4e3fd18d22a",
   "metadata": {},
   "outputs": [
    {
     "data": {
      "text/plain": [
       "''"
      ]
     },
     "execution_count": 72,
     "metadata": {},
     "output_type": "execute_result"
    }
   ],
   "source": [
    "s[8:0]"
   ]
  },
  {
   "cell_type": "code",
   "execution_count": 73,
   "id": "575c95fd-9900-4f23-a5ec-e5401e53bd5e",
   "metadata": {},
   "outputs": [
    {
     "data": {
      "text/plain": [
       "'slliksw'"
      ]
     },
     "execution_count": 73,
     "metadata": {},
     "output_type": "execute_result"
    }
   ],
   "source": [
    "s[8:0:-1]"
   ]
  },
  {
   "cell_type": "code",
   "execution_count": 74,
   "id": "ebca1d97-d1b6-4bf8-823b-98ec62d3917e",
   "metadata": {},
   "outputs": [
    {
     "data": {
      "text/plain": [
       "''"
      ]
     },
     "execution_count": 74,
     "metadata": {},
     "output_type": "execute_result"
    }
   ],
   "source": [
    "s[-2:-8:1]"
   ]
  },
  {
   "cell_type": "code",
   "execution_count": 75,
   "id": "ea79586e-a325-42e1-8f98-93f02c6bb751",
   "metadata": {},
   "outputs": [
    {
     "data": {
      "text/plain": [
       "'lliksw'"
      ]
     },
     "execution_count": 75,
     "metadata": {},
     "output_type": "execute_result"
    }
   ],
   "source": [
    "s[-2:-8:-1]"
   ]
  },
  {
   "cell_type": "code",
   "execution_count": 76,
   "id": "0ae39cde-027a-4897-840e-d04bdce47b0c",
   "metadata": {},
   "outputs": [
    {
     "data": {
      "text/plain": [
       "'sllikswp'"
      ]
     },
     "execution_count": 76,
     "metadata": {},
     "output_type": "execute_result"
    }
   ],
   "source": [
    "s[8::-1]"
   ]
  },
  {
   "cell_type": "code",
   "execution_count": 77,
   "id": "62f663b3-4a1b-44c6-ab07-91f92f2c5cfc",
   "metadata": {},
   "outputs": [
    {
     "data": {
      "text/plain": [
       "'llikswp'"
      ]
     },
     "execution_count": 77,
     "metadata": {},
     "output_type": "execute_result"
    }
   ],
   "source": [
    "s[-2::-1]"
   ]
  },
  {
   "cell_type": "code",
   "execution_count": 78,
   "id": "db3a1984-41aa-41f7-b193-c17d0720cc45",
   "metadata": {},
   "outputs": [
    {
     "data": {
      "text/plain": [
       "'slliksw'"
      ]
     },
     "execution_count": 78,
     "metadata": {},
     "output_type": "execute_result"
    }
   ],
   "source": [
    "s[:-8:-1]"
   ]
  },
  {
   "cell_type": "code",
   "execution_count": 79,
   "id": "d83f7ac7-d365-4ca8-803a-1a2127e5d75c",
   "metadata": {},
   "outputs": [
    {
     "data": {
      "text/plain": [
       "'pwskills'"
      ]
     },
     "execution_count": 79,
     "metadata": {},
     "output_type": "execute_result"
    }
   ],
   "source": [
    "s[::1]"
   ]
  },
  {
   "cell_type": "code",
   "execution_count": 80,
   "id": "ef6b7e08-5ef1-4eae-9d59-a7a699d70326",
   "metadata": {},
   "outputs": [
    {
     "data": {
      "text/plain": [
       "'pwskills'"
      ]
     },
     "execution_count": 80,
     "metadata": {},
     "output_type": "execute_result"
    }
   ],
   "source": [
    "s[::]"
   ]
  },
  {
   "cell_type": "code",
   "execution_count": 83,
   "id": "3afae8e6-f327-4cb3-b0da-03cdb75792d4",
   "metadata": {},
   "outputs": [
    {
     "data": {
      "text/plain": [
       "''"
      ]
     },
     "execution_count": 83,
     "metadata": {},
     "output_type": "execute_result"
    }
   ],
   "source": [
    "s[:-90:]"
   ]
  },
  {
   "cell_type": "code",
   "execution_count": 82,
   "id": "552c2529-e98a-4b25-a6f1-f5cf46346842",
   "metadata": {},
   "outputs": [
    {
     "ename": "IndexError",
     "evalue": "string index out of range",
     "output_type": "error",
     "traceback": [
      "\u001b[0;31m---------------------------------------------------------------------------\u001b[0m",
      "\u001b[0;31mIndexError\u001b[0m                                Traceback (most recent call last)",
      "Cell \u001b[0;32mIn[82], line 1\u001b[0m\n\u001b[0;32m----> 1\u001b[0m \u001b[43ms\u001b[49m\u001b[43m[\u001b[49m\u001b[38;5;241;43m90\u001b[39;49m\u001b[43m]\u001b[49m\n",
      "\u001b[0;31mIndexError\u001b[0m: string index out of range"
     ]
    }
   ],
   "source": [
    "s[90]"
   ]
  },
  {
   "cell_type": "code",
   "execution_count": 84,
   "id": "8541a8ac-e901-4b5a-87c8-acbefca333cc",
   "metadata": {},
   "outputs": [
    {
     "data": {
      "text/plain": [
       "'sllikswp'"
      ]
     },
     "execution_count": 84,
     "metadata": {},
     "output_type": "execute_result"
    }
   ],
   "source": [
    "s[:-90:-1]"
   ]
  },
  {
   "cell_type": "code",
   "execution_count": 85,
   "id": "12fb0d11-9291-4cc0-984c-bdf17c44ba98",
   "metadata": {},
   "outputs": [],
   "source": [
    "c = 200"
   ]
  },
  {
   "cell_type": "code",
   "execution_count": 86,
   "id": "67c22437-b347-45f9-845d-eb634e9aeaf7",
   "metadata": {},
   "outputs": [
    {
     "ename": "TypeError",
     "evalue": "'int' object is not subscriptable",
     "output_type": "error",
     "traceback": [
      "\u001b[0;31m---------------------------------------------------------------------------\u001b[0m",
      "\u001b[0;31mTypeError\u001b[0m                                 Traceback (most recent call last)",
      "Cell \u001b[0;32mIn[86], line 1\u001b[0m\n\u001b[0;32m----> 1\u001b[0m \u001b[43mc\u001b[49m\u001b[43m[\u001b[49m\u001b[38;5;241;43m0\u001b[39;49m\u001b[43m]\u001b[49m\n",
      "\u001b[0;31mTypeError\u001b[0m: 'int' object is not subscriptable"
     ]
    }
   ],
   "source": [
    "c[0]"
   ]
  },
  {
   "cell_type": "code",
   "execution_count": 2,
   "id": "033ff62d-17fa-46ab-80b2-e89eec3a5c00",
   "metadata": {},
   "outputs": [],
   "source": [
    "s1 = \"This is my string class\""
   ]
  },
  {
   "cell_type": "markdown",
   "id": "5ac3a0fc-fb5a-4b0e-bacd-f380ed1bb493",
   "metadata": {},
   "source": [
    "#### <u>len() FUNCTION<u>\n",
    "##### The 'len()' function is a built-in function that returns the number of items in an object."
   ]
  },
  {
   "cell_type": "code",
   "execution_count": 97,
   "id": "76e43e70-6b38-41ea-a803-81212dca8715",
   "metadata": {},
   "outputs": [
    {
     "data": {
      "text/plain": [
       "23"
      ]
     },
     "execution_count": 97,
     "metadata": {},
     "output_type": "execute_result"
    }
   ],
   "source": [
    "len(s1)"
   ]
  },
  {
   "cell_type": "markdown",
   "id": "625527aa-cc91-4fe5-8aae-10485837ce89",
   "metadata": {},
   "source": [
    "#### <u>find() FUNCTION<u>\n",
    "##### The 'find()' method is a string method that is used to search for the first occurrence of a substring within a string and return its index. If the substring is not found, the find() method returns -1."
   ]
  },
  {
   "cell_type": "code",
   "execution_count": 98,
   "id": "d767c352-9233-43df-aa50-1a99ebe37459",
   "metadata": {},
   "outputs": [
    {
     "data": {
      "text/plain": [
       "3"
      ]
     },
     "execution_count": 98,
     "metadata": {},
     "output_type": "execute_result"
    }
   ],
   "source": [
    "s1.find(\"s\")"
   ]
  },
  {
   "cell_type": "code",
   "execution_count": 99,
   "id": "104225c4-d83e-49e6-8239-2522522bff57",
   "metadata": {},
   "outputs": [
    {
     "data": {
      "text/plain": [
       "2"
      ]
     },
     "execution_count": 99,
     "metadata": {},
     "output_type": "execute_result"
    }
   ],
   "source": [
    "s1.find(\"i\")"
   ]
  },
  {
   "cell_type": "code",
   "execution_count": 100,
   "id": "921a0104-66d8-45fc-88ed-2eee71ec5267",
   "metadata": {},
   "outputs": [
    {
     "data": {
      "text/plain": [
       "2"
      ]
     },
     "execution_count": 100,
     "metadata": {},
     "output_type": "execute_result"
    }
   ],
   "source": [
    "s1.find(\"is\")"
   ]
  },
  {
   "cell_type": "code",
   "execution_count": 101,
   "id": "db0d9749-0323-4e01-b624-4e64171fa3e1",
   "metadata": {},
   "outputs": [
    {
     "data": {
      "text/plain": [
       "-1"
      ]
     },
     "execution_count": 101,
     "metadata": {},
     "output_type": "execute_result"
    }
   ],
   "source": [
    "s1.find(\"iS\")"
   ]
  },
  {
   "cell_type": "markdown",
   "id": "929307b8-b40c-4670-811c-4bde00a40705",
   "metadata": {},
   "source": [
    "#### <u>count() FUNCTION<u>\n",
    "##### The 'count()' method is a string method that returns the number of occurrences of a substring within a string."
   ]
  },
  {
   "cell_type": "code",
   "execution_count": 3,
   "id": "881589bb-44bf-4f6f-a25a-0d76f9d17146",
   "metadata": {},
   "outputs": [
    {
     "data": {
      "text/plain": [
       "5"
      ]
     },
     "execution_count": 3,
     "metadata": {},
     "output_type": "execute_result"
    }
   ],
   "source": [
    "s1.count(\"s\")"
   ]
  },
  {
   "cell_type": "code",
   "execution_count": 4,
   "id": "cb900643-5eb4-4d2d-bfc8-f4f63d1bf2d3",
   "metadata": {},
   "outputs": [
    {
     "data": {
      "text/plain": [
       "1"
      ]
     },
     "execution_count": 4,
     "metadata": {},
     "output_type": "execute_result"
    }
   ],
   "source": [
    "s1.count(\"st\")"
   ]
  },
  {
   "cell_type": "code",
   "execution_count": 5,
   "id": "ff643d34-9e9e-4317-a7ed-ede7822fa470",
   "metadata": {},
   "outputs": [
    {
     "data": {
      "text/plain": [
       "0"
      ]
     },
     "execution_count": 5,
     "metadata": {},
     "output_type": "execute_result"
    }
   ],
   "source": [
    "s1.count(\"z\")"
   ]
  },
  {
   "cell_type": "code",
   "execution_count": 6,
   "id": "0fd21c99-2229-45de-8c2a-f5aef84df0c9",
   "metadata": {},
   "outputs": [
    {
     "data": {
      "text/plain": [
       "'This is my string class'"
      ]
     },
     "execution_count": 6,
     "metadata": {},
     "output_type": "execute_result"
    }
   ],
   "source": [
    "s1"
   ]
  },
  {
   "cell_type": "markdown",
   "id": "780adee2-6474-45c8-b04d-a89d4200a3aa",
   "metadata": {},
   "source": [
    "#### <u>upper() FUNCTION<u>\n",
    "##### The 'upper()' method is a string method that returns a new string with all the characters of the original string converted to uppercase."
   ]
  },
  {
   "cell_type": "code",
   "execution_count": 7,
   "id": "57a9edf6-8389-4799-8cfb-ad20395a1ee4",
   "metadata": {},
   "outputs": [
    {
     "data": {
      "text/plain": [
       "'THIS IS MY STRING CLASS'"
      ]
     },
     "execution_count": 7,
     "metadata": {},
     "output_type": "execute_result"
    }
   ],
   "source": [
    "s1.upper()"
   ]
  },
  {
   "cell_type": "markdown",
   "id": "269ad2dc-7071-463f-bbac-fbe5ed97f4ea",
   "metadata": {},
   "source": [
    "#### <u>lower() FUNCTION<u>\n",
    "##### The 'lower()' method is a string method that returns a new string with all the characters of the original string converted to lowercase."
   ]
  },
  {
   "cell_type": "code",
   "execution_count": 8,
   "id": "3d69b848-2072-46bd-8627-3286fb218974",
   "metadata": {},
   "outputs": [
    {
     "data": {
      "text/plain": [
       "'this is my string class'"
      ]
     },
     "execution_count": 8,
     "metadata": {},
     "output_type": "execute_result"
    }
   ],
   "source": [
    "s1.lower()"
   ]
  },
  {
   "cell_type": "code",
   "execution_count": 9,
   "id": "aeb4fa8b-f94c-4831-840c-ea1b68bde6a6",
   "metadata": {},
   "outputs": [
    {
     "data": {
      "text/plain": [
       "'This is my string class'"
      ]
     },
     "execution_count": 9,
     "metadata": {},
     "output_type": "execute_result"
    }
   ],
   "source": [
    "s1"
   ]
  },
  {
   "cell_type": "markdown",
   "id": "434a08b0-d482-403a-8935-12935cbbeab8",
   "metadata": {},
   "source": [
    "#### <u>title() FUNCTION<u>\n",
    "##### The 'title()' method is a string method that returns a new string with the first character of each word in the original string converted to uppercase and the rest of the characters converted to lowercase."
   ]
  },
  {
   "cell_type": "code",
   "execution_count": 11,
   "id": "56756aa6-e452-4a59-b6c6-2bea8c07a7a5",
   "metadata": {},
   "outputs": [
    {
     "data": {
      "text/plain": [
       "'This Is My String Class'"
      ]
     },
     "execution_count": 11,
     "metadata": {},
     "output_type": "execute_result"
    }
   ],
   "source": [
    "s1.title()"
   ]
  },
  {
   "cell_type": "markdown",
   "id": "8ea77c12-7a3b-4d3c-8e3d-ffa4e880497c",
   "metadata": {},
   "source": [
    "#### <u>capitalize() FUNCTION<u>\n",
    "##### The 'capitalize()' method is a string method that returns a new string with the first character of the original string converted to uppercase and the rest of the characters converted to lowercase."
   ]
  },
  {
   "cell_type": "code",
   "execution_count": 12,
   "id": "52e8f0bf-3b43-436b-864a-23ed93bd884a",
   "metadata": {},
   "outputs": [
    {
     "data": {
      "text/plain": [
       "'This is my string class'"
      ]
     },
     "execution_count": 12,
     "metadata": {},
     "output_type": "execute_result"
    }
   ],
   "source": [
    "s1.capitalize()"
   ]
  },
  {
   "cell_type": "code",
   "execution_count": 15,
   "id": "4083c651-830d-4ce2-bbab-a097dc6e9a4d",
   "metadata": {},
   "outputs": [
    {
     "data": {
      "text/plain": [
       "'pwskills'"
      ]
     },
     "execution_count": 15,
     "metadata": {},
     "output_type": "execute_result"
    }
   ],
   "source": [
    "s"
   ]
  },
  {
   "cell_type": "markdown",
   "id": "d8f686b8-15cf-4217-84fb-802e78d2f1a5",
   "metadata": {},
   "source": [
    "#### <u>STRING CONCATENATION<u>\n",
    "##### You can concatenate (combine) two or more strings into a single string using the '+' operator. You can also use the + operator to concatenate strings with other data types, such as numbers. However, you will need to convert the other data type to a string using the str() function before concatenating it with a string."
   ]
  },
  {
   "cell_type": "code",
   "execution_count": 16,
   "id": "49b61099-663f-442f-8ac7-6472c63a37a8",
   "metadata": {},
   "outputs": [
    {
     "ename": "TypeError",
     "evalue": "can only concatenate str (not \"int\") to str",
     "output_type": "error",
     "traceback": [
      "\u001b[0;31m---------------------------------------------------------------------------\u001b[0m",
      "\u001b[0;31mTypeError\u001b[0m                                 Traceback (most recent call last)",
      "Cell \u001b[0;32mIn[16], line 1\u001b[0m\n\u001b[0;32m----> 1\u001b[0m \u001b[43ms\u001b[49m\u001b[43m \u001b[49m\u001b[38;5;241;43m+\u001b[39;49m\u001b[43m \u001b[49m\u001b[38;5;241;43m1\u001b[39;49m\n",
      "\u001b[0;31mTypeError\u001b[0m: can only concatenate str (not \"int\") to str"
     ]
    }
   ],
   "source": [
    "s + 1"
   ]
  },
  {
   "cell_type": "code",
   "execution_count": 18,
   "id": "57a1961e-5805-45d6-9c89-f96fbf8610dd",
   "metadata": {},
   "outputs": [
    {
     "data": {
      "text/plain": [
       "'pwskillsanju'"
      ]
     },
     "execution_count": 18,
     "metadata": {},
     "output_type": "execute_result"
    }
   ],
   "source": [
    "s + \"anju\""
   ]
  },
  {
   "cell_type": "code",
   "execution_count": 19,
   "id": "fe275c38-6d2b-4d85-96f6-e804867d8c69",
   "metadata": {},
   "outputs": [
    {
     "data": {
      "text/plain": [
       "'pwskills1'"
      ]
     },
     "execution_count": 19,
     "metadata": {},
     "output_type": "execute_result"
    }
   ],
   "source": [
    "s + \"1\""
   ]
  },
  {
   "cell_type": "code",
   "execution_count": 20,
   "id": "76899b6f-b26c-4fc0-938a-6fc2e645289d",
   "metadata": {},
   "outputs": [
    {
     "data": {
      "text/plain": [
       "'pwskills1'"
      ]
     },
     "execution_count": 20,
     "metadata": {},
     "output_type": "execute_result"
    }
   ],
   "source": [
    "s + str(1)"
   ]
  },
  {
   "cell_type": "markdown",
   "id": "24fca6ac-c110-4b23-b61d-ea2b593b74ec",
   "metadata": {},
   "source": [
    "#### <u>CREATE MULTIPLE COPIES OF A STRING<u>\n",
    "##### You can use the '*' operator to repeat a string multiple times."
   ]
  },
  {
   "cell_type": "code",
   "execution_count": 21,
   "id": "539833a9-517b-4951-aa27-2cd5538f0c0f",
   "metadata": {},
   "outputs": [
    {
     "data": {
      "text/plain": [
       "'pwskillspwskillspwskills'"
      ]
     },
     "execution_count": 21,
     "metadata": {},
     "output_type": "execute_result"
    }
   ],
   "source": [
    "s * 3"
   ]
  },
  {
   "cell_type": "code",
   "execution_count": 2,
   "id": "235dec93-741e-4f2e-b79b-240e228d2e00",
   "metadata": {},
   "outputs": [
    {
     "ename": "TypeError",
     "evalue": "unsupported operand type(s) for /: 'str' and 'int'",
     "output_type": "error",
     "traceback": [
      "\u001b[0;31m---------------------------------------------------------------------------\u001b[0m",
      "\u001b[0;31mTypeError\u001b[0m                                 Traceback (most recent call last)",
      "Cell \u001b[0;32mIn[2], line 1\u001b[0m\n\u001b[0;32m----> 1\u001b[0m \u001b[38;5;124;43m\"\u001b[39;49m\u001b[38;5;124;43manju\u001b[39;49m\u001b[38;5;124;43m\"\u001b[39;49m\u001b[43m \u001b[49m\u001b[38;5;241;43m/\u001b[39;49m\u001b[43m \u001b[49m\u001b[38;5;241;43m3\u001b[39;49m\n",
      "\u001b[0;31mTypeError\u001b[0m: unsupported operand type(s) for /: 'str' and 'int'"
     ]
    }
   ],
   "source": [
    "\"anju\" / 3"
   ]
  },
  {
   "cell_type": "code",
   "execution_count": 24,
   "id": "751811c7-549a-4b69-9cb8-4167075ea59a",
   "metadata": {},
   "outputs": [
    {
     "data": {
      "text/plain": [
       "\"Don't do copy and paste in my class\""
      ]
     },
     "execution_count": 24,
     "metadata": {},
     "output_type": "execute_result"
    }
   ],
   "source": [
    "\"Don't do copy and paste in my class\""
   ]
  },
  {
   "cell_type": "code",
   "execution_count": 25,
   "id": "2dc17a33-c127-4500-afb3-f1a6e678f471",
   "metadata": {},
   "outputs": [
    {
     "data": {
      "text/plain": [
       "'Don\"t do copy and paste in my class'"
      ]
     },
     "execution_count": 25,
     "metadata": {},
     "output_type": "execute_result"
    }
   ],
   "source": [
    "'Don\"t do copy and paste in my class'"
   ]
  },
  {
   "cell_type": "markdown",
   "id": "1f3611f6-b6b6-4ab5-b8d4-030cd8f1c315",
   "metadata": {},
   "source": [
    "#### <u>SINGLE-LINE COMMENTS<u>\n",
    "##### You can add a comment to your code by starting a line with the '#' symbol. Everything following the '#' symbol on that line is ignored by the Python interpreter and treated as a comment."
   ]
  },
  {
   "cell_type": "code",
   "execution_count": 28,
   "id": "85fc932a-b40a-43bd-9127-cfae86115bba",
   "metadata": {},
   "outputs": [],
   "source": [
    "# Ctrl + / to comment on all lines\n",
    "# This is my first class for programming\n",
    "# I have learnt variable declaration, data types, string, int, boolean, complex number.\n",
    "# I have gone through some of the string inbuilt function\n",
    "# Apart from that I am trying to practice in my system\n",
    "# but some of us in our class are not executing code and still they are answering which is bad"
   ]
  },
  {
   "cell_type": "markdown",
   "id": "59189251-62a7-451b-8827-873baa736207",
   "metadata": {},
   "source": [
    "#### <u>MULTI-LINE COMMENTS<u>\n",
    "##### You can add multi-line comments to your code by using triple quotes \"\"\". Everything between the triple quotes is ignored by the Python interpreter and treated as a comment. You can use either single quotes ''' or double quotes \"\"\" for multi-line comments."
   ]
  },
  {
   "cell_type": "code",
   "execution_count": 29,
   "id": "0c423bc5-df2e-4a38-894e-40c678780e16",
   "metadata": {},
   "outputs": [
    {
     "data": {
      "text/plain": [
       "' Ctrl + / to comment on all lines\\nThis is my first class for programming\\nI have learnt variable declaration, data types, string, int, boolean, complex number.\\nI have gone through some of the string inbuilt function\\nApart from that I am trying to practice in my system\\nbut some of us in our class are not executing code and still they are answering which is bad'"
      ]
     },
     "execution_count": 29,
     "metadata": {},
     "output_type": "execute_result"
    }
   ],
   "source": [
    "\"\"\" Ctrl + / to comment on all lines\n",
    "This is my first class for programming\n",
    "I have learnt variable declaration, data types, string, int, boolean, complex number.\n",
    "I have gone through some of the string inbuilt function\n",
    "Apart from that I am trying to practice in my system\n",
    "but some of us in our class are not executing code and still they are answering which is bad\"\"\""
   ]
  }
 ],
 "metadata": {
  "kernelspec": {
   "display_name": "Python 3 (ipykernel)",
   "language": "python",
   "name": "python3"
  },
  "language_info": {
   "codemirror_mode": {
    "name": "ipython",
    "version": 3
   },
   "file_extension": ".py",
   "mimetype": "text/x-python",
   "name": "python",
   "nbconvert_exporter": "python",
   "pygments_lexer": "ipython3",
   "version": "3.10.8"
  }
 },
 "nbformat": 4,
 "nbformat_minor": 5
}
