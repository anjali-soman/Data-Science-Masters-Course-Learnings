{
 "cells": [
  {
   "cell_type": "markdown",
   "id": "09b5bd4d-fa39-45e5-b83f-858d997c62da",
   "metadata": {},
   "source": [
    "#### <u>GENERATOR FUNCTION<u>\n",
    "    \n",
    "##### A Generator function can be used to create an iterator. Unlike regular functions that execute and return a value, generator functions use the yield keyword to produce a sequence of values on the fly.\n",
    "\n",
    "##### When you call a generator function, it returns a generator object. You can then iterate over the generator object to produce a sequence of values. The values are generated one at a time, only when you ask for them, so generator functions can be more memory-efficient than generating the entire sequence at once."
   ]
  },
  {
   "cell_type": "code",
   "execution_count": 1,
   "id": "16e71a75-bb4b-4770-846f-df5b9b321286",
   "metadata": {},
   "outputs": [
    {
     "data": {
      "text/plain": [
       "range(0, 10)"
      ]
     },
     "execution_count": 1,
     "metadata": {},
     "output_type": "execute_result"
    }
   ],
   "source": [
    "range(10)"
   ]
  },
  {
   "cell_type": "code",
   "execution_count": 2,
   "id": "f4b90d46-2a5d-4e31-94e7-7657f9f2966e",
   "metadata": {},
   "outputs": [
    {
     "name": "stdout",
     "output_type": "stream",
     "text": [
      "0\n",
      "1\n",
      "2\n",
      "3\n",
      "4\n",
      "5\n",
      "6\n",
      "7\n",
      "8\n",
      "9\n"
     ]
    }
   ],
   "source": [
    "for i in range(10):\n",
    "    print(i)"
   ]
  },
  {
   "cell_type": "markdown",
   "id": "9fbb9f99-635f-4155-b0ac-ed0c382375b4",
   "metadata": {},
   "source": [
    "#### <u>yield<u>\n",
    "\n",
    "##### The 'yield' keyword is used in generator functions to produce a sequence of values on the fly. When a generator function encounters the 'yield' keyword, it returns the value to the caller, but it does not exit the function completely. Instead, it pauses the function and saves its state, so that it can be resumed later."
   ]
  },
  {
   "cell_type": "code",
   "execution_count": 3,
   "id": "836269b7-028c-44c9-8e27-2ba8ff95c58c",
   "metadata": {},
   "outputs": [],
   "source": [
    "## Fibonacci Series\n",
    "def test_fib(n):\n",
    "    a,b = 0,1\n",
    "    for i in range(n):\n",
    "        yield a\n",
    "        a,b = b , a+b"
   ]
  },
  {
   "cell_type": "code",
   "execution_count": 4,
   "id": "9664d47e-9198-46af-803f-cccd6f401d1d",
   "metadata": {},
   "outputs": [
    {
     "data": {
      "text/plain": [
       "<generator object test_fib at 0x7fe5ad09d850>"
      ]
     },
     "execution_count": 4,
     "metadata": {},
     "output_type": "execute_result"
    }
   ],
   "source": [
    "test_fib(10)"
   ]
  },
  {
   "cell_type": "code",
   "execution_count": 5,
   "id": "a7805abc-7ad1-4c23-9a62-0c8de534a734",
   "metadata": {},
   "outputs": [
    {
     "name": "stdout",
     "output_type": "stream",
     "text": [
      "0\n",
      "1\n",
      "1\n",
      "2\n",
      "3\n",
      "5\n",
      "8\n",
      "13\n",
      "21\n",
      "34\n"
     ]
    }
   ],
   "source": [
    "for i in test_fib(10):\n",
    "    print(i)"
   ]
  },
  {
   "cell_type": "code",
   "execution_count": 8,
   "id": "4423d476-50ba-4428-9a0d-e93e5f079fe4",
   "metadata": {},
   "outputs": [],
   "source": [
    "## Fibonacci Series\n",
    "def test_fib1():\n",
    "    a,b = 0,1\n",
    "    while True:\n",
    "        yield a\n",
    "        a,b = b , a+b"
   ]
  },
  {
   "cell_type": "code",
   "execution_count": 9,
   "id": "fcb3f926-cd6f-4736-9d07-3f042ee05d35",
   "metadata": {},
   "outputs": [],
   "source": [
    "fib = test_fib1()"
   ]
  },
  {
   "cell_type": "code",
   "execution_count": 21,
   "id": "21841e5f-22f7-474f-b1e4-dd2262e6018b",
   "metadata": {},
   "outputs": [
    {
     "data": {
      "text/plain": [
       "generator"
      ]
     },
     "execution_count": 21,
     "metadata": {},
     "output_type": "execute_result"
    }
   ],
   "source": [
    "type(fib)"
   ]
  },
  {
   "cell_type": "markdown",
   "id": "1eeb7f31-1660-44dd-9073-9e65f364a762",
   "metadata": {},
   "source": [
    "#### <u>next<u>\n",
    "\n",
    "##### The 'next()' function is used to retrieve the next value from an iterator."
   ]
  },
  {
   "cell_type": "code",
   "execution_count": 10,
   "id": "c361d4c1-cb87-4d43-8e13-e597904eaa6e",
   "metadata": {},
   "outputs": [
    {
     "name": "stdout",
     "output_type": "stream",
     "text": [
      "0\n",
      "1\n",
      "1\n",
      "2\n",
      "3\n",
      "5\n",
      "8\n",
      "13\n",
      "21\n",
      "34\n"
     ]
    }
   ],
   "source": [
    "for i in range(10):\n",
    "    print(next(fib))"
   ]
  },
  {
   "cell_type": "code",
   "execution_count": 11,
   "id": "7e6aa0e2-2450-4c33-ad0f-680b81546528",
   "metadata": {},
   "outputs": [],
   "source": [
    "s = \"anju\""
   ]
  },
  {
   "cell_type": "code",
   "execution_count": 12,
   "id": "0fdcca63-8b3c-4395-806d-649cfc7dfb29",
   "metadata": {},
   "outputs": [
    {
     "name": "stdout",
     "output_type": "stream",
     "text": [
      "a\n",
      "n\n",
      "j\n",
      "u\n"
     ]
    }
   ],
   "source": [
    "for i in s:\n",
    "    print(i)"
   ]
  },
  {
   "cell_type": "code",
   "execution_count": 13,
   "id": "e85d3b13-89a3-4f7b-8181-3423df50ea83",
   "metadata": {},
   "outputs": [
    {
     "data": {
      "text/plain": [
       "'anju'"
      ]
     },
     "execution_count": 13,
     "metadata": {},
     "output_type": "execute_result"
    }
   ],
   "source": [
    "s"
   ]
  },
  {
   "cell_type": "code",
   "execution_count": 14,
   "id": "9cd9c35b-ee22-4e74-bd9a-0c2be4a1959c",
   "metadata": {},
   "outputs": [
    {
     "ename": "TypeError",
     "evalue": "'str' object is not an iterator",
     "output_type": "error",
     "traceback": [
      "\u001b[0;31m---------------------------------------------------------------------------\u001b[0m",
      "\u001b[0;31mTypeError\u001b[0m                                 Traceback (most recent call last)",
      "Cell \u001b[0;32mIn[14], line 1\u001b[0m\n\u001b[0;32m----> 1\u001b[0m \u001b[38;5;28;43mnext\u001b[39;49m\u001b[43m(\u001b[49m\u001b[43ms\u001b[49m\u001b[43m)\u001b[49m\n",
      "\u001b[0;31mTypeError\u001b[0m: 'str' object is not an iterator"
     ]
    }
   ],
   "source": [
    "next(s)"
   ]
  },
  {
   "cell_type": "markdown",
   "id": "45350e63-a059-4887-aa6b-a5acfba1b62d",
   "metadata": {},
   "source": [
    "#### <u>iter<u>\n",
    "\n",
    "##### The 'iter()' function is used to create an iterator object from an iterable. The 'iter()' function takes an iterable as its argument and returns an iterator object."
   ]
  },
  {
   "cell_type": "code",
   "execution_count": 15,
   "id": "bf41a35b-826c-4efc-bfd2-8eba2f08199e",
   "metadata": {},
   "outputs": [],
   "source": [
    "s1 = iter(s)"
   ]
  },
  {
   "cell_type": "markdown",
   "id": "b9c66708-fdff-4f58-ae1b-4d2269b447d2",
   "metadata": {},
   "source": [
    "#### <u>Iterator Vs Iterable<u>\n",
    "\n",
    "##### An iterable is any object that can be used to produce a sequence of values, one at a time. An iterator is an object that produces those values as you iterate over the iterable."
   ]
  },
  {
   "cell_type": "code",
   "execution_count": 20,
   "id": "d7d86236-6223-4d84-9431-644d860e2884",
   "metadata": {},
   "outputs": [
    {
     "data": {
      "text/plain": [
       "str_iterator"
      ]
     },
     "execution_count": 20,
     "metadata": {},
     "output_type": "execute_result"
    }
   ],
   "source": [
    "type(s1)"
   ]
  },
  {
   "cell_type": "code",
   "execution_count": 16,
   "id": "d04d2f8f-07e7-45ca-b112-2cb4f66b5367",
   "metadata": {},
   "outputs": [
    {
     "data": {
      "text/plain": [
       "'a'"
      ]
     },
     "execution_count": 16,
     "metadata": {},
     "output_type": "execute_result"
    }
   ],
   "source": [
    "next(s1)"
   ]
  },
  {
   "cell_type": "code",
   "execution_count": 17,
   "id": "793f14e9-75ae-4cbd-8c7d-ed63952437ee",
   "metadata": {},
   "outputs": [
    {
     "data": {
      "text/plain": [
       "'n'"
      ]
     },
     "execution_count": 17,
     "metadata": {},
     "output_type": "execute_result"
    }
   ],
   "source": [
    "next(s1)"
   ]
  },
  {
   "cell_type": "code",
   "execution_count": 18,
   "id": "3e75c78a-a81a-4e7a-8eff-af1b899da74e",
   "metadata": {},
   "outputs": [
    {
     "data": {
      "text/plain": [
       "'j'"
      ]
     },
     "execution_count": 18,
     "metadata": {},
     "output_type": "execute_result"
    }
   ],
   "source": [
    "next(s1)"
   ]
  },
  {
   "cell_type": "code",
   "execution_count": 19,
   "id": "244f561a-c010-4e15-b42e-dc585dd72413",
   "metadata": {},
   "outputs": [
    {
     "data": {
      "text/plain": [
       "'u'"
      ]
     },
     "execution_count": 19,
     "metadata": {},
     "output_type": "execute_result"
    }
   ],
   "source": [
    "next(s1)"
   ]
  },
  {
   "cell_type": "code",
   "execution_count": 22,
   "id": "5adf119a-ff0a-4624-ae3e-7a8898ccf81b",
   "metadata": {},
   "outputs": [],
   "source": [
    "def count_test(n):\n",
    "    count = 1\n",
    "    while count < n :\n",
    "        yield count\n",
    "        count = count + 1"
   ]
  },
  {
   "cell_type": "code",
   "execution_count": 23,
   "id": "a4dcebe4-ec51-41e1-98f7-a844cbf52727",
   "metadata": {},
   "outputs": [],
   "source": [
    "c = count_test(5)"
   ]
  },
  {
   "cell_type": "code",
   "execution_count": 24,
   "id": "37792702-d532-459b-9f35-290b496dd62c",
   "metadata": {},
   "outputs": [
    {
     "name": "stdout",
     "output_type": "stream",
     "text": [
      "1\n",
      "2\n",
      "3\n",
      "4\n"
     ]
    }
   ],
   "source": [
    "for i in c :\n",
    "    print(i)"
   ]
  },
  {
   "cell_type": "markdown",
   "id": "22cd0900-ce06-42c2-826c-67ef1ad5c408",
   "metadata": {},
   "source": [
    "#### <u>Generator<u>\n",
    "\n",
    "##### A generator is a type of iterator that generates a sequence of values on-the-fly, rather than storing all the values in memory at once. A generator function is a special type of function that can be used to create generator objects."
   ]
  },
  {
   "cell_type": "code",
   "execution_count": 25,
   "id": "fe006f43-8ea0-429c-a8f5-77adea05fada",
   "metadata": {},
   "outputs": [
    {
     "data": {
      "text/plain": [
       "generator"
      ]
     },
     "execution_count": 25,
     "metadata": {},
     "output_type": "execute_result"
    }
   ],
   "source": [
    "type(c)"
   ]
  },
  {
   "cell_type": "markdown",
   "id": "a20b6a08-631c-4363-bb7f-5b7bdc90fc34",
   "metadata": {},
   "source": [
    "#### <u>LAMBDA FUNCTION<u>\n",
    "    \n",
    "##### A lambda function is a small, anonymous function that can have any number of arguments, but can only have one expression. The syntax for a lambda function is 'lambda arguments: expression'. The 'arguments' are the parameters for the function, and the 'expression' is the code that is executed when the function is called."
   ]
  },
  {
   "cell_type": "code",
   "execution_count": 1,
   "id": "d685b9d3-639f-4624-928d-63cd4555e13a",
   "metadata": {},
   "outputs": [],
   "source": [
    "n = 3\n",
    "p = 2"
   ]
  },
  {
   "cell_type": "code",
   "execution_count": 2,
   "id": "3a9f26ae-c6d8-452e-967c-381b78fc4d39",
   "metadata": {},
   "outputs": [],
   "source": [
    "def test(n,p):\n",
    "    return n**p"
   ]
  },
  {
   "cell_type": "code",
   "execution_count": 3,
   "id": "f72a79ed-6fea-43ad-af61-de7c92c34982",
   "metadata": {},
   "outputs": [
    {
     "data": {
      "text/plain": [
       "9"
      ]
     },
     "execution_count": 3,
     "metadata": {},
     "output_type": "execute_result"
    }
   ],
   "source": [
    "test(3,2)"
   ]
  },
  {
   "cell_type": "code",
   "execution_count": 6,
   "id": "c78b8a41-ccf9-4b9d-9fd6-56bdcbcb5f47",
   "metadata": {},
   "outputs": [],
   "source": [
    "a = lambda n,p :n**p"
   ]
  },
  {
   "cell_type": "code",
   "execution_count": 7,
   "id": "99c64bac-dd9f-45f0-b31e-095465a79a38",
   "metadata": {},
   "outputs": [
    {
     "data": {
      "text/plain": [
       "9"
      ]
     },
     "execution_count": 7,
     "metadata": {},
     "output_type": "execute_result"
    }
   ],
   "source": [
    "a(3,2)"
   ]
  },
  {
   "cell_type": "code",
   "execution_count": 8,
   "id": "b7ab52bd-b665-4a2b-a516-45515992a15e",
   "metadata": {},
   "outputs": [],
   "source": [
    "add = lambda x,y : x+y"
   ]
  },
  {
   "cell_type": "code",
   "execution_count": 10,
   "id": "72c99e37-bc46-4e0c-a327-66f74d53b395",
   "metadata": {},
   "outputs": [
    {
     "data": {
      "text/plain": [
       "9"
      ]
     },
     "execution_count": 10,
     "metadata": {},
     "output_type": "execute_result"
    }
   ],
   "source": [
    "add(4,5)"
   ]
  },
  {
   "cell_type": "code",
   "execution_count": 11,
   "id": "bc491e05-d2dd-4267-8aff-582940bb1f56",
   "metadata": {},
   "outputs": [],
   "source": [
    "## Celsius To Fahrenheit\n",
    "c_to_f = lambda c : (9/5)*c + 32"
   ]
  },
  {
   "cell_type": "code",
   "execution_count": 12,
   "id": "092f57f2-bf47-4867-abf6-ded259f157be",
   "metadata": {},
   "outputs": [
    {
     "data": {
      "text/plain": [
       "113.0"
      ]
     },
     "execution_count": 12,
     "metadata": {},
     "output_type": "execute_result"
    }
   ],
   "source": [
    "c_to_f(45)"
   ]
  },
  {
   "cell_type": "code",
   "execution_count": 13,
   "id": "60d66fde-6a88-448a-88c5-7413ea2d3216",
   "metadata": {},
   "outputs": [],
   "source": [
    "## Finding A Maximum Of 2 Numbers\n",
    "finding_max = lambda x,y : x if x>y else y"
   ]
  },
  {
   "cell_type": "code",
   "execution_count": 14,
   "id": "0436cf9b-6e27-48f0-a307-843e18aeec09",
   "metadata": {},
   "outputs": [
    {
     "data": {
      "text/plain": [
       "40"
      ]
     },
     "execution_count": 14,
     "metadata": {},
     "output_type": "execute_result"
    }
   ],
   "source": [
    "finding_max(10,40)"
   ]
  },
  {
   "cell_type": "code",
   "execution_count": 15,
   "id": "dcae3413-b4b8-485a-b8fa-31e19dbe36b4",
   "metadata": {},
   "outputs": [],
   "source": [
    "\n",
    "s = \"pwskills\""
   ]
  },
  {
   "cell_type": "code",
   "execution_count": 17,
   "id": "62c0d71c-b6cf-451d-b763-ac20de0d7bb8",
   "metadata": {},
   "outputs": [],
   "source": [
    "find_len = lambda s : len(s)"
   ]
  },
  {
   "cell_type": "code",
   "execution_count": 18,
   "id": "fe25bfad-6af7-4933-ae02-682bee322487",
   "metadata": {},
   "outputs": [
    {
     "data": {
      "text/plain": [
       "8"
      ]
     },
     "execution_count": 18,
     "metadata": {},
     "output_type": "execute_result"
    }
   ],
   "source": [
    "find_len(s)"
   ]
  },
  {
   "cell_type": "markdown",
   "id": "62a47a02-9dc5-4537-953c-96280577f741",
   "metadata": {},
   "source": [
    "#### <u>MAP, REDUCE & FILTER FUNCTION<u>"
   ]
  },
  {
   "cell_type": "code",
   "execution_count": 19,
   "id": "708c3701-8baa-4236-af5d-b0433e0afb58",
   "metadata": {},
   "outputs": [],
   "source": [
    "l = [2,3,4,5,6]"
   ]
  },
  {
   "cell_type": "code",
   "execution_count": 20,
   "id": "1d824ac3-0a9d-47f0-954b-8481e1355d51",
   "metadata": {},
   "outputs": [],
   "source": [
    "def test1(l):\n",
    "    l1=[]\n",
    "    for i in l:\n",
    "        l1.append(i**2)\n",
    "    return l1"
   ]
  },
  {
   "cell_type": "code",
   "execution_count": 21,
   "id": "7bceaa92-7b0e-408a-8807-e529aa7bcebe",
   "metadata": {},
   "outputs": [
    {
     "data": {
      "text/plain": [
       "[4, 9, 16, 25, 36]"
      ]
     },
     "execution_count": 21,
     "metadata": {},
     "output_type": "execute_result"
    }
   ],
   "source": [
    "test1(l)"
   ]
  },
  {
   "cell_type": "code",
   "execution_count": 22,
   "id": "ad1829c8-ecf5-4a0c-83e2-7f65e1257bc2",
   "metadata": {},
   "outputs": [],
   "source": [
    "def sq(x):\n",
    "    return x**2"
   ]
  },
  {
   "cell_type": "markdown",
   "id": "7e669d9d-1d90-48c0-a7b1-2fb9ddd42f67",
   "metadata": {},
   "source": [
    "#### <u>map<u>\n",
    "\n",
    "##### 'map()' is a built-in function that takes two or more arguments - a function and one or more iterables. It applies the given function to each element of the iterables and returns an iterator that yields the results."
   ]
  },
  {
   "cell_type": "code",
   "execution_count": 23,
   "id": "6c54ff38-f9e2-418c-b654-dd2458f6f8c4",
   "metadata": {},
   "outputs": [
    {
     "data": {
      "text/plain": [
       "<map at 0x7f5ec81be0b0>"
      ]
     },
     "execution_count": 23,
     "metadata": {},
     "output_type": "execute_result"
    }
   ],
   "source": [
    "map(sq , l)"
   ]
  },
  {
   "cell_type": "code",
   "execution_count": 24,
   "id": "9a83c829-48bb-4b4e-ab0d-06d265dea7ce",
   "metadata": {},
   "outputs": [
    {
     "data": {
      "text/plain": [
       "[4, 9, 16, 25, 36]"
      ]
     },
     "execution_count": 24,
     "metadata": {},
     "output_type": "execute_result"
    }
   ],
   "source": [
    "list(map(sq , l))"
   ]
  },
  {
   "cell_type": "code",
   "execution_count": 25,
   "id": "4198863e-5c9f-43c8-b6e0-237fb760f131",
   "metadata": {},
   "outputs": [
    {
     "data": {
      "text/plain": [
       "[4, 9, 16, 25, 36]"
      ]
     },
     "execution_count": 25,
     "metadata": {},
     "output_type": "execute_result"
    }
   ],
   "source": [
    "list(map(lambda x : x**2 , l))"
   ]
  },
  {
   "cell_type": "code",
   "execution_count": 27,
   "id": "feb529f8-ac36-422d-a4ac-cc309f547a04",
   "metadata": {},
   "outputs": [
    {
     "data": {
      "text/plain": [
       "[7, 9, 11, 13, 15]"
      ]
     },
     "execution_count": 27,
     "metadata": {},
     "output_type": "execute_result"
    }
   ],
   "source": [
    "l1 = [1,2,3,4,5]\n",
    "l2 = [6,7,8,9,10]\n",
    "\n",
    "list(map(lambda x,y : x+y , l1,l2))"
   ]
  },
  {
   "cell_type": "code",
   "execution_count": 28,
   "id": "d5a6377d-7b9a-4a22-b446-e7fd511008e0",
   "metadata": {},
   "outputs": [],
   "source": [
    "def add(x,y):\n",
    "    return x+y"
   ]
  },
  {
   "cell_type": "code",
   "execution_count": 29,
   "id": "e59244be-ab66-42e5-a200-358b930c7a54",
   "metadata": {},
   "outputs": [
    {
     "data": {
      "text/plain": [
       "[7, 9, 11, 13, 15]"
      ]
     },
     "execution_count": 29,
     "metadata": {},
     "output_type": "execute_result"
    }
   ],
   "source": [
    "list(map(add, l1,l2))"
   ]
  },
  {
   "cell_type": "code",
   "execution_count": 2,
   "id": "cfe8b1e8-fc11-4756-b482-a10142737dcb",
   "metadata": {},
   "outputs": [
    {
     "data": {
      "text/plain": [
       "['P', 'W', 'S', 'K', 'I', 'L', 'L', 'S']"
      ]
     },
     "execution_count": 2,
     "metadata": {},
     "output_type": "execute_result"
    }
   ],
   "source": [
    "s = \"pwskills\"\n",
    "list(map(lambda s : s.upper() , s))"
   ]
  },
  {
   "cell_type": "code",
   "execution_count": 3,
   "id": "00f95ab7-6216-4dd5-a33a-3b178b37054a",
   "metadata": {},
   "outputs": [],
   "source": [
    "from functools import reduce"
   ]
  },
  {
   "cell_type": "markdown",
   "id": "130825ee-3f5e-4163-b8c5-c7bd445ce9ed",
   "metadata": {},
   "source": [
    "#### <u>reduce<u>\n",
    "\n",
    "##### 'reduce()' is a built-in function that takes a function and an iterable as arguments, and returns a single value by applying the given function to the elements of the iterable one by one."
   ]
  },
  {
   "cell_type": "code",
   "execution_count": 4,
   "id": "cb1673d1-dd79-4eea-a1b8-e0882830e1a5",
   "metadata": {},
   "outputs": [],
   "source": [
    "l = [1,2,3,4,5]"
   ]
  },
  {
   "cell_type": "code",
   "execution_count": 7,
   "id": "c3615746-014e-4361-8e1a-1f46e56b180c",
   "metadata": {},
   "outputs": [
    {
     "data": {
      "text/plain": [
       "15"
      ]
     },
     "execution_count": 7,
     "metadata": {},
     "output_type": "execute_result"
    }
   ],
   "source": [
    "reduce(lambda x, y : x+y, l)"
   ]
  },
  {
   "cell_type": "code",
   "execution_count": 9,
   "id": "24c74ba8-cd2f-4b15-851c-805714eeb105",
   "metadata": {},
   "outputs": [
    {
     "ename": "TypeError",
     "evalue": "reduce() of empty iterable with no initial value",
     "output_type": "error",
     "traceback": [
      "\u001b[0;31m---------------------------------------------------------------------------\u001b[0m",
      "\u001b[0;31mTypeError\u001b[0m                                 Traceback (most recent call last)",
      "Cell \u001b[0;32mIn[9], line 1\u001b[0m\n\u001b[0;32m----> 1\u001b[0m \u001b[43mreduce\u001b[49m\u001b[43m(\u001b[49m\u001b[38;5;28;43;01mlambda\u001b[39;49;00m\u001b[43m \u001b[49m\u001b[43mx\u001b[49m\u001b[43m,\u001b[49m\u001b[43m \u001b[49m\u001b[43my\u001b[49m\u001b[43m \u001b[49m\u001b[43m:\u001b[49m\u001b[43m \u001b[49m\u001b[43mx\u001b[49m\u001b[38;5;241;43m+\u001b[39;49m\u001b[43my\u001b[49m\u001b[43m,\u001b[49m\u001b[43m \u001b[49m\u001b[43m[\u001b[49m\u001b[43m]\u001b[49m\u001b[43m)\u001b[49m\n",
      "\u001b[0;31mTypeError\u001b[0m: reduce() of empty iterable with no initial value"
     ]
    }
   ],
   "source": [
    "reduce(lambda x, y : x+y, [])"
   ]
  },
  {
   "cell_type": "code",
   "execution_count": 10,
   "id": "3b6f7869-c79f-421c-84f8-4d94baa92ce0",
   "metadata": {},
   "outputs": [
    {
     "data": {
      "text/plain": [
       "1"
      ]
     },
     "execution_count": 10,
     "metadata": {},
     "output_type": "execute_result"
    }
   ],
   "source": [
    "reduce(lambda x, y : x+y, [1])"
   ]
  },
  {
   "cell_type": "code",
   "execution_count": 12,
   "id": "f581b102-819e-4713-9c62-8932b601009d",
   "metadata": {},
   "outputs": [
    {
     "data": {
      "text/plain": [
       "120"
      ]
     },
     "execution_count": 12,
     "metadata": {},
     "output_type": "execute_result"
    }
   ],
   "source": [
    "reduce(lambda x,y : x*y , l)"
   ]
  },
  {
   "cell_type": "code",
   "execution_count": 13,
   "id": "83a6bd31-353c-4600-8aa7-47316803887b",
   "metadata": {},
   "outputs": [
    {
     "data": {
      "text/plain": [
       "[1, 2, 3, 4, 5]"
      ]
     },
     "execution_count": 13,
     "metadata": {},
     "output_type": "execute_result"
    }
   ],
   "source": [
    "l"
   ]
  },
  {
   "cell_type": "code",
   "execution_count": 15,
   "id": "777e184d-f07e-4259-b9f8-44198db0379c",
   "metadata": {},
   "outputs": [
    {
     "data": {
      "text/plain": [
       "5"
      ]
     },
     "execution_count": 15,
     "metadata": {},
     "output_type": "execute_result"
    }
   ],
   "source": [
    "reduce(lambda x,y : x if x > y else y, l)"
   ]
  },
  {
   "cell_type": "code",
   "execution_count": 16,
   "id": "153cc278-3104-4a76-8913-15ea8b208852",
   "metadata": {},
   "outputs": [
    {
     "data": {
      "text/plain": [
       "[1, 2, 3, 4, 5]"
      ]
     },
     "execution_count": 16,
     "metadata": {},
     "output_type": "execute_result"
    }
   ],
   "source": [
    "l"
   ]
  },
  {
   "cell_type": "markdown",
   "id": "404c5a54-9e13-4090-be20-b134ae16e37f",
   "metadata": {},
   "source": [
    "#### <u>filter<u>\n",
    "\n",
    "##### 'filter()' is a built-in function that takes a function and an iterable as arguments, and returns an iterator that yields the elements of the iterable for which the function returns True."
   ]
  },
  {
   "cell_type": "code",
   "execution_count": 17,
   "id": "86436c66-e881-4bfb-afc4-ec7d25a6ed0d",
   "metadata": {},
   "outputs": [
    {
     "data": {
      "text/plain": [
       "[2, 4]"
      ]
     },
     "execution_count": 17,
     "metadata": {},
     "output_type": "execute_result"
    }
   ],
   "source": [
    "list(filter(lambda x : x%2==0 , l))"
   ]
  },
  {
   "cell_type": "code",
   "execution_count": 18,
   "id": "90d8d250-11f3-4e40-b8be-5a09688a4b8d",
   "metadata": {},
   "outputs": [
    {
     "data": {
      "text/plain": [
       "[1, 3, 5]"
      ]
     },
     "execution_count": 18,
     "metadata": {},
     "output_type": "execute_result"
    }
   ],
   "source": [
    "list(filter(lambda x : x%2!=0 , l))"
   ]
  },
  {
   "cell_type": "code",
   "execution_count": 19,
   "id": "5386c56f-8b6d-4e68-ad6a-42fa97394b1c",
   "metadata": {},
   "outputs": [],
   "source": [
    "l1 = [-2,-4,-5,-3,2]"
   ]
  },
  {
   "cell_type": "code",
   "execution_count": 21,
   "id": "016cf9ee-ca28-44f8-86d5-0c674815987d",
   "metadata": {},
   "outputs": [
    {
     "data": {
      "text/plain": [
       "[-2, -4, -5, -3]"
      ]
     },
     "execution_count": 21,
     "metadata": {},
     "output_type": "execute_result"
    }
   ],
   "source": [
    "list(filter(lambda x : x<0, l1))"
   ]
  },
  {
   "cell_type": "code",
   "execution_count": 22,
   "id": "38b4aeba-f91c-424b-b139-84855ffc6f60",
   "metadata": {},
   "outputs": [],
   "source": [
    "l2 = [\"anju\", \"pwskills\", \"soman\"]"
   ]
  },
  {
   "cell_type": "code",
   "execution_count": 23,
   "id": "26863660-61f3-4ef2-bf9c-e74b48f4ab81",
   "metadata": {},
   "outputs": [
    {
     "data": {
      "text/plain": [
       "['anju', 'soman']"
      ]
     },
     "execution_count": 23,
     "metadata": {},
     "output_type": "execute_result"
    }
   ],
   "source": [
    "list(filter(lambda x : len(x) < 6, l2))"
   ]
  }
 ],
 "metadata": {
  "kernelspec": {
   "display_name": "Python 3 (ipykernel)",
   "language": "python",
   "name": "python3"
  },
  "language_info": {
   "codemirror_mode": {
    "name": "ipython",
    "version": 3
   },
   "file_extension": ".py",
   "mimetype": "text/x-python",
   "name": "python",
   "nbconvert_exporter": "python",
   "pygments_lexer": "ipython3",
   "version": "3.10.8"
  }
 },
 "nbformat": 4,
 "nbformat_minor": 5
}
