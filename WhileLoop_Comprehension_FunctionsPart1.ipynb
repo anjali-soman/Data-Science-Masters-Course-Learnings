{
 "cells": [
  {
   "cell_type": "markdown",
   "id": "9e43be02-80a0-471a-9ee3-d862561d283c",
   "metadata": {},
   "source": [
    "### <u>WHILE LOOP<u>\n",
    "\n",
    "##### A while loop is a control flow statement that allows you to execute a block of code repeatedly as long as a specified condition is true.\n",
    "\n",
    "##### The condition is evaluated before each iteration of the loop. If the condition is true, the code inside the loop is executed. This process continues until the condition is false, at which point the loop terminates and control is passed to the next statement after the loop.\n",
    "\n",
    "##### Note that you need to ensure that the condition will eventually become false, otherwise the loop will run indefinitely and the program will hang."
   ]
  },
  {
   "cell_type": "code",
   "execution_count": 1,
   "id": "4c95e910-7a62-46a8-845b-e7bf64509f13",
   "metadata": {},
   "outputs": [
    {
     "name": "stdout",
     "output_type": "stream",
     "text": [
      "1\n",
      "2\n",
      "3\n",
      "4\n",
      "5\n",
      "6\n",
      "7\n",
      "8\n",
      "9\n",
      "10\n"
     ]
    }
   ],
   "source": [
    "a = 1\n",
    "\n",
    "while a <= 10:\n",
    "    print(a)\n",
    "    a = a +1"
   ]
  },
  {
   "cell_type": "markdown",
   "id": "2d6705c7-eda9-4062-b4f1-99342e8b332d",
   "metadata": {},
   "source": [
    "### Sum up the number till some point"
   ]
  },
  {
   "cell_type": "code",
   "execution_count": 2,
   "id": "4faef2fe-2a9e-47a6-af59-2642285937c4",
   "metadata": {},
   "outputs": [
    {
     "name": "stdin",
     "output_type": "stream",
     "text": [
      "Enter Your Limit 10\n"
     ]
    },
    {
     "data": {
      "text/plain": [
       "55"
      ]
     },
     "execution_count": 2,
     "metadata": {},
     "output_type": "execute_result"
    }
   ],
   "source": [
    "n = int(input(\"Enter Your Limit\"))\n",
    "starting_point = 0\n",
    "counter = 1\n",
    "\n",
    "while counter <= n:\n",
    "    starting_point = starting_point + counter\n",
    "    counter = counter + 1\n",
    "starting_point"
   ]
  },
  {
   "cell_type": "code",
   "execution_count": 3,
   "id": "9c078a64-2149-4bbe-9efd-f51a24e5e187",
   "metadata": {},
   "outputs": [
    {
     "name": "stdin",
     "output_type": "stream",
     "text": [
      "Enter Your Number 3\n"
     ]
    },
    {
     "data": {
      "text/plain": [
       "6"
      ]
     },
     "execution_count": 3,
     "metadata": {},
     "output_type": "execute_result"
    }
   ],
   "source": [
    "number = int(input(\"Enter Your Number\"))\n",
    "factorial = 1\n",
    "while number > 0 :\n",
    "    factorial = factorial * number\n",
    "    number = number - 1\n",
    "factorial"
   ]
  },
  {
   "cell_type": "markdown",
   "id": "5d06d807-6341-44e5-b751-ee4c3c4c6eac",
   "metadata": {},
   "source": [
    "### <u>FIBONACCI SERIES<u>\n",
    "\n",
    "##### In mathematics, the Fibonacci sequence is a series of numbers in which each number is the sum of the two preceding numbers. The first two numbers in the sequence are 0 and 1. The sequence then continues as follows: 0, 1, 1, 2, 3, 5, 8, 13, 21, 34, 55, 89, 144, 233, 377, and so on."
   ]
  },
  {
   "cell_type": "code",
   "execution_count": 4,
   "id": "75d81af6-8613-446b-923b-716e6661a4c8",
   "metadata": {},
   "outputs": [
    {
     "name": "stdin",
     "output_type": "stream",
     "text": [
      "Enter The Number Of Element You Are Looking For 10\n"
     ]
    },
    {
     "name": "stdout",
     "output_type": "stream",
     "text": [
      "0\n",
      "1\n",
      "1\n",
      "2\n",
      "3\n",
      "5\n",
      "8\n",
      "13\n",
      "21\n",
      "34\n"
     ]
    }
   ],
   "source": [
    "number = int(input(\"Enter The Number Of Element You Are Looking For\"))\n",
    "a , b = 0 , 1\n",
    "counter = 0\n",
    "while counter < number :\n",
    "    print(a)\n",
    "    c = a+b\n",
    "    a = b\n",
    "    b = c\n",
    "    counter = counter + 1"
   ]
  },
  {
   "cell_type": "code",
   "execution_count": 5,
   "id": "41eaf273-a269-46c7-b97e-499d51f62395",
   "metadata": {},
   "outputs": [
    {
     "name": "stdout",
     "output_type": "stream",
     "text": [
      "0\n",
      "1\n",
      "1\n",
      "2\n",
      "3\n",
      "5\n",
      "8\n",
      "13\n",
      "21\n",
      "34\n"
     ]
    }
   ],
   "source": [
    "a , b = 0 , 1\n",
    "for i in range(10):\n",
    "    print(a)\n",
    "    c = a+b\n",
    "    a = b\n",
    "    b = c"
   ]
  },
  {
   "cell_type": "code",
   "execution_count": 6,
   "id": "3f2e06da-99e5-4228-978b-7c74326f78d2",
   "metadata": {},
   "outputs": [],
   "source": [
    "s = \"anju\""
   ]
  },
  {
   "cell_type": "code",
   "execution_count": 7,
   "id": "f1968571-07ff-47e2-9c88-d54eb2a9e51a",
   "metadata": {},
   "outputs": [
    {
     "data": {
      "text/plain": [
       "'ujna'"
      ]
     },
     "execution_count": 7,
     "metadata": {},
     "output_type": "execute_result"
    }
   ],
   "source": [
    "s[::-1]"
   ]
  },
  {
   "cell_type": "code",
   "execution_count": 8,
   "id": "bc8aa89b-be72-436c-9c5a-13ef1742472a",
   "metadata": {},
   "outputs": [
    {
     "name": "stdin",
     "output_type": "stream",
     "text": [
      "Enter Your String For Reversal Anju\n"
     ]
    }
   ],
   "source": [
    "word = input(\"Enter Your String For Reversal\")"
   ]
  },
  {
   "cell_type": "code",
   "execution_count": 9,
   "id": "fdf6ea6f-3519-4dcc-9daf-8126ec698691",
   "metadata": {},
   "outputs": [
    {
     "data": {
      "text/plain": [
       "4"
      ]
     },
     "execution_count": 9,
     "metadata": {},
     "output_type": "execute_result"
    }
   ],
   "source": [
    "len(word)"
   ]
  },
  {
   "cell_type": "code",
   "execution_count": 10,
   "id": "87285c8f-c03e-46c8-9c69-ba627cc96273",
   "metadata": {},
   "outputs": [
    {
     "name": "stdout",
     "output_type": "stream",
     "text": [
      "ujnA\n"
     ]
    }
   ],
   "source": [
    "reverse = \"\"\n",
    "length = len(word)\n",
    "while length > 0 :\n",
    "    reverse = reverse + word[length - 1]\n",
    "    length = length - 1\n",
    "print(reverse)"
   ]
  },
  {
   "cell_type": "markdown",
   "id": "2b66b436-8eb8-4a05-9a8e-af1431609ad4",
   "metadata": {},
   "source": [
    "### Print table of numbers"
   ]
  },
  {
   "cell_type": "code",
   "execution_count": 11,
   "id": "66c01258-b4d3-4f51-b7f1-34a46c897a68",
   "metadata": {},
   "outputs": [
    {
     "name": "stdin",
     "output_type": "stream",
     "text": [
      "Enter Your Number 20\n"
     ]
    },
    {
     "name": "stdout",
     "output_type": "stream",
     "text": [
      "20 *  1 =  20\n",
      "20 *  2 =  40\n",
      "20 *  3 =  60\n",
      "20 *  4 =  80\n",
      "20 *  5 =  100\n",
      "20 *  6 =  120\n",
      "20 *  7 =  140\n",
      "20 *  8 =  160\n",
      "20 *  9 =  180\n",
      "20 *  10 =  200\n"
     ]
    }
   ],
   "source": [
    "n = int(input(\"Enter Your Number\"))\n",
    "i = 1\n",
    "\n",
    "while i <= 10 :\n",
    "    result = n * i\n",
    "    print(n , \"* \", i, \"= \", result)\n",
    "    i = i + 1"
   ]
  },
  {
   "cell_type": "code",
   "execution_count": 12,
   "id": "a203ec69-745c-4b99-8e8c-d8e01c47831d",
   "metadata": {},
   "outputs": [
    {
     "name": "stdout",
     "output_type": "stream",
     "text": [
      "1\n",
      "2\n",
      "3\n",
      "4\n",
      "This will be executed only your while loop will complete it successfully\n"
     ]
    }
   ],
   "source": [
    "n = 5\n",
    "i = 1\n",
    "while i < n :\n",
    "    print(i)\n",
    "    i = i+1\n",
    "else:\n",
    "    print(\"This will be executed only your while loop will complete it successfully\")"
   ]
  },
  {
   "cell_type": "code",
   "execution_count": 13,
   "id": "903fae0e-96fe-43a3-8d83-6158bcc3ed29",
   "metadata": {},
   "outputs": [
    {
     "name": "stdout",
     "output_type": "stream",
     "text": [
      "1\n",
      "2\n",
      "3\n"
     ]
    }
   ],
   "source": [
    "n = 5\n",
    "i = 1\n",
    "while i < n :\n",
    "    print(i)\n",
    "    if i == 3:\n",
    "        break\n",
    "    i = i+1\n",
    "else:\n",
    "    print(\"This will be executed only your while loop will complete it successfully\")"
   ]
  },
  {
   "cell_type": "markdown",
   "id": "bef9833f-f8d3-4016-b9f4-db41c3aa6e73",
   "metadata": {},
   "source": [
    "### <u>COMPREHENSION<u>\n",
    "    \n",
    "##### Comprehensions allow you to generate a sequence of values based on an expression or conditional statements.\n",
    "\n",
    "##### There are three types of comprehensions in Python:\n",
    "\n",
    "- List Comprehension: This allows you to create a new list based on an expression and an iterable.\n",
    "- Set Comprehension: This allows you to create a new set based on an expression and an iterable. It is similar to list comprehension, but uses curly braces instead of square brackets.\n",
    "- Dictionary Comprehension: This allows you to create a new dictionary based on an expression and an iterable. It is similar to list comprehension, but uses curly braces and a colon to separate the key-value pairs."
   ]
  },
  {
   "cell_type": "code",
   "execution_count": 14,
   "id": "f4a44f49-fbfc-427a-8f07-eb9539f41265",
   "metadata": {},
   "outputs": [
    {
     "data": {
      "text/plain": [
       "[1, 4, 9, 16, 2025, 25]"
      ]
     },
     "execution_count": 14,
     "metadata": {},
     "output_type": "execute_result"
    }
   ],
   "source": [
    "## Square - For Loop\n",
    "l = [1,2,3,4,45,5]\n",
    "l1 = []\n",
    "for i in l:\n",
    "    l1.append(i**2)\n",
    "l1"
   ]
  },
  {
   "cell_type": "code",
   "execution_count": 15,
   "id": "4214550d-54a1-4106-a017-886d15037d2c",
   "metadata": {},
   "outputs": [
    {
     "data": {
      "text/plain": [
       "[1, 2, 3, 4, 45, 5]"
      ]
     },
     "execution_count": 15,
     "metadata": {},
     "output_type": "execute_result"
    }
   ],
   "source": [
    "l"
   ]
  },
  {
   "cell_type": "code",
   "execution_count": 16,
   "id": "52c7407a-2bff-4e94-92ed-ac2a411a03ad",
   "metadata": {},
   "outputs": [
    {
     "data": {
      "text/plain": [
       "[1, 4, 9, 16, 2025, 25]"
      ]
     },
     "execution_count": 16,
     "metadata": {},
     "output_type": "execute_result"
    }
   ],
   "source": [
    "[i**2 for i in l]"
   ]
  },
  {
   "cell_type": "code",
   "execution_count": 27,
   "id": "2be4941c-78f1-47ed-98f4-8dfb6eae4ea4",
   "metadata": {},
   "outputs": [
    {
     "data": {
      "text/plain": [
       "[2, 4]"
      ]
     },
     "execution_count": 27,
     "metadata": {},
     "output_type": "execute_result"
    }
   ],
   "source": [
    "[i for i in l if i%2==0]"
   ]
  },
  {
   "cell_type": "code",
   "execution_count": 29,
   "id": "c2174c09-aa48-4f5f-ab64-fa832af8face",
   "metadata": {},
   "outputs": [],
   "source": [
    "l1 = [\"anju\",\"pwskills\",\"soman\",\"data science masters\"]"
   ]
  },
  {
   "cell_type": "code",
   "execution_count": 30,
   "id": "353b9542-5aa2-48dc-ac1d-3ef5234b01ac",
   "metadata": {},
   "outputs": [
    {
     "data": {
      "text/plain": [
       "['ANJU', 'PWSKILLS', 'SOMAN', 'DATA SCIENCE MASTERS']"
      ]
     },
     "execution_count": 30,
     "metadata": {},
     "output_type": "execute_result"
    }
   ],
   "source": [
    "[i.upper() for i in l1]"
   ]
  },
  {
   "cell_type": "code",
   "execution_count": 31,
   "id": "6149db62-0768-409a-a039-09aa3239c2a4",
   "metadata": {},
   "outputs": [
    {
     "data": {
      "text/plain": [
       "[1, 2, 3, 4, 45, 5]"
      ]
     },
     "execution_count": 31,
     "metadata": {},
     "output_type": "execute_result"
    }
   ],
   "source": [
    "l"
   ]
  },
  {
   "cell_type": "code",
   "execution_count": 33,
   "id": "8442b92a-5d4a-46e3-b3e5-68a65e844dc9",
   "metadata": {},
   "outputs": [
    {
     "data": {
      "text/plain": [
       "[1, 4, 9, 16, 2025, 25]"
      ]
     },
     "execution_count": 33,
     "metadata": {},
     "output_type": "execute_result"
    }
   ],
   "source": [
    "list(i**2 for i in l) ## Tuple Comprehension"
   ]
  },
  {
   "cell_type": "code",
   "execution_count": 34,
   "id": "39a49d01-d247-4d71-9cdb-80342cd177b3",
   "metadata": {},
   "outputs": [],
   "source": [
    "d = {\"key1\":1, \"key2\":2, \"key3\":3, \"key4\":4}"
   ]
  },
  {
   "cell_type": "code",
   "execution_count": 35,
   "id": "3ab34a4e-a885-478b-a2af-5bc0917a50cf",
   "metadata": {},
   "outputs": [
    {
     "data": {
      "text/plain": [
       "dict_items([('key1', 1), ('key2', 2), ('key3', 3), ('key4', 4)])"
      ]
     },
     "execution_count": 35,
     "metadata": {},
     "output_type": "execute_result"
    }
   ],
   "source": [
    "d.items()"
   ]
  },
  {
   "cell_type": "code",
   "execution_count": 36,
   "id": "812f3d07-da37-4655-9b2a-27d4e8ffe1df",
   "metadata": {},
   "outputs": [
    {
     "data": {
      "text/plain": [
       "{'key1': 1, 'key2': 4, 'key3': 9, 'key4': 16}"
      ]
     },
     "execution_count": 36,
     "metadata": {},
     "output_type": "execute_result"
    }
   ],
   "source": [
    "{k:v**2 for k , v in d.items()} ## Dictionary Comprehension"
   ]
  },
  {
   "cell_type": "code",
   "execution_count": 37,
   "id": "36a410d7-9f8c-40a2-ae27-b1c1804189ce",
   "metadata": {},
   "outputs": [
    {
     "data": {
      "text/plain": [
       "{'key2': 2, 'key3': 3, 'key4': 4}"
      ]
     },
     "execution_count": 37,
     "metadata": {},
     "output_type": "execute_result"
    }
   ],
   "source": [
    "{k:v for k,v in d.items() if v > 1}"
   ]
  },
  {
   "cell_type": "markdown",
   "id": "55131c1c-53dc-474e-8049-abf3eac32406",
   "metadata": {},
   "source": [
    "### <u>FUNCTIONS<u>\n",
    "    \n",
    "##### A function is a block of reusable code that performs a specific task. Functions can take arguments (input values) and return results (output values).\n",
    "\n",
    "##### To define a function in Python, you use the 'def' keyword followed by the function name and a set of parentheses that may contain zero or more arguments. The function body is indented below the def statement, and may contain any valid Python code."
   ]
  },
  {
   "cell_type": "code",
   "execution_count": 38,
   "id": "fc4ad609-2d83-4906-8ed3-0704d9604fa9",
   "metadata": {},
   "outputs": [
    {
     "name": "stdout",
     "output_type": "stream",
     "text": [
      "This is print function\n"
     ]
    }
   ],
   "source": [
    "print(\"This is print function\")"
   ]
  },
  {
   "cell_type": "code",
   "execution_count": 39,
   "id": "15e12c3c-e648-4ee3-82f7-ba9ba0715dc4",
   "metadata": {},
   "outputs": [],
   "source": [
    "l = [324,45,45,45]"
   ]
  },
  {
   "cell_type": "code",
   "execution_count": 41,
   "id": "35957fc4-0b4b-4b14-94f9-d49d89f48cf0",
   "metadata": {},
   "outputs": [
    {
     "data": {
      "text/plain": [
       "4"
      ]
     },
     "execution_count": 41,
     "metadata": {},
     "output_type": "execute_result"
    }
   ],
   "source": [
    "len(l)"
   ]
  },
  {
   "cell_type": "code",
   "execution_count": 42,
   "id": "d1d8547a-e337-479f-a0be-2671828d3e62",
   "metadata": {},
   "outputs": [
    {
     "data": {
      "text/plain": [
       "list"
      ]
     },
     "execution_count": 42,
     "metadata": {},
     "output_type": "execute_result"
    }
   ],
   "source": [
    "type(l)"
   ]
  },
  {
   "cell_type": "markdown",
   "id": "96864ea4-cdea-4302-b097-d787e070d72d",
   "metadata": {},
   "source": [
    "#### <u>def:<u>\n",
    "##### The 'def' keyword is used to define a function.\n",
    "    \n",
    "#### <u>pass:<u>\n",
    "##### The 'pass' keyword is a null statement that does nothing. It is used as a placeholder where a statement is required, but no action needs to be taken."
   ]
  },
  {
   "cell_type": "code",
   "execution_count": 43,
   "id": "18b07e14-700d-41e4-8160-080dc88ef26e",
   "metadata": {},
   "outputs": [],
   "source": [
    "def test():\n",
    "    pass"
   ]
  },
  {
   "cell_type": "code",
   "execution_count": 50,
   "id": "253bf02d-7a88-4f4b-b22d-964b63c2d3e9",
   "metadata": {},
   "outputs": [],
   "source": [
    "def test1():\n",
    "    print(\"This is my first function\")"
   ]
  },
  {
   "cell_type": "code",
   "execution_count": 51,
   "id": "4bebf045-3eb8-42a0-9695-b779ddb1ed00",
   "metadata": {},
   "outputs": [
    {
     "name": "stdout",
     "output_type": "stream",
     "text": [
      "This is my first function\n"
     ]
    }
   ],
   "source": [
    "test1()"
   ]
  },
  {
   "cell_type": "code",
   "execution_count": 52,
   "id": "c77a0139-4b88-4096-a5fe-5bf6f96b7a2f",
   "metadata": {},
   "outputs": [
    {
     "name": "stdout",
     "output_type": "stream",
     "text": [
      "This is my first function\n"
     ]
    },
    {
     "ename": "TypeError",
     "evalue": "unsupported operand type(s) for +: 'NoneType' and 'str'",
     "output_type": "error",
     "traceback": [
      "\u001b[0;31m---------------------------------------------------------------------------\u001b[0m",
      "\u001b[0;31mTypeError\u001b[0m                                 Traceback (most recent call last)",
      "Cell \u001b[0;32mIn[52], line 1\u001b[0m\n\u001b[0;32m----> 1\u001b[0m \u001b[43mtest1\u001b[49m\u001b[43m(\u001b[49m\u001b[43m)\u001b[49m\u001b[43m \u001b[49m\u001b[38;5;241;43m+\u001b[39;49m\u001b[43m \u001b[49m\u001b[38;5;124;43m\"\u001b[39;49m\u001b[38;5;124;43manju\u001b[39;49m\u001b[38;5;124;43m\"\u001b[39;49m\n",
      "\u001b[0;31mTypeError\u001b[0m: unsupported operand type(s) for +: 'NoneType' and 'str'"
     ]
    }
   ],
   "source": [
    "test1() + \"anju\""
   ]
  },
  {
   "cell_type": "markdown",
   "id": "bdffe062-aa52-414a-9531-3748191bcc46",
   "metadata": {},
   "source": [
    "#### <u>return:<u>\n",
    "\n",
    "##### The 'return' keyword is used to specify the value that a function should return when it is called. When a 'return' statement is executed, the function terminates immediately and returns the value specified in the 'return' statement."
   ]
  },
  {
   "cell_type": "code",
   "execution_count": 53,
   "id": "bc431278-e40e-4c74-a674-df6e57613229",
   "metadata": {},
   "outputs": [],
   "source": [
    "def test2():\n",
    "    return \"This is my first return\""
   ]
  },
  {
   "cell_type": "code",
   "execution_count": 54,
   "id": "8af0cf71-1af7-4215-aa5e-875abb30ec13",
   "metadata": {},
   "outputs": [
    {
     "data": {
      "text/plain": [
       "'This is my first return'"
      ]
     },
     "execution_count": 54,
     "metadata": {},
     "output_type": "execute_result"
    }
   ],
   "source": [
    "test2()"
   ]
  },
  {
   "cell_type": "code",
   "execution_count": 56,
   "id": "50ae1d62-aff2-44de-aba0-4e4ab9b79207",
   "metadata": {},
   "outputs": [
    {
     "data": {
      "text/plain": [
       "'This is my first return - anju'"
      ]
     },
     "execution_count": 56,
     "metadata": {},
     "output_type": "execute_result"
    }
   ],
   "source": [
    "test2() + \" - anju\""
   ]
  },
  {
   "cell_type": "code",
   "execution_count": 59,
   "id": "30fa5491-17ac-4c2b-b8ba-dbd1d420b253",
   "metadata": {},
   "outputs": [],
   "source": [
    "def test3() :\n",
    "    return \"anju\",23,345.56, [1,2,3,3]"
   ]
  },
  {
   "cell_type": "code",
   "execution_count": 60,
   "id": "5d9ef7f0-db38-4109-a414-0798d672e62a",
   "metadata": {},
   "outputs": [
    {
     "data": {
      "text/plain": [
       "('anju', 23, 345.56, [1, 2, 3, 3])"
      ]
     },
     "execution_count": 60,
     "metadata": {},
     "output_type": "execute_result"
    }
   ],
   "source": [
    "test3()"
   ]
  },
  {
   "cell_type": "code",
   "execution_count": 61,
   "id": "87bc244e-a676-43d4-a438-ad62783471dc",
   "metadata": {},
   "outputs": [],
   "source": [
    "a,b,c,d = test3()"
   ]
  },
  {
   "cell_type": "code",
   "execution_count": 62,
   "id": "3bdf2e3d-e08d-43f5-9180-40a9fecdde56",
   "metadata": {},
   "outputs": [
    {
     "data": {
      "text/plain": [
       "'anju'"
      ]
     },
     "execution_count": 62,
     "metadata": {},
     "output_type": "execute_result"
    }
   ],
   "source": [
    "a"
   ]
  },
  {
   "cell_type": "code",
   "execution_count": 63,
   "id": "ed755cdb-bf48-40cc-ab3a-6581d810b3bc",
   "metadata": {},
   "outputs": [
    {
     "data": {
      "text/plain": [
       "23"
      ]
     },
     "execution_count": 63,
     "metadata": {},
     "output_type": "execute_result"
    }
   ],
   "source": [
    "b"
   ]
  },
  {
   "cell_type": "code",
   "execution_count": 64,
   "id": "d6933394-83a5-45fb-830b-8022c8e47689",
   "metadata": {},
   "outputs": [
    {
     "data": {
      "text/plain": [
       "345.56"
      ]
     },
     "execution_count": 64,
     "metadata": {},
     "output_type": "execute_result"
    }
   ],
   "source": [
    "c"
   ]
  },
  {
   "cell_type": "code",
   "execution_count": 65,
   "id": "309846a9-b959-4189-a5ee-4164ec6f1b51",
   "metadata": {},
   "outputs": [
    {
     "data": {
      "text/plain": [
       "[1, 2, 3, 3]"
      ]
     },
     "execution_count": 65,
     "metadata": {},
     "output_type": "execute_result"
    }
   ],
   "source": [
    "d"
   ]
  },
  {
   "cell_type": "code",
   "execution_count": 66,
   "id": "6ff27082-6c3d-4ef1-baf1-953456bd316d",
   "metadata": {},
   "outputs": [],
   "source": [
    "a=1\n",
    "b=4"
   ]
  },
  {
   "cell_type": "code",
   "execution_count": 67,
   "id": "d01fd1be-28c4-4fe4-a897-8eabe70bf2b9",
   "metadata": {},
   "outputs": [],
   "source": [
    "a,b = 1,4"
   ]
  },
  {
   "cell_type": "code",
   "execution_count": 68,
   "id": "1f106897-f3e8-498e-8dd5-7f57ac34b150",
   "metadata": {},
   "outputs": [],
   "source": [
    "def test4():\n",
    "    a = 5+6/7\n",
    "    return a"
   ]
  },
  {
   "cell_type": "code",
   "execution_count": 69,
   "id": "1260b240-5b29-47f1-aaea-1301e17f4184",
   "metadata": {},
   "outputs": [
    {
     "data": {
      "text/plain": [
       "5.857142857142857"
      ]
     },
     "execution_count": 69,
     "metadata": {},
     "output_type": "execute_result"
    }
   ],
   "source": [
    "test4()"
   ]
  },
  {
   "cell_type": "code",
   "execution_count": 70,
   "id": "bbadb741-fdd4-473e-a2d6-d8d7e084b388",
   "metadata": {},
   "outputs": [],
   "source": [
    "def test5(a,b,c):\n",
    "    d = a+b/c\n",
    "    return d"
   ]
  },
  {
   "cell_type": "code",
   "execution_count": 71,
   "id": "5204632e-83ad-40eb-9ac3-b6b67b9c6bf7",
   "metadata": {},
   "outputs": [
    {
     "ename": "TypeError",
     "evalue": "test5() missing 3 required positional arguments: 'a', 'b', and 'c'",
     "output_type": "error",
     "traceback": [
      "\u001b[0;31m---------------------------------------------------------------------------\u001b[0m",
      "\u001b[0;31mTypeError\u001b[0m                                 Traceback (most recent call last)",
      "Cell \u001b[0;32mIn[71], line 1\u001b[0m\n\u001b[0;32m----> 1\u001b[0m \u001b[43mtest5\u001b[49m\u001b[43m(\u001b[49m\u001b[43m)\u001b[49m\n",
      "\u001b[0;31mTypeError\u001b[0m: test5() missing 3 required positional arguments: 'a', 'b', and 'c'"
     ]
    }
   ],
   "source": [
    "test5()"
   ]
  },
  {
   "cell_type": "code",
   "execution_count": 72,
   "id": "58c13afb-bfaf-4ed2-a4b9-9a6472e91c3d",
   "metadata": {},
   "outputs": [
    {
     "data": {
      "text/plain": [
       "5.857142857142857"
      ]
     },
     "execution_count": 72,
     "metadata": {},
     "output_type": "execute_result"
    }
   ],
   "source": [
    "test5(5,6,7)"
   ]
  },
  {
   "cell_type": "code",
   "execution_count": 73,
   "id": "c7c0644a-90aa-43de-b4ab-af7153cab268",
   "metadata": {},
   "outputs": [],
   "source": [
    "def test6(a,b):\n",
    "    return a+b"
   ]
  },
  {
   "cell_type": "code",
   "execution_count": 74,
   "id": "53613d54-7e24-4c70-9e01-8b74b29098a4",
   "metadata": {},
   "outputs": [
    {
     "data": {
      "text/plain": [
       "7"
      ]
     },
     "execution_count": 74,
     "metadata": {},
     "output_type": "execute_result"
    }
   ],
   "source": [
    "test6(3,4)"
   ]
  },
  {
   "cell_type": "code",
   "execution_count": 75,
   "id": "d14c24db-ebd3-4664-bd68-ded5cbf6de01",
   "metadata": {},
   "outputs": [
    {
     "data": {
      "text/plain": [
       "'anju soman'"
      ]
     },
     "execution_count": 75,
     "metadata": {},
     "output_type": "execute_result"
    }
   ],
   "source": [
    "test6(\"anju\",\" soman\")"
   ]
  },
  {
   "cell_type": "code",
   "execution_count": 76,
   "id": "c95efd54-96fc-4d5c-b2a6-15597a7aac64",
   "metadata": {},
   "outputs": [
    {
     "data": {
      "text/plain": [
       "[1, 2, 3, 4, 5, 4, 5, 6]"
      ]
     },
     "execution_count": 76,
     "metadata": {},
     "output_type": "execute_result"
    }
   ],
   "source": [
    "test6([1,2,3,4,5] , [4,5,6])"
   ]
  },
  {
   "cell_type": "code",
   "execution_count": 77,
   "id": "1b8d88c2-2311-4a16-81d4-d224ba7df2e7",
   "metadata": {},
   "outputs": [],
   "source": [
    "l = [1,2,3,4,\"anju\" , \"soman\", [1,2,3,4,5,6]]"
   ]
  },
  {
   "cell_type": "code",
   "execution_count": 78,
   "id": "26ae2440-fedc-4a18-9363-f17417812513",
   "metadata": {},
   "outputs": [
    {
     "data": {
      "text/plain": [
       "[1, 2, 3, 4]"
      ]
     },
     "execution_count": 78,
     "metadata": {},
     "output_type": "execute_result"
    }
   ],
   "source": [
    "l1 = []\n",
    "for i in l:\n",
    "    if type(i) == int or type(i) == float:\n",
    "        l1.append(i)\n",
    "l1"
   ]
  },
  {
   "cell_type": "code",
   "execution_count": 83,
   "id": "57d5ea9d-7758-400a-bf7c-b0ca27230cf7",
   "metadata": {},
   "outputs": [],
   "source": [
    "def test7(l):\n",
    "    l1 = []\n",
    "    for i in l:\n",
    "        if type(i) == int or type(i) == float:\n",
    "            l1.append(i)\n",
    "    return l1"
   ]
  },
  {
   "cell_type": "code",
   "execution_count": 84,
   "id": "71ace5fa-243a-4238-af1f-5a17ca304e7a",
   "metadata": {},
   "outputs": [
    {
     "data": {
      "text/plain": [
       "[1, 2, 3, 4]"
      ]
     },
     "execution_count": 84,
     "metadata": {},
     "output_type": "execute_result"
    }
   ],
   "source": [
    "test7(l)"
   ]
  },
  {
   "cell_type": "code",
   "execution_count": 85,
   "id": "16f4bf30-f033-4fd6-91b4-a51245e27072",
   "metadata": {},
   "outputs": [
    {
     "data": {
      "text/plain": [
       "[1, 2, 3, 4, 'anju', 'soman', [1, 2, 3, 4, 5, 6]]"
      ]
     },
     "execution_count": 85,
     "metadata": {},
     "output_type": "execute_result"
    }
   ],
   "source": [
    "l"
   ]
  },
  {
   "cell_type": "code",
   "execution_count": 90,
   "id": "81237037-4deb-49a5-9aa7-531859c70243",
   "metadata": {},
   "outputs": [],
   "source": [
    "def test8(a):\n",
    "    l = []\n",
    "    for i in a:\n",
    "        if type(i) == list:\n",
    "            for j in i :\n",
    "                l.append(j)\n",
    "        else:\n",
    "            if type(i) == int or type(i) == float:\n",
    "                l.append(i)\n",
    "    return l"
   ]
  },
  {
   "cell_type": "code",
   "execution_count": 87,
   "id": "315709c7-dbd5-4eb7-b496-72c68a68ddbb",
   "metadata": {},
   "outputs": [
    {
     "data": {
      "text/plain": [
       "[1, 2, 3, 4, 1, 2, 3, 4, 5, 6]"
      ]
     },
     "execution_count": 87,
     "metadata": {},
     "output_type": "execute_result"
    }
   ],
   "source": [
    "test8(l)"
   ]
  },
  {
   "cell_type": "code",
   "execution_count": 88,
   "id": "c0dc24f2-b69b-43b5-9dcd-281e9f5932f1",
   "metadata": {},
   "outputs": [
    {
     "data": {
      "text/plain": [
       "[1, 2, 3, 4, 'anju', 'soman', [1, 2, 3, 4, 5, 6]]"
      ]
     },
     "execution_count": 88,
     "metadata": {},
     "output_type": "execute_result"
    }
   ],
   "source": [
    "l"
   ]
  },
  {
   "cell_type": "code",
   "execution_count": 91,
   "id": "1bfbc72b-c0e8-43b7-87f6-5395a1f42c79",
   "metadata": {},
   "outputs": [],
   "source": [
    "def test9(a):\n",
    "    \"\"\"This is my function to extract num data from list\"\"\"\n",
    "    l = []\n",
    "    for i in a:\n",
    "        if type(i) == list:\n",
    "            for j in i :\n",
    "                l.append(j)\n",
    "        else:\n",
    "            if type(i) == int or type(i) == float:\n",
    "                l.append(i)\n",
    "    return l"
   ]
  },
  {
   "cell_type": "code",
   "execution_count": null,
   "id": "dae66660-320c-4034-b387-39d092dcbc5a",
   "metadata": {},
   "outputs": [],
   "source": [
    "test9()"
   ]
  },
  {
   "cell_type": "code",
   "execution_count": 95,
   "id": "dd41903d-c9c6-4d84-a9c3-f879e4f992aa",
   "metadata": {},
   "outputs": [],
   "source": [
    "def test10(a,b):\n",
    "    return a+b"
   ]
  },
  {
   "cell_type": "code",
   "execution_count": 96,
   "id": "8e1aaa54-7975-41e8-92e3-f6936907c814",
   "metadata": {},
   "outputs": [],
   "source": [
    "def test11(*args):\n",
    "    return args"
   ]
  },
  {
   "cell_type": "code",
   "execution_count": 97,
   "id": "85c82235-0479-4b8b-b884-1ca78d61708e",
   "metadata": {},
   "outputs": [
    {
     "data": {
      "text/plain": [
       "()"
      ]
     },
     "execution_count": 97,
     "metadata": {},
     "output_type": "execute_result"
    }
   ],
   "source": [
    "test11()"
   ]
  },
  {
   "cell_type": "code",
   "execution_count": 99,
   "id": "88644693-b0fb-4377-a377-3ad6afdec2df",
   "metadata": {},
   "outputs": [
    {
     "data": {
      "text/plain": [
       "tuple"
      ]
     },
     "execution_count": 99,
     "metadata": {},
     "output_type": "execute_result"
    }
   ],
   "source": [
    "type(test11())"
   ]
  },
  {
   "cell_type": "code",
   "execution_count": 100,
   "id": "8972534e-5810-4e7d-9466-f7d2020f4219",
   "metadata": {},
   "outputs": [
    {
     "data": {
      "text/plain": [
       "(1, 2, 3, 'anju', 'soman', [1, 2, 3, 4, 4])"
      ]
     },
     "execution_count": 100,
     "metadata": {},
     "output_type": "execute_result"
    }
   ],
   "source": [
    "test11(1,2,3,\"anju\", \"soman\",[1,2,3,4,4])"
   ]
  },
  {
   "cell_type": "code",
   "execution_count": 101,
   "id": "238c83ae-3676-4951-86b9-5f5038f29a25",
   "metadata": {},
   "outputs": [],
   "source": [
    "def test12(*anju):\n",
    "    return anju"
   ]
  },
  {
   "cell_type": "code",
   "execution_count": 102,
   "id": "a08dd9a9-7c81-43ac-a936-417950b26a63",
   "metadata": {},
   "outputs": [
    {
     "data": {
      "text/plain": [
       "(1, 2, 34, 4)"
      ]
     },
     "execution_count": 102,
     "metadata": {},
     "output_type": "execute_result"
    }
   ],
   "source": [
    "test12(1,2,34,4)"
   ]
  },
  {
   "cell_type": "code",
   "execution_count": 103,
   "id": "a9b9bccf-b83f-4bd0-89b7-8c5b72f14b92",
   "metadata": {},
   "outputs": [],
   "source": [
    "def test13(*args,a):\n",
    "    return args , a"
   ]
  },
  {
   "cell_type": "code",
   "execution_count": 104,
   "id": "a61f8253-1257-4d46-8394-dd4767281b53",
   "metadata": {},
   "outputs": [
    {
     "ename": "TypeError",
     "evalue": "test13() missing 1 required keyword-only argument: 'a'",
     "output_type": "error",
     "traceback": [
      "\u001b[0;31m---------------------------------------------------------------------------\u001b[0m",
      "\u001b[0;31mTypeError\u001b[0m                                 Traceback (most recent call last)",
      "Cell \u001b[0;32mIn[104], line 1\u001b[0m\n\u001b[0;32m----> 1\u001b[0m \u001b[43mtest13\u001b[49m\u001b[43m(\u001b[49m\u001b[38;5;241;43m1\u001b[39;49m\u001b[43m,\u001b[49m\u001b[38;5;241;43m2\u001b[39;49m\u001b[43m,\u001b[49m\u001b[38;5;241;43m3\u001b[39;49m\u001b[43m,\u001b[49m\u001b[38;5;241;43m4\u001b[39;49m\u001b[43m)\u001b[49m\n",
      "\u001b[0;31mTypeError\u001b[0m: test13() missing 1 required keyword-only argument: 'a'"
     ]
    }
   ],
   "source": [
    "test13(1,2,3,4)"
   ]
  },
  {
   "cell_type": "code",
   "execution_count": 105,
   "id": "d9e78b92-ef2d-4328-97c1-13b50f0a3bac",
   "metadata": {},
   "outputs": [
    {
     "data": {
      "text/plain": [
       "((1, 2, 3, 4), 23)"
      ]
     },
     "execution_count": 105,
     "metadata": {},
     "output_type": "execute_result"
    }
   ],
   "source": [
    "test13(1,2,3,4, a=23)"
   ]
  },
  {
   "cell_type": "code",
   "execution_count": 106,
   "id": "b54f26ff-5dcd-4906-8bb1-8db5d12a90a5",
   "metadata": {},
   "outputs": [],
   "source": [
    "def test14(c,d,a=23, b=1):\n",
    "    return a,b,c,d"
   ]
  },
  {
   "cell_type": "code",
   "execution_count": 107,
   "id": "78789a18-13cf-4faa-9da8-a08485c9bffb",
   "metadata": {},
   "outputs": [
    {
     "ename": "TypeError",
     "evalue": "test14() missing 2 required positional arguments: 'c' and 'd'",
     "output_type": "error",
     "traceback": [
      "\u001b[0;31m---------------------------------------------------------------------------\u001b[0m",
      "\u001b[0;31mTypeError\u001b[0m                                 Traceback (most recent call last)",
      "Cell \u001b[0;32mIn[107], line 1\u001b[0m\n\u001b[0;32m----> 1\u001b[0m \u001b[43mtest14\u001b[49m\u001b[43m(\u001b[49m\u001b[43m)\u001b[49m\n",
      "\u001b[0;31mTypeError\u001b[0m: test14() missing 2 required positional arguments: 'c' and 'd'"
     ]
    }
   ],
   "source": [
    "test14()"
   ]
  },
  {
   "cell_type": "code",
   "execution_count": 108,
   "id": "aa701bf9-0dc6-432c-a4af-ed20c31f9880",
   "metadata": {},
   "outputs": [
    {
     "data": {
      "text/plain": [
       "(23, 1, 3, 4)"
      ]
     },
     "execution_count": 108,
     "metadata": {},
     "output_type": "execute_result"
    }
   ],
   "source": [
    "test14(3,4)"
   ]
  },
  {
   "cell_type": "code",
   "execution_count": 110,
   "id": "474a7f40-dba1-4457-970e-0fd2e6c2de5f",
   "metadata": {},
   "outputs": [
    {
     "data": {
      "text/plain": [
       "(2342, 1, 2, 5)"
      ]
     },
     "execution_count": 110,
     "metadata": {},
     "output_type": "execute_result"
    }
   ],
   "source": [
    "test14(2,5,a=2342)"
   ]
  },
  {
   "cell_type": "code",
   "execution_count": 111,
   "id": "3ea78886-1fb3-4e42-b063-a11c0d40ba1a",
   "metadata": {},
   "outputs": [],
   "source": [
    "def test15(**kwargs):\n",
    "    return kwargs"
   ]
  },
  {
   "cell_type": "code",
   "execution_count": 112,
   "id": "41ed1c95-d537-4f24-9c18-7efb9458bd94",
   "metadata": {},
   "outputs": [
    {
     "data": {
      "text/plain": [
       "{}"
      ]
     },
     "execution_count": 112,
     "metadata": {},
     "output_type": "execute_result"
    }
   ],
   "source": [
    "test15()"
   ]
  },
  {
   "cell_type": "code",
   "execution_count": 113,
   "id": "344deb53-c39b-4475-97c5-2abb5847e628",
   "metadata": {},
   "outputs": [
    {
     "data": {
      "text/plain": [
       "dict"
      ]
     },
     "execution_count": 113,
     "metadata": {},
     "output_type": "execute_result"
    }
   ],
   "source": [
    "type(test15())"
   ]
  },
  {
   "cell_type": "code",
   "execution_count": 116,
   "id": "91c38e69-5f9d-4f7d-8dc6-0cae4fc5c185",
   "metadata": {},
   "outputs": [
    {
     "data": {
      "text/plain": [
       "{'a': [1, 2, 3, 4], 'b': 'anju', 'c': 34.56}"
      ]
     },
     "execution_count": 116,
     "metadata": {},
     "output_type": "execute_result"
    }
   ],
   "source": [
    "test15(a = [1,2,3,4], b = \"anju\", c = 34.56)"
   ]
  }
 ],
 "metadata": {
  "kernelspec": {
   "display_name": "Python 3 (ipykernel)",
   "language": "python",
   "name": "python3"
  },
  "language_info": {
   "codemirror_mode": {
    "name": "ipython",
    "version": 3
   },
   "file_extension": ".py",
   "mimetype": "text/x-python",
   "name": "python",
   "nbconvert_exporter": "python",
   "pygments_lexer": "ipython3",
   "version": "3.10.8"
  }
 },
 "nbformat": 4,
 "nbformat_minor": 5
}
