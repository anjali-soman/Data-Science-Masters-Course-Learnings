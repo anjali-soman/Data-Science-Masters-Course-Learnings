{
 "cells": [
  {
   "cell_type": "markdown",
   "id": "e7580be1-99d9-4062-9716-e01d86d09705",
   "metadata": {},
   "source": [
    "#### <u>DICTIONARY<u>\n",
    "##### A dictionary is a collection of key-value pairs. It is a mutable, ordered, and unchangeable data type. You can access the values in a dictionary using square brackets and the keys. Dictionaries have many useful methods, such as 'keys()', 'values()', and 'items()'."
   ]
  },
  {
   "cell_type": "code",
   "execution_count": 1,
   "id": "2448d097-6d72-4ad0-9c95-f3d2c0117a67",
   "metadata": {},
   "outputs": [],
   "source": [
    "d = {}"
   ]
  },
  {
   "cell_type": "code",
   "execution_count": 2,
   "id": "8cdf807f-0608-4d55-b8fb-e2fefa2bef4c",
   "metadata": {},
   "outputs": [
    {
     "data": {
      "text/plain": [
       "dict"
      ]
     },
     "execution_count": 2,
     "metadata": {},
     "output_type": "execute_result"
    }
   ],
   "source": [
    "type(d)"
   ]
  },
  {
   "cell_type": "code",
   "execution_count": 5,
   "id": "e5757f6c-8d41-4162-a1c7-ee3f6fbfc68e",
   "metadata": {},
   "outputs": [],
   "source": [
    "d1 = {\"name\" : \"anju\"}"
   ]
  },
  {
   "cell_type": "code",
   "execution_count": 6,
   "id": "eadcfcae-7234-42a4-a4e4-dee80aeadae1",
   "metadata": {},
   "outputs": [
    {
     "data": {
      "text/plain": [
       "{'name': 'anju'}"
      ]
     },
     "execution_count": 6,
     "metadata": {},
     "output_type": "execute_result"
    }
   ],
   "source": [
    "d1"
   ]
  },
  {
   "cell_type": "code",
   "execution_count": 7,
   "id": "23e04713-bec4-4b88-b8cd-c654b285bfe0",
   "metadata": {},
   "outputs": [],
   "source": [
    "d2 = {\"Name\" : \"Anju\", \"Email\" : \"ajhg@gmail.com\", \"Number\" : 9867574534}"
   ]
  },
  {
   "cell_type": "code",
   "execution_count": 8,
   "id": "4ea2ab52-3a04-432c-9ad8-a693a9a97347",
   "metadata": {},
   "outputs": [
    {
     "data": {
      "text/plain": [
       "{'Name': 'Anju', 'Email': 'ajhg@gmail.com', 'Number': 9867574534}"
      ]
     },
     "execution_count": 8,
     "metadata": {},
     "output_type": "execute_result"
    }
   ],
   "source": [
    "d2"
   ]
  },
  {
   "cell_type": "code",
   "execution_count": 12,
   "id": "29d716d3-c829-482c-82e2-444e9d9552a7",
   "metadata": {},
   "outputs": [],
   "source": [
    "d3 = {234 : \"Anju\", \"_wer\" : \"Soman\", True : 457943}"
   ]
  },
  {
   "cell_type": "code",
   "execution_count": 13,
   "id": "398416a8-9e4c-43b2-ba7e-4a5fe18b3077",
   "metadata": {},
   "outputs": [
    {
     "data": {
      "text/plain": [
       "{234: 'Anju', '_wer': 'Soman', True: 457943}"
      ]
     },
     "execution_count": 13,
     "metadata": {},
     "output_type": "execute_result"
    }
   ],
   "source": [
    "d3"
   ]
  },
  {
   "cell_type": "code",
   "execution_count": 15,
   "id": "192391b2-4fb0-4a86-bdbd-a63d187474bc",
   "metadata": {},
   "outputs": [
    {
     "data": {
      "text/plain": [
       "'Anju'"
      ]
     },
     "execution_count": 15,
     "metadata": {},
     "output_type": "execute_result"
    }
   ],
   "source": [
    "d3[234]"
   ]
  },
  {
   "cell_type": "code",
   "execution_count": 16,
   "id": "53fbecc5-cc9f-42c0-bdc8-03f1204a77a6",
   "metadata": {},
   "outputs": [
    {
     "data": {
      "text/plain": [
       "457943"
      ]
     },
     "execution_count": 16,
     "metadata": {},
     "output_type": "execute_result"
    }
   ],
   "source": [
    "d3[True]"
   ]
  },
  {
   "cell_type": "code",
   "execution_count": 17,
   "id": "07834bab-3985-4c6a-9bb5-d695e30c0965",
   "metadata": {},
   "outputs": [
    {
     "data": {
      "text/plain": [
       "457943"
      ]
     },
     "execution_count": 17,
     "metadata": {},
     "output_type": "execute_result"
    }
   ],
   "source": [
    "d3[1] ## True = 1"
   ]
  },
  {
   "cell_type": "code",
   "execution_count": 20,
   "id": "9453bd3f-3061-4129-bb8d-14580f467f43",
   "metadata": {},
   "outputs": [],
   "source": [
    "d4 = {\"name\" : \"Anju\",\"Email\" : \"ss@gmail.com\", \"name\" : \"anjali\"}"
   ]
  },
  {
   "cell_type": "code",
   "execution_count": 21,
   "id": "190e036f-266d-4c54-9bb8-f2d7c498dd8a",
   "metadata": {},
   "outputs": [
    {
     "data": {
      "text/plain": [
       "{'name': 'anjali', 'Email': 'ss@gmail.com'}"
      ]
     },
     "execution_count": 21,
     "metadata": {},
     "output_type": "execute_result"
    }
   ],
   "source": [
    "d4"
   ]
  },
  {
   "cell_type": "code",
   "execution_count": 22,
   "id": "537e3ebd-cf68-4cdd-9d15-c7360e71dbd5",
   "metadata": {},
   "outputs": [
    {
     "data": {
      "text/plain": [
       "'anjali'"
      ]
     },
     "execution_count": 22,
     "metadata": {},
     "output_type": "execute_result"
    }
   ],
   "source": [
    "d4[\"name\"]"
   ]
  },
  {
   "cell_type": "code",
   "execution_count": 23,
   "id": "33bcd896-ba84-4f16-ba66-23ccedce246d",
   "metadata": {},
   "outputs": [],
   "source": [
    "d5 = {\"company\":\"pwskills\", \"course\" : [\"web dev\",\"data science\",\"java with dsa system design\"]}"
   ]
  },
  {
   "cell_type": "code",
   "execution_count": 24,
   "id": "cd342c9c-0674-4d8e-bad0-0b1563aef3b8",
   "metadata": {},
   "outputs": [
    {
     "data": {
      "text/plain": [
       "['web dev', 'data science', 'java with dsa system design']"
      ]
     },
     "execution_count": 24,
     "metadata": {},
     "output_type": "execute_result"
    }
   ],
   "source": [
    "d5[\"course\"]"
   ]
  },
  {
   "cell_type": "code",
   "execution_count": 27,
   "id": "95d3be72-0a8b-416a-aea4-1220b51d5fcc",
   "metadata": {},
   "outputs": [
    {
     "data": {
      "text/plain": [
       "'java with dsa system design'"
      ]
     },
     "execution_count": 27,
     "metadata": {},
     "output_type": "execute_result"
    }
   ],
   "source": [
    "d5[\"course\"][2]"
   ]
  },
  {
   "cell_type": "code",
   "execution_count": 31,
   "id": "fc979c3d-dd46-4b31-aecd-465cc9f6896a",
   "metadata": {},
   "outputs": [],
   "source": [
    "d6 = {\"number\" : [2,23,3,34,34],\"assignment\" : (1,2,3,4,5,6), \"launch date\":{28,12,14}, \"class_time\":{\"web dev\":8,\"data science\":8,\"java with dsa and system design\":7}}"
   ]
  },
  {
   "cell_type": "code",
   "execution_count": 32,
   "id": "d05cf0ec-b0f1-4bbf-9b33-1dede05c2722",
   "metadata": {},
   "outputs": [
    {
     "data": {
      "text/plain": [
       "{'number': [2, 23, 3, 34, 34],\n",
       " 'assignment': (1, 2, 3, 4, 5, 6),\n",
       " 'launch date': {12, 14, 28},\n",
       " 'class_time': {'web dev': 8,\n",
       "  'data science': 8,\n",
       "  'java with dsa and system design': 7}}"
      ]
     },
     "execution_count": 32,
     "metadata": {},
     "output_type": "execute_result"
    }
   ],
   "source": [
    "d6"
   ]
  },
  {
   "cell_type": "code",
   "execution_count": 35,
   "id": "888cf498-6405-4f10-b872-f1c9d3e6d447",
   "metadata": {},
   "outputs": [
    {
     "data": {
      "text/plain": [
       "7"
      ]
     },
     "execution_count": 35,
     "metadata": {},
     "output_type": "execute_result"
    }
   ],
   "source": [
    "d6[\"class_time\"][\"java with dsa and system design\"]"
   ]
  },
  {
   "cell_type": "code",
   "execution_count": 36,
   "id": "7b50ab81-8128-4972-aa9a-1a8ccbd167e6",
   "metadata": {},
   "outputs": [
    {
     "data": {
      "text/plain": [
       "{'number': [2, 23, 3, 34, 34],\n",
       " 'assignment': (1, 2, 3, 4, 5, 6),\n",
       " 'launch date': {12, 14, 28},\n",
       " 'class_time': {'web dev': 8,\n",
       "  'data science': 8,\n",
       "  'java with dsa and system design': 7}}"
      ]
     },
     "execution_count": 36,
     "metadata": {},
     "output_type": "execute_result"
    }
   ],
   "source": [
    "d6"
   ]
  },
  {
   "cell_type": "code",
   "execution_count": 39,
   "id": "0aa0486a-0386-45a5-86c5-f74a571b1fc5",
   "metadata": {},
   "outputs": [],
   "source": [
    "## Add new key value pair\n",
    "d6[\"mentor\"] = {\"Sudhanshu\",\"Krish\",\"Anurag\",\"Hayder\"}"
   ]
  },
  {
   "cell_type": "code",
   "execution_count": 38,
   "id": "3484a573-2b09-4b9d-9331-8fa12d9de978",
   "metadata": {},
   "outputs": [
    {
     "data": {
      "text/plain": [
       "{'number': [2, 23, 3, 34, 34],\n",
       " 'assignment': (1, 2, 3, 4, 5, 6),\n",
       " 'launch date': {12, 14, 28},\n",
       " 'class_time': {'web dev': 8,\n",
       "  'data science': 8,\n",
       "  'java with dsa and system design': 7},\n",
       " 'mentor': {'Anurag', 'Hayder', 'Krish', 'Sudhanshu'}}"
      ]
     },
     "execution_count": 38,
     "metadata": {},
     "output_type": "execute_result"
    }
   ],
   "source": [
    "d6"
   ]
  },
  {
   "cell_type": "code",
   "execution_count": 40,
   "id": "eeb72ee3-69ff-47d2-9094-cfeaff35111d",
   "metadata": {},
   "outputs": [],
   "source": [
    "del d6[\"number\"]"
   ]
  },
  {
   "cell_type": "code",
   "execution_count": 41,
   "id": "3c702f54-2823-4693-9c78-a84f159a4426",
   "metadata": {},
   "outputs": [
    {
     "data": {
      "text/plain": [
       "{'assignment': (1, 2, 3, 4, 5, 6),\n",
       " 'launch date': {12, 14, 28},\n",
       " 'class_time': {'web dev': 8,\n",
       "  'data science': 8,\n",
       "  'java with dsa and system design': 7},\n",
       " 'mentor': {'Anurag', 'Hayder', 'Krish', 'Sudhanshu'}}"
      ]
     },
     "execution_count": 41,
     "metadata": {},
     "output_type": "execute_result"
    }
   ],
   "source": [
    "d6"
   ]
  },
  {
   "cell_type": "markdown",
   "id": "456a6366-d04e-44c6-a591-3f9db0883182",
   "metadata": {},
   "source": [
    "#### <u>keys() FUNCTION<u>\n",
    "##### The 'keys()' function is a built-in method for dictionaries. It returns a view object that displays a list of all the keys in the dictionary. "
   ]
  },
  {
   "cell_type": "code",
   "execution_count": 43,
   "id": "b2a583b3-c8bd-4028-98b5-961e8d1982d6",
   "metadata": {},
   "outputs": [
    {
     "data": {
      "text/plain": [
       "dict_keys(['assignment', 'launch date', 'class_time', 'mentor'])"
      ]
     },
     "execution_count": 43,
     "metadata": {},
     "output_type": "execute_result"
    }
   ],
   "source": [
    "d6.keys()"
   ]
  },
  {
   "cell_type": "code",
   "execution_count": 45,
   "id": "6d00f039-3254-4702-8d9d-276937451c59",
   "metadata": {},
   "outputs": [
    {
     "data": {
      "text/plain": [
       "['assignment', 'launch date', 'class_time', 'mentor']"
      ]
     },
     "execution_count": 45,
     "metadata": {},
     "output_type": "execute_result"
    }
   ],
   "source": [
    "list(d6.keys())"
   ]
  },
  {
   "cell_type": "markdown",
   "id": "d7b28a43-de60-4f05-b209-632ed1165196",
   "metadata": {},
   "source": [
    "#### <u>values() FUNCTION<u>\n",
    "##### The 'values()' function is a built-in method for dictionaries. It returns a view object that displays a list of all the values in the dictionary."
   ]
  },
  {
   "cell_type": "code",
   "execution_count": 44,
   "id": "e85a90ba-091d-4aec-aa55-adbe88985ed6",
   "metadata": {},
   "outputs": [
    {
     "data": {
      "text/plain": [
       "dict_values([(1, 2, 3, 4, 5, 6), {28, 12, 14}, {'web dev': 8, 'data science': 8, 'java with dsa and system design': 7}, {'Krish', 'Anurag', 'Sudhanshu', 'Hayder'}])"
      ]
     },
     "execution_count": 44,
     "metadata": {},
     "output_type": "execute_result"
    }
   ],
   "source": [
    "d6.values()"
   ]
  },
  {
   "cell_type": "code",
   "execution_count": 46,
   "id": "0e12ba67-72ce-46b3-8da6-4c318266569c",
   "metadata": {},
   "outputs": [
    {
     "data": {
      "text/plain": [
       "[(1, 2, 3, 4, 5, 6),\n",
       " {12, 14, 28},\n",
       " {'web dev': 8, 'data science': 8, 'java with dsa and system design': 7},\n",
       " {'Anurag', 'Hayder', 'Krish', 'Sudhanshu'}]"
      ]
     },
     "execution_count": 46,
     "metadata": {},
     "output_type": "execute_result"
    }
   ],
   "source": [
    "list(d6.values())"
   ]
  },
  {
   "cell_type": "markdown",
   "id": "ae3f93ff-1b04-44c1-bb34-aad09ff925c3",
   "metadata": {},
   "source": [
    "#### <u>items() FUNCTION<u>\n",
    "##### The 'items()' function is a built-in method for dictionaries. It returns a view object that displays a list of all the key-value pairs in the dictionary as tuples."
   ]
  },
  {
   "cell_type": "code",
   "execution_count": 47,
   "id": "af0eca35-5fec-46d9-b4e7-dc9f69f1d2ca",
   "metadata": {},
   "outputs": [
    {
     "data": {
      "text/plain": [
       "dict_items([('assignment', (1, 2, 3, 4, 5, 6)), ('launch date', {28, 12, 14}), ('class_time', {'web dev': 8, 'data science': 8, 'java with dsa and system design': 7}), ('mentor', {'Krish', 'Anurag', 'Sudhanshu', 'Hayder'})])"
      ]
     },
     "execution_count": 47,
     "metadata": {},
     "output_type": "execute_result"
    }
   ],
   "source": [
    "d6.items()"
   ]
  },
  {
   "cell_type": "code",
   "execution_count": 48,
   "id": "9b56adb8-3493-421b-842b-e12300421bde",
   "metadata": {},
   "outputs": [
    {
     "data": {
      "text/plain": [
       "[('assignment', (1, 2, 3, 4, 5, 6)),\n",
       " ('launch date', {12, 14, 28}),\n",
       " ('class_time',\n",
       "  {'web dev': 8, 'data science': 8, 'java with dsa and system design': 7}),\n",
       " ('mentor', {'Anurag', 'Hayder', 'Krish', 'Sudhanshu'})]"
      ]
     },
     "execution_count": 48,
     "metadata": {},
     "output_type": "execute_result"
    }
   ],
   "source": [
    "list(d6.items())"
   ]
  },
  {
   "cell_type": "code",
   "execution_count": 49,
   "id": "8e8dfa14-69f0-4ccf-8e4c-4ea71aa54cc1",
   "metadata": {},
   "outputs": [
    {
     "data": {
      "text/plain": [
       "(1, 2, 3, 4, 5, 6)"
      ]
     },
     "execution_count": 49,
     "metadata": {},
     "output_type": "execute_result"
    }
   ],
   "source": [
    "## Remove Assignment Key Value Pair\n",
    "d6.pop(\"assignment\")"
   ]
  },
  {
   "cell_type": "code",
   "execution_count": 50,
   "id": "d62a834a-bb7d-49dc-8a2b-9d5fb184025b",
   "metadata": {},
   "outputs": [
    {
     "data": {
      "text/plain": [
       "{'launch date': {12, 14, 28},\n",
       " 'class_time': {'web dev': 8,\n",
       "  'data science': 8,\n",
       "  'java with dsa and system design': 7},\n",
       " 'mentor': {'Anurag', 'Hayder', 'Krish', 'Sudhanshu'}}"
      ]
     },
     "execution_count": 50,
     "metadata": {},
     "output_type": "execute_result"
    }
   ],
   "source": [
    "d6"
   ]
  },
  {
   "cell_type": "code",
   "execution_count": 51,
   "id": "8fce7952-de6e-4005-b2f2-5d80fbc1ecd0",
   "metadata": {},
   "outputs": [
    {
     "ename": "TypeError",
     "evalue": "pop expected at least 1 argument, got 0",
     "output_type": "error",
     "traceback": [
      "\u001b[0;31m---------------------------------------------------------------------------\u001b[0m",
      "\u001b[0;31mTypeError\u001b[0m                                 Traceback (most recent call last)",
      "Cell \u001b[0;32mIn[51], line 1\u001b[0m\n\u001b[0;32m----> 1\u001b[0m \u001b[43md6\u001b[49m\u001b[38;5;241;43m.\u001b[39;49m\u001b[43mpop\u001b[49m\u001b[43m(\u001b[49m\u001b[43m)\u001b[49m\n",
      "\u001b[0;31mTypeError\u001b[0m: pop expected at least 1 argument, got 0"
     ]
    }
   ],
   "source": [
    "d6.pop()"
   ]
  },
  {
   "cell_type": "markdown",
   "id": "6327102a-d2a3-4416-876b-dfb5873d5528",
   "metadata": {},
   "source": [
    "#### <u>CONTROL FLOW<u>\n",
    "##### Control flow refers to the order in which the instructions in a program are executed. It determines which statements are executed and which are skipped, based on conditions or decisions made during the execution of the program.\n",
    "\n",
    "##### <u>CONTROL FLOW STATEMENTS<u>:\n",
    "\n",
    "- if statement: An if statement is used to test a condition and execute a block of code only if the condition is True.\n",
    "- if...else statement: An if...else statement is used to test a condition and execute a block of code if the condition is True, and a different block of code if the condition is False.\n",
    "- for loop: A for loop is used to iterate over a sequence (such as a list, tuple, or string) and execute a block of code for each item in the sequence."
   ]
  },
  {
   "cell_type": "markdown",
   "id": "dc6bfc28-a922-43f6-8959-7858644ecd26",
   "metadata": {},
   "source": [
    "#### <u>COMPARISON OPERATORS<u>\n",
    "##### Comparison operators are used to compare values and determine the relationship between them. The result of a comparison operation is either True or False.\n",
    "\n",
    "- '==': equal to\n",
    "- '!=': not equal to\n",
    "- '>': greater than\n",
    "- '<': less than\n",
    "- '>=': greater than or equal to\n",
    "- '<=': less than or equal to"
   ]
  },
  {
   "cell_type": "code",
   "execution_count": 64,
   "id": "587f84b2-61bd-4c7f-9bce-05863919361b",
   "metadata": {},
   "outputs": [
    {
     "name": "stdin",
     "output_type": "stream",
     "text": [
      "Enter Your Marks:  90\n"
     ]
    },
    {
     "ename": "TypeError",
     "evalue": "'>=' not supported between instances of 'str' and 'int'",
     "output_type": "error",
     "traceback": [
      "\u001b[0;31m---------------------------------------------------------------------------\u001b[0m",
      "\u001b[0;31mTypeError\u001b[0m                                 Traceback (most recent call last)",
      "Cell \u001b[0;32mIn[64], line 2\u001b[0m\n\u001b[1;32m      1\u001b[0m marks \u001b[38;5;241m=\u001b[39m \u001b[38;5;28minput\u001b[39m(\u001b[38;5;124m\"\u001b[39m\u001b[38;5;124mEnter Your Marks: \u001b[39m\u001b[38;5;124m\"\u001b[39m)\n\u001b[0;32m----> 2\u001b[0m \u001b[38;5;28;01mif\u001b[39;00m \u001b[43mmarks\u001b[49m\u001b[43m \u001b[49m\u001b[38;5;241;43m>\u001b[39;49m\u001b[38;5;241;43m=\u001b[39;49m\u001b[43m \u001b[49m\u001b[38;5;241;43m80\u001b[39;49m :\n\u001b[1;32m      3\u001b[0m     \u001b[38;5;28mprint\u001b[39m(\u001b[38;5;124m\"\u001b[39m\u001b[38;5;124mYou will be a part of A0 batch\u001b[39m\u001b[38;5;124m\"\u001b[39m)\n\u001b[1;32m      4\u001b[0m \u001b[38;5;28;01melif\u001b[39;00m marks \u001b[38;5;241m>\u001b[39m\u001b[38;5;241m=\u001b[39m \u001b[38;5;241m60\u001b[39m \u001b[38;5;129;01mand\u001b[39;00m marks \u001b[38;5;241m<\u001b[39m \u001b[38;5;241m80\u001b[39m :\n",
      "\u001b[0;31mTypeError\u001b[0m: '>=' not supported between instances of 'str' and 'int'"
     ]
    }
   ],
   "source": [
    "marks = input(\"Enter Your Marks: \")\n",
    "if marks >= 80 :\n",
    "    print(\"You will be a part of A0 batch\")\n",
    "elif marks >= 60 and marks < 80 :\n",
    "    print(\"You will be a part of A1 batch\")\n",
    "elif marks >= 40 and marks < 60 :\n",
    "    print(\"You will be a part of A2 batch\")\n",
    "else:\n",
    "    print(\"You will be a part of A3 batch\")"
   ]
  },
  {
   "cell_type": "code",
   "execution_count": 60,
   "id": "79ed4437-52ad-4c61-86c2-6125c7eaa9ed",
   "metadata": {},
   "outputs": [
    {
     "name": "stdin",
     "output_type": "stream",
     "text": [
      "Enter Your Marks:  90\n"
     ]
    }
   ],
   "source": [
    "marks = input(\"Enter Your Marks: \")"
   ]
  },
  {
   "cell_type": "code",
   "execution_count": 61,
   "id": "8fe6e98c-446e-4fcb-aaa6-491bedd95dff",
   "metadata": {},
   "outputs": [
    {
     "data": {
      "text/plain": [
       "'90'"
      ]
     },
     "execution_count": 61,
     "metadata": {},
     "output_type": "execute_result"
    }
   ],
   "source": [
    "marks"
   ]
  },
  {
   "cell_type": "code",
   "execution_count": 62,
   "id": "1e86e5ad-d0ce-4bb7-810f-4abc181d3f0a",
   "metadata": {},
   "outputs": [
    {
     "data": {
      "text/plain": [
       "str"
      ]
     },
     "execution_count": 62,
     "metadata": {},
     "output_type": "execute_result"
    }
   ],
   "source": [
    "type(marks)"
   ]
  },
  {
   "cell_type": "code",
   "execution_count": 66,
   "id": "f71a07f6-0d37-4e43-a83d-db01d8838b7f",
   "metadata": {},
   "outputs": [
    {
     "name": "stdin",
     "output_type": "stream",
     "text": [
      "Enter Your Marks:  90\n"
     ]
    }
   ],
   "source": [
    "## Typecasting string to int\n",
    "## Input - Default value is string\n",
    "marks = int(input(\"Enter Your Marks: \"))"
   ]
  },
  {
   "cell_type": "code",
   "execution_count": 67,
   "id": "52f75cbf-a980-4438-9905-22c884d01485",
   "metadata": {},
   "outputs": [
    {
     "data": {
      "text/plain": [
       "90"
      ]
     },
     "execution_count": 67,
     "metadata": {},
     "output_type": "execute_result"
    }
   ],
   "source": [
    "marks"
   ]
  },
  {
   "cell_type": "code",
   "execution_count": 68,
   "id": "534cc8e6-a774-4993-9969-5bb5ea65ea52",
   "metadata": {},
   "outputs": [
    {
     "data": {
      "text/plain": [
       "int"
      ]
     },
     "execution_count": 68,
     "metadata": {},
     "output_type": "execute_result"
    }
   ],
   "source": [
    "type(marks)"
   ]
  },
  {
   "cell_type": "code",
   "execution_count": 65,
   "id": "81f98491-bc67-49ce-9676-f658e50bf6cb",
   "metadata": {},
   "outputs": [
    {
     "name": "stdin",
     "output_type": "stream",
     "text": [
      "Enter Your Marks:  90\n"
     ]
    },
    {
     "name": "stdout",
     "output_type": "stream",
     "text": [
      "You will be a part of A0 batch\n"
     ]
    }
   ],
   "source": [
    "marks = int(input(\"Enter Your Marks: \"))\n",
    "if marks >= 80 :\n",
    "    print(\"You will be a part of A0 batch\")\n",
    "elif marks >= 60 and marks < 80 :\n",
    "    print(\"You will be a part of A1 batch\")\n",
    "elif marks >= 40 and marks < 60 :\n",
    "    print(\"You will be a part of A2 batch\")\n",
    "else:\n",
    "    print(\"You will be a part of A3 batch\")"
   ]
  },
  {
   "cell_type": "code",
   "execution_count": 1,
   "id": "c8c95571-418a-4555-b9ce-c0fbd362c0be",
   "metadata": {},
   "outputs": [
    {
     "name": "stdin",
     "output_type": "stream",
     "text": [
      "Enter Price Of The Product 900\n"
     ]
    },
    {
     "name": "stdout",
     "output_type": "stream",
     "text": [
      "I will purchase.\n"
     ]
    }
   ],
   "source": [
    "price = int(input(\"Enter Price Of The Product\"))\n",
    "if price > 1000:\n",
    "    print(\"I will not purchase.\")\n",
    "else:\n",
    "    print(\"I will purchase.\")"
   ]
  },
  {
   "cell_type": "code",
   "execution_count": 2,
   "id": "7ba8db0e-a2a0-4844-8ee4-b9699e8db35a",
   "metadata": {},
   "outputs": [
    {
     "name": "stdin",
     "output_type": "stream",
     "text": [
      "Enter Price Of The Product 9000\n"
     ]
    },
    {
     "name": "stdout",
     "output_type": "stream",
     "text": [
      "I will not purchase.\n"
     ]
    }
   ],
   "source": [
    "price = int(input(\"Enter Price Of The Product\"))\n",
    "if price > 1000:\n",
    "    print(\"I will not purchase.\")"
   ]
  },
  {
   "cell_type": "markdown",
   "id": "2c2efb40-d89b-4a2e-b967-efcf88935a43",
   "metadata": {},
   "source": [
    "#### <u>NESTED CONDITIONAL<u>\n",
    "##### It's possible to use conditional statements within other conditional statements. This is known as a nested conditional. Nested conditionals can be useful when you need to check multiple conditions and perform different actions based on the results."
   ]
  },
  {
   "cell_type": "code",
   "execution_count": 3,
   "id": "a8ef913f-1c7c-4201-91b3-aa57b3741adc",
   "metadata": {},
   "outputs": [
    {
     "name": "stdin",
     "output_type": "stream",
     "text": [
      "Enter Price Of The Product 6000\n"
     ]
    },
    {
     "name": "stdout",
     "output_type": "stream",
     "text": [
      "I will not purchase.\n",
      "This is too much\n"
     ]
    }
   ],
   "source": [
    "price = int(input(\"Enter Price Of The Product\"))\n",
    "if price > 1000:\n",
    "    print(\"I will not purchase.\")\n",
    "    if price > 5000:\n",
    "        print(\"This is too much\")"
   ]
  },
  {
   "cell_type": "code",
   "execution_count": 4,
   "id": "3d50cef3-16f5-49f5-bc2b-72c82a9d36e3",
   "metadata": {},
   "outputs": [
    {
     "name": "stdin",
     "output_type": "stream",
     "text": [
      "Enter Price Of The Product 1500\n"
     ]
    },
    {
     "name": "stdout",
     "output_type": "stream",
     "text": [
      "I will not purchase.\n",
      "Its okay\n"
     ]
    }
   ],
   "source": [
    "price = int(input(\"Enter Price Of The Product\"))\n",
    "if price > 1000:\n",
    "    print(\"I will not purchase.\")\n",
    "    if price > 5000:\n",
    "        print(\"This is too much\")\n",
    "    elif price < 2000:\n",
    "        print(\"Its okay\")"
   ]
  },
  {
   "cell_type": "code",
   "execution_count": 6,
   "id": "f39528d6-6026-473d-bd4e-941c5bdee8ae",
   "metadata": {},
   "outputs": [
    {
     "name": "stdin",
     "output_type": "stream",
     "text": [
      "Enter Price Of The Product 1900\n"
     ]
    },
    {
     "name": "stdout",
     "output_type": "stream",
     "text": [
      "I will not purchase.\n",
      "Its okay\n"
     ]
    }
   ],
   "source": [
    "price = int(input(\"Enter Price Of The Product\"))\n",
    "if price > 1000:\n",
    "    print(\"I will not purchase.\")\n",
    "    if price > 5000:\n",
    "        print(\"This is too much\")\n",
    "    elif price < 2000:\n",
    "        print(\"Its okay\")\n",
    "elif price < 1000:\n",
    "    print(\"I will purchase.\")\n",
    "else:\n",
    "    print(\"Not Interested.\")"
   ]
  },
  {
   "cell_type": "code",
   "execution_count": 19,
   "id": "07277cad-0692-4ef6-8ab4-cda336b64c82",
   "metadata": {},
   "outputs": [],
   "source": [
    "l = [1,2,4,6,7,89,0]"
   ]
  },
  {
   "cell_type": "code",
   "execution_count": 20,
   "id": "0f89e5e7-8592-4b54-99ee-41a757a5b4fe",
   "metadata": {},
   "outputs": [
    {
     "data": {
      "text/plain": [
       "2"
      ]
     },
     "execution_count": 20,
     "metadata": {},
     "output_type": "execute_result"
    }
   ],
   "source": [
    "l[0] + 1"
   ]
  },
  {
   "cell_type": "code",
   "execution_count": 21,
   "id": "90a4c9f6-223a-4526-bb2c-637843a19a31",
   "metadata": {},
   "outputs": [],
   "source": [
    "l1 = []"
   ]
  },
  {
   "cell_type": "code",
   "execution_count": 22,
   "id": "51c2c87c-49e8-43e4-9459-0e7f31d400df",
   "metadata": {},
   "outputs": [],
   "source": [
    "l1.append(l[0] + 1)"
   ]
  },
  {
   "cell_type": "code",
   "execution_count": 23,
   "id": "1d333f4b-ed60-463c-8c38-32f7b0bf12e8",
   "metadata": {},
   "outputs": [
    {
     "data": {
      "text/plain": [
       "[2]"
      ]
     },
     "execution_count": 23,
     "metadata": {},
     "output_type": "execute_result"
    }
   ],
   "source": [
    "l1"
   ]
  },
  {
   "cell_type": "code",
   "execution_count": 24,
   "id": "2bbb75c8-ede8-49d0-ac90-1b8b0a081791",
   "metadata": {},
   "outputs": [
    {
     "name": "stdout",
     "output_type": "stream",
     "text": [
      "1\n",
      "2\n",
      "4\n",
      "6\n",
      "7\n",
      "89\n",
      "0\n"
     ]
    }
   ],
   "source": [
    "for i in l:\n",
    "    print(i)"
   ]
  },
  {
   "cell_type": "code",
   "execution_count": 28,
   "id": "3a988a14-7b51-4eb4-9483-03777921f1cd",
   "metadata": {},
   "outputs": [
    {
     "name": "stdout",
     "output_type": "stream",
     "text": [
      "2\n",
      "3\n",
      "5\n",
      "7\n",
      "8\n",
      "90\n",
      "1\n"
     ]
    },
    {
     "data": {
      "text/plain": [
       "[2, 3, 5, 7, 8, 90, 1]"
      ]
     },
     "execution_count": 28,
     "metadata": {},
     "output_type": "execute_result"
    }
   ],
   "source": [
    "l1=[]\n",
    "for i in l:\n",
    "    print(i+1)\n",
    "    l1.append(i+1)\n",
    "l1  "
   ]
  },
  {
   "cell_type": "code",
   "execution_count": 27,
   "id": "47a06533-fb64-4be2-b9fc-9e1f46fab250",
   "metadata": {},
   "outputs": [
    {
     "data": {
      "text/plain": [
       "[1, 2, 4, 6, 7, 89, 0]"
      ]
     },
     "execution_count": 27,
     "metadata": {},
     "output_type": "execute_result"
    }
   ],
   "source": [
    "l"
   ]
  },
  {
   "cell_type": "code",
   "execution_count": 29,
   "id": "3fc1ac42-8286-43b5-82f2-b9b97c94986a",
   "metadata": {},
   "outputs": [],
   "source": [
    "l = [\"anju\",\"soman\",\"pwskills\",\"course\"]"
   ]
  },
  {
   "cell_type": "code",
   "execution_count": 32,
   "id": "9ce73da9-c77b-4378-b89d-5edd14618cdd",
   "metadata": {},
   "outputs": [
    {
     "name": "stdout",
     "output_type": "stream",
     "text": [
      "anju\n",
      "soman\n",
      "pwskills\n",
      "course\n"
     ]
    },
    {
     "data": {
      "text/plain": [
       "['ANJU', 'SOMAN', 'PWSKILLS', 'COURSE']"
      ]
     },
     "execution_count": 32,
     "metadata": {},
     "output_type": "execute_result"
    }
   ],
   "source": [
    "l1=[]\n",
    "for i in l:\n",
    "    print(i)\n",
    "    l1.append(i.upper())\n",
    "l1"
   ]
  },
  {
   "cell_type": "code",
   "execution_count": 33,
   "id": "a6c3645f-6093-49e5-9073-97a8255d9579",
   "metadata": {},
   "outputs": [
    {
     "data": {
      "text/plain": [
       "['ANJU', 'SOMAN', 'PWSKILLS', 'COURSE']"
      ]
     },
     "execution_count": 33,
     "metadata": {},
     "output_type": "execute_result"
    }
   ],
   "source": [
    "l1"
   ]
  },
  {
   "cell_type": "code",
   "execution_count": 34,
   "id": "c7d11e2e-89d8-4fb0-9f81-85899322eff2",
   "metadata": {},
   "outputs": [],
   "source": [
    "l = [1,2,3,4,4,\"anju\",\"soman\", 123,43.34,\"abc\"]"
   ]
  },
  {
   "cell_type": "code",
   "execution_count": 44,
   "id": "e5045217-2ef5-48ef-9e0d-fcb08c547968",
   "metadata": {},
   "outputs": [],
   "source": [
    "l1_num = []\n",
    "l2_str = []\n",
    "for i in l:\n",
    "    if type(i)==int or type(i)==float:\n",
    "        l1_num.append(i)\n",
    "    else:\n",
    "        l2_str.append(i)"
   ]
  },
  {
   "cell_type": "code",
   "execution_count": 46,
   "id": "b85700c3-ac94-4198-aa28-71ce0d0cf08f",
   "metadata": {},
   "outputs": [
    {
     "data": {
      "text/plain": [
       "[1, 2, 3, 4, 4, 123, 43.34]"
      ]
     },
     "execution_count": 46,
     "metadata": {},
     "output_type": "execute_result"
    }
   ],
   "source": [
    "l1_num"
   ]
  },
  {
   "cell_type": "code",
   "execution_count": 47,
   "id": "72c157f7-4851-4174-89ee-e30922a0baa2",
   "metadata": {},
   "outputs": [
    {
     "data": {
      "text/plain": [
       "['anju', 'soman', 'abc']"
      ]
     },
     "execution_count": 47,
     "metadata": {},
     "output_type": "execute_result"
    }
   ],
   "source": [
    "l2_str"
   ]
  }
 ],
 "metadata": {
  "kernelspec": {
   "display_name": "Python 3 (ipykernel)",
   "language": "python",
   "name": "python3"
  },
  "language_info": {
   "codemirror_mode": {
    "name": "ipython",
    "version": 3
   },
   "file_extension": ".py",
   "mimetype": "text/x-python",
   "name": "python",
   "nbconvert_exporter": "python",
   "pygments_lexer": "ipython3",
   "version": "3.10.8"
  }
 },
 "nbformat": 4,
 "nbformat_minor": 5
}
