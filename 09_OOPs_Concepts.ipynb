{
 "cells": [
  {
   "cell_type": "markdown",
   "id": "a9b9b902-4ad9-43e1-a8ba-f2ac19eac1e1",
   "metadata": {},
   "source": [
    "#### <u>DECORATORS<u>\n",
    "    \n",
    "##### A decorator is a way to add or modify the behavior of an object, without changing its original code. Using a decorator in Python involves defining a decorator function, which takes another function as input, adds the desired functionality, and then returns the modified function. The decorator function can then be applied to any other function, using the \"@\" symbol before the decorator function name."
   ]
  },
  {
   "cell_type": "code",
   "execution_count": 1,
   "id": "79388432-0b06-49b0-994d-0ca1a735523a",
   "metadata": {},
   "outputs": [],
   "source": [
    "def test():\n",
    "    print(\"This is the start of my function\")\n",
    "    print(\"This is my function to test\")\n",
    "    print(4+5)\n",
    "    print(\"This is the end of my function\")"
   ]
  },
  {
   "cell_type": "code",
   "execution_count": 2,
   "id": "ea336915-8d4b-4dfd-a534-de1474643b21",
   "metadata": {},
   "outputs": [
    {
     "name": "stdout",
     "output_type": "stream",
     "text": [
      "This is the start of my function\n",
      "This is my function to test\n",
      "9\n",
      "This is the end of my function\n"
     ]
    }
   ],
   "source": [
    "test()"
   ]
  },
  {
   "cell_type": "code",
   "execution_count": 3,
   "id": "e3f7a79b-6d65-43fa-868e-381af4107c59",
   "metadata": {},
   "outputs": [],
   "source": [
    "def decorate(function):\n",
    "    def inner_decorate():\n",
    "        print(\"This is the start of my function\")\n",
    "        function()\n",
    "        print(\"This is the end of my function\")\n",
    "    return inner_decorate"
   ]
  },
  {
   "cell_type": "code",
   "execution_count": 4,
   "id": "5d0edc97-eee7-4b9d-8a77-11f2e1f348ce",
   "metadata": {},
   "outputs": [],
   "source": [
    "def test1():\n",
    "    print(6+7)"
   ]
  },
  {
   "cell_type": "code",
   "execution_count": 5,
   "id": "e6c5d3fe-0dab-40d7-9d63-32b0d3c3fb95",
   "metadata": {},
   "outputs": [
    {
     "name": "stdout",
     "output_type": "stream",
     "text": [
      "13\n"
     ]
    }
   ],
   "source": [
    "test1()"
   ]
  },
  {
   "cell_type": "code",
   "execution_count": 6,
   "id": "81108556-d476-48cd-a60b-0ff39c55021c",
   "metadata": {},
   "outputs": [],
   "source": [
    "@decorate\n",
    "def test1():\n",
    "    print(6+7)"
   ]
  },
  {
   "cell_type": "code",
   "execution_count": 7,
   "id": "139e0144-f039-4f4e-ba30-1e065243265a",
   "metadata": {},
   "outputs": [
    {
     "name": "stdout",
     "output_type": "stream",
     "text": [
      "This is the start of my function\n",
      "13\n",
      "This is the end of my function\n"
     ]
    }
   ],
   "source": [
    "test1()"
   ]
  },
  {
   "cell_type": "code",
   "execution_count": 8,
   "id": "5cc1fbe7-69a4-486f-8823-76ee0cb55196",
   "metadata": {},
   "outputs": [],
   "source": [
    "import time \n",
    "\n",
    "def timer_test(func):\n",
    "    def timer_test_inner():\n",
    "        start = time.time()\n",
    "        func()\n",
    "        end = time.time()\n",
    "        print(end -start)\n",
    "    return timer_test_inner"
   ]
  },
  {
   "cell_type": "code",
   "execution_count": 9,
   "id": "49c6aff3-023e-4d3a-b43d-d7bba1ec96da",
   "metadata": {},
   "outputs": [],
   "source": [
    "def test2():\n",
    "    print(45+78)"
   ]
  },
  {
   "cell_type": "code",
   "execution_count": 10,
   "id": "7f1b083a-4bf1-4a99-b28d-a5fcfd417f02",
   "metadata": {},
   "outputs": [
    {
     "name": "stdout",
     "output_type": "stream",
     "text": [
      "123\n"
     ]
    }
   ],
   "source": [
    "test2()"
   ]
  },
  {
   "cell_type": "code",
   "execution_count": 11,
   "id": "9a954f14-ac33-48fb-af67-b4e2c0c7695a",
   "metadata": {},
   "outputs": [],
   "source": [
    "@timer_test\n",
    "def test2():\n",
    "    print(45+78)"
   ]
  },
  {
   "cell_type": "code",
   "execution_count": 12,
   "id": "8783f783-f878-4f3b-8b87-f830b187b649",
   "metadata": {},
   "outputs": [
    {
     "name": "stdout",
     "output_type": "stream",
     "text": [
      "123\n",
      "5.1021575927734375e-05\n"
     ]
    }
   ],
   "source": [
    "test2()"
   ]
  },
  {
   "cell_type": "code",
   "execution_count": 13,
   "id": "2cc1811e-4190-4e92-9524-9e71277a3cf4",
   "metadata": {},
   "outputs": [],
   "source": [
    "@timer_test\n",
    "def test3():\n",
    "    for i in range(1000000000):\n",
    "        pass"
   ]
  },
  {
   "cell_type": "code",
   "execution_count": 14,
   "id": "a8cf7a85-abeb-48da-934f-3b0bd089b575",
   "metadata": {},
   "outputs": [
    {
     "name": "stdout",
     "output_type": "stream",
     "text": [
      "21.55422019958496\n"
     ]
    }
   ],
   "source": [
    "test3()"
   ]
  },
  {
   "cell_type": "markdown",
   "id": "40084cd9-8021-4638-baf6-f25c46baf4e0",
   "metadata": {},
   "source": [
    "#### <u>CLASS METHODS<u>\n",
    "    \n",
    "##### Class methods are useful when you want to perform some action that involves the class as a whole, rather than any individual object of the class. To define a class method in Python, you use the '@classmethod' decorator before the method definition. Inside the class method, you can access class-level variables and methods using the 'cls' parameter, which refers to the class itself."
   ]
  },
  {
   "cell_type": "code",
   "execution_count": 15,
   "id": "fb7722de-f9b4-41e1-a42e-39df15ebafef",
   "metadata": {},
   "outputs": [],
   "source": [
    "class pwskills :\n",
    "    \n",
    "    def __init__(self, name, email) :\n",
    "        \n",
    "        self.name = name\n",
    "        self.email = email\n",
    "        \n",
    "    def students_details(self):\n",
    "        print(self.name,self.email)"
   ]
  },
  {
   "cell_type": "code",
   "execution_count": 16,
   "id": "b461c840-85e7-400c-b2a6-850e58ad89dc",
   "metadata": {},
   "outputs": [],
   "source": [
    "pw = pwskills(\"Anjali\" , \"anjali@gmail.com\")"
   ]
  },
  {
   "cell_type": "code",
   "execution_count": 17,
   "id": "c1529868-d0d0-441e-820d-5ce6b3438193",
   "metadata": {},
   "outputs": [
    {
     "data": {
      "text/plain": [
       "'Anjali'"
      ]
     },
     "execution_count": 17,
     "metadata": {},
     "output_type": "execute_result"
    }
   ],
   "source": [
    "pw.name"
   ]
  },
  {
   "cell_type": "code",
   "execution_count": 18,
   "id": "692e89ae-a6b5-42cc-9d35-3d7bd8e0e04d",
   "metadata": {},
   "outputs": [
    {
     "data": {
      "text/plain": [
       "'anjali@gmail.com'"
      ]
     },
     "execution_count": 18,
     "metadata": {},
     "output_type": "execute_result"
    }
   ],
   "source": [
    "pw.email"
   ]
  },
  {
   "cell_type": "code",
   "execution_count": 19,
   "id": "1059d449-7642-4b6a-aefa-2a23ade23f21",
   "metadata": {},
   "outputs": [
    {
     "name": "stdout",
     "output_type": "stream",
     "text": [
      "Anjali anjali@gmail.com\n"
     ]
    }
   ],
   "source": [
    "pw.students_details()"
   ]
  },
  {
   "cell_type": "code",
   "execution_count": 20,
   "id": "76c050c0-a6ba-4a90-9623-7fc05000a345",
   "metadata": {},
   "outputs": [],
   "source": [
    "class pwskills1 :\n",
    "    \n",
    "    def __init__(self, name, email) :\n",
    "        \n",
    "        self.name = name\n",
    "        self.email = email\n",
    "    \n",
    "    @classmethod\n",
    "    def details(cls , name, email):\n",
    "        return cls(name,email)\n",
    "    \n",
    "    def students_details(self):\n",
    "        print(self.name,self.email)"
   ]
  },
  {
   "cell_type": "code",
   "execution_count": 23,
   "id": "70d92658-a85c-49a4-8929-b98242342cb3",
   "metadata": {},
   "outputs": [],
   "source": [
    "pw1 = pwskills1.details(\"Anju\",\"Anju@gmail.com\")"
   ]
  },
  {
   "cell_type": "code",
   "execution_count": 24,
   "id": "9aaedb82-7053-48a1-9aec-0abc9788ca7c",
   "metadata": {},
   "outputs": [
    {
     "data": {
      "text/plain": [
       "'Anju'"
      ]
     },
     "execution_count": 24,
     "metadata": {},
     "output_type": "execute_result"
    }
   ],
   "source": [
    "pw1.name"
   ]
  },
  {
   "cell_type": "code",
   "execution_count": 25,
   "id": "b5c29452-3910-404a-8376-e820e0b6bb43",
   "metadata": {},
   "outputs": [
    {
     "data": {
      "text/plain": [
       "'Anju@gmail.com'"
      ]
     },
     "execution_count": 25,
     "metadata": {},
     "output_type": "execute_result"
    }
   ],
   "source": [
    "pw1.email"
   ]
  },
  {
   "cell_type": "code",
   "execution_count": 26,
   "id": "0946428d-a0f9-4154-a99e-af79bc260fdd",
   "metadata": {},
   "outputs": [
    {
     "name": "stdout",
     "output_type": "stream",
     "text": [
      "Anju Anju@gmail.com\n"
     ]
    }
   ],
   "source": [
    "pw1.students_details()"
   ]
  },
  {
   "cell_type": "code",
   "execution_count": 33,
   "id": "2d893f63-4cd9-4385-bdb8-8e8c5aa139f0",
   "metadata": {},
   "outputs": [],
   "source": [
    "class pwskills2 :\n",
    "    \n",
    "    mobile_number = 9786168618\n",
    "    \n",
    "    def __init__(self, name, email) :\n",
    "        \n",
    "        self.name = name\n",
    "        self.email = email\n",
    "    \n",
    "    @classmethod\n",
    "    def change_number(cls, mobile):\n",
    "        pwskills2.mobile_number = mobile\n",
    "    \n",
    "    @classmethod\n",
    "    def details(cls , name, email):\n",
    "        return cls(name,email)\n",
    "    \n",
    "    def students_details(self):\n",
    "        print(self.name,self.email,pwskills2.mobile_number)"
   ]
  },
  {
   "cell_type": "code",
   "execution_count": 30,
   "id": "359d06bc-46e5-4ac4-8bc5-dda0f8822094",
   "metadata": {},
   "outputs": [
    {
     "data": {
      "text/plain": [
       "9786168618"
      ]
     },
     "execution_count": 30,
     "metadata": {},
     "output_type": "execute_result"
    }
   ],
   "source": [
    "pwskills2.mobile_number"
   ]
  },
  {
   "cell_type": "code",
   "execution_count": 31,
   "id": "47871696-d81c-47e7-8c66-9c2544b44ee2",
   "metadata": {},
   "outputs": [],
   "source": [
    "pwskills2.change_number(7893567834)"
   ]
  },
  {
   "cell_type": "code",
   "execution_count": 32,
   "id": "bf795765-ee23-4bf6-8092-e775194116f3",
   "metadata": {},
   "outputs": [
    {
     "data": {
      "text/plain": [
       "7893567834"
      ]
     },
     "execution_count": 32,
     "metadata": {},
     "output_type": "execute_result"
    }
   ],
   "source": [
    "pwskills2.mobile_number"
   ]
  },
  {
   "cell_type": "code",
   "execution_count": 34,
   "id": "1e9a176c-7dba-4c07-838b-7140071cd712",
   "metadata": {},
   "outputs": [],
   "source": [
    "pw_obj = pwskills2(\"anju\",\"anju@gmail.com\")"
   ]
  },
  {
   "cell_type": "code",
   "execution_count": 35,
   "id": "32980a3a-f286-4808-a2b6-3c4c458da835",
   "metadata": {},
   "outputs": [
    {
     "name": "stdout",
     "output_type": "stream",
     "text": [
      "anju anju@gmail.com 9786168618\n"
     ]
    }
   ],
   "source": [
    "pw_obj.students_details()"
   ]
  },
  {
   "cell_type": "code",
   "execution_count": 36,
   "id": "46fbea0b-ea18-4c0d-b55f-15df6ee31354",
   "metadata": {},
   "outputs": [],
   "source": [
    "pw = pwskills2.details(\"Rohan\",\"Rohan@gmail.com\")"
   ]
  },
  {
   "cell_type": "code",
   "execution_count": 37,
   "id": "58d5366c-2fa6-478d-9e68-7f62a54b5b85",
   "metadata": {},
   "outputs": [
    {
     "name": "stdout",
     "output_type": "stream",
     "text": [
      "Rohan Rohan@gmail.com 9786168618\n"
     ]
    }
   ],
   "source": [
    "pw.students_details()"
   ]
  },
  {
   "cell_type": "code",
   "execution_count": 40,
   "id": "44b45e24-ac35-4d3a-8398-592a1425f287",
   "metadata": {},
   "outputs": [],
   "source": [
    "class pwskills3 :\n",
    "    \n",
    "    mobile_number = 9786168618\n",
    "    \n",
    "    def __init__(self, name, email) :\n",
    "        \n",
    "        self.name = name\n",
    "        self.email = email\n",
    "    \n",
    "    @classmethod\n",
    "    def change_number(cls, mobile):\n",
    "        pwskills2.mobile_number = mobile\n",
    "    \n",
    "    @classmethod\n",
    "    def details(cls , name, email):\n",
    "        return cls(name,email)\n",
    "    \n",
    "    def students_details(self):\n",
    "        print(self.name,self.email,pwskills2.mobile_number)"
   ]
  },
  {
   "cell_type": "code",
   "execution_count": 45,
   "id": "a16227cc-9ef7-4134-ba47-c22ef045c97d",
   "metadata": {},
   "outputs": [],
   "source": [
    "def course_details(cls,course_name) :\n",
    "    print(\"Course Name is\",course_name)"
   ]
  },
  {
   "cell_type": "code",
   "execution_count": 47,
   "id": "b633f17e-14e9-45d7-b675-23dd7d24936d",
   "metadata": {},
   "outputs": [],
   "source": [
    "pwskills3.course_details = classmethod(course_details)"
   ]
  },
  {
   "cell_type": "code",
   "execution_count": 48,
   "id": "9ad9d515-aadf-4769-abe1-8c515b7158f2",
   "metadata": {},
   "outputs": [
    {
     "name": "stdout",
     "output_type": "stream",
     "text": [
      "Course Name is Data Science Masters\n"
     ]
    }
   ],
   "source": [
    "pwskills3.course_details(\"Data Science Masters\")"
   ]
  },
  {
   "cell_type": "code",
   "execution_count": 49,
   "id": "ec3d73dc-c12d-41d7-8fd6-0ef141f8d002",
   "metadata": {},
   "outputs": [],
   "source": [
    "def mentor(cls,list_of_mentor):\n",
    "    print(list_of_mentor)"
   ]
  },
  {
   "cell_type": "code",
   "execution_count": 50,
   "id": "013b92af-256c-4575-a8ee-e230860ab1e0",
   "metadata": {},
   "outputs": [],
   "source": [
    "pwskills3.mentor = classmethod(mentor)"
   ]
  },
  {
   "cell_type": "code",
   "execution_count": 55,
   "id": "36c419f6-d915-45b9-983e-6ac0b67a8017",
   "metadata": {},
   "outputs": [
    {
     "name": "stdout",
     "output_type": "stream",
     "text": [
      "['Sudhanshu', 'Krish']\n"
     ]
    }
   ],
   "source": [
    "pwskills3.mentor([\"Sudhanshu\", \"Krish\"])"
   ]
  },
  {
   "cell_type": "code",
   "execution_count": 57,
   "id": "eb7a2c66-9e09-4200-8d7d-34ee8b5ed198",
   "metadata": {},
   "outputs": [],
   "source": [
    "class pwskills4 :\n",
    "    \n",
    "    mobile_number = 9786168618\n",
    "    \n",
    "    def __init__(self, name, email) :\n",
    "        \n",
    "        self.name = name\n",
    "        self.email = email\n",
    "    \n",
    "    @classmethod\n",
    "    def change_number(cls, mobile):\n",
    "        pwskills2.mobile_number = mobile\n",
    "    \n",
    "    @classmethod\n",
    "    def details(cls , name, email):\n",
    "        return cls(name,email)\n",
    "    \n",
    "    def students_details(self):\n",
    "        print(self.name,self.email,pwskills2.mobile_number)"
   ]
  },
  {
   "cell_type": "code",
   "execution_count": 58,
   "id": "4cd49110-08f4-4395-a2e2-8d37ae1cf7fc",
   "metadata": {},
   "outputs": [],
   "source": [
    "del pwskills4.change_number"
   ]
  },
  {
   "cell_type": "code",
   "execution_count": 59,
   "id": "94758850-26dc-4ae7-b0a3-91a8f19dc3bb",
   "metadata": {},
   "outputs": [
    {
     "ename": "AttributeError",
     "evalue": "type object 'pwskills4' has no attribute 'change_number'",
     "output_type": "error",
     "traceback": [
      "\u001b[0;31m---------------------------------------------------------------------------\u001b[0m",
      "\u001b[0;31mAttributeError\u001b[0m                            Traceback (most recent call last)",
      "Cell \u001b[0;32mIn[59], line 1\u001b[0m\n\u001b[0;32m----> 1\u001b[0m \u001b[43mpwskills4\u001b[49m\u001b[38;5;241;43m.\u001b[39;49m\u001b[43mchange_number\u001b[49m(\u001b[38;5;241m9752189467\u001b[39m)\n",
      "\u001b[0;31mAttributeError\u001b[0m: type object 'pwskills4' has no attribute 'change_number'"
     ]
    }
   ],
   "source": [
    "pwskills4.change_number(9752189467)"
   ]
  },
  {
   "cell_type": "code",
   "execution_count": 60,
   "id": "baec80b7-b49d-4fc2-b2e6-64b9ffd0c90a",
   "metadata": {},
   "outputs": [],
   "source": [
    "delattr(pwskills4 , \"details\")"
   ]
  },
  {
   "cell_type": "code",
   "execution_count": 61,
   "id": "45549f59-78dd-42d6-a527-91727baa4a27",
   "metadata": {},
   "outputs": [],
   "source": [
    "delattr(pwskills4 , \"students_details\")"
   ]
  },
  {
   "cell_type": "code",
   "execution_count": 62,
   "id": "dfb633ff-5b83-4a94-a08f-92a234e31b3f",
   "metadata": {},
   "outputs": [],
   "source": [
    "delattr(pwskills4 , \"mobile_number\")"
   ]
  },
  {
   "cell_type": "markdown",
   "id": "9d98c748-c67d-4afd-aa95-a34f019d62ea",
   "metadata": {},
   "source": [
    "#### <u>STATIC METHOD<u>\n",
    "    \n",
    "##### A static method is a method that belongs to a class, but does not depend on the state of any object of that class. This means that you can call a static method on the class itself, rather than on an individual object of the class. To define a static method in Python, you use the '@staticmethod' decorator before the method definition."
   ]
  },
  {
   "cell_type": "code",
   "execution_count": 63,
   "id": "9b90968b-6365-493a-bdd8-cb0fd20c515e",
   "metadata": {},
   "outputs": [],
   "source": [
    "class pwskills :\n",
    "    \n",
    "    def student_details(self , name , mail_id , number) :\n",
    "        print(name , mail_id , number)"
   ]
  },
  {
   "cell_type": "code",
   "execution_count": 64,
   "id": "f7e163be-1fde-4113-982b-2681c5c88483",
   "metadata": {},
   "outputs": [],
   "source": [
    "pw = pwskills()"
   ]
  },
  {
   "cell_type": "code",
   "execution_count": 65,
   "id": "82ef8b1e-27b9-4185-815f-9f4fda20d746",
   "metadata": {},
   "outputs": [
    {
     "name": "stdout",
     "output_type": "stream",
     "text": [
      "Anjali Anju@gmail.com 638765783\n"
     ]
    }
   ],
   "source": [
    "pw.student_details(\"Anjali\",\"Anju@gmail.com\", 638765783)"
   ]
  },
  {
   "cell_type": "code",
   "execution_count": 73,
   "id": "b78e99ad-40b0-4ad7-81da-97c650fea0c5",
   "metadata": {},
   "outputs": [],
   "source": [
    "class pwskills1 :\n",
    "    \n",
    "    def student_details(self , name , mail_id , number) :\n",
    "        print(name , mail_id , number)\n",
    "        \n",
    "    @staticmethod\n",
    "    def mentor_class(list_mentor) :\n",
    "        print(list_mentor)\n",
    "        \n",
    "    def mentor(self , mentor_list):\n",
    "        print(mentor_list)"
   ]
  },
  {
   "cell_type": "code",
   "execution_count": 75,
   "id": "ad814a55-bb10-4fea-b193-c729433fbf5a",
   "metadata": {},
   "outputs": [
    {
     "name": "stdout",
     "output_type": "stream",
     "text": [
      "['Sudhanshu', 'Krish']\n"
     ]
    }
   ],
   "source": [
    "pwskills1.mentor_class([\"Sudhanshu\",\"Krish\"])"
   ]
  },
  {
   "cell_type": "code",
   "execution_count": 76,
   "id": "bb259c3f-cbf9-4f8d-9320-a1332a1719dd",
   "metadata": {},
   "outputs": [],
   "source": [
    "student1 = pwskills1()"
   ]
  },
  {
   "cell_type": "code",
   "execution_count": 77,
   "id": "4a79e5f8-01ef-4683-a519-3dc7f0ee8380",
   "metadata": {},
   "outputs": [],
   "source": [
    "student2 = pwskills1()"
   ]
  },
  {
   "cell_type": "code",
   "execution_count": 78,
   "id": "3f7651f6-fd5d-458c-a1cd-2e9727e79868",
   "metadata": {},
   "outputs": [],
   "source": [
    "student3 = pwskills1()"
   ]
  },
  {
   "cell_type": "code",
   "execution_count": 79,
   "id": "99cbe809-348f-450d-aa78-abf7da968268",
   "metadata": {},
   "outputs": [
    {
     "name": "stdout",
     "output_type": "stream",
     "text": [
      "['Sudhanshu', 'Krish']\n"
     ]
    }
   ],
   "source": [
    "student1.mentor([\"Sudhanshu\",\"Krish\"])"
   ]
  },
  {
   "cell_type": "code",
   "execution_count": 88,
   "id": "97a6056d-b78e-4b63-a945-c92ee9f9822b",
   "metadata": {},
   "outputs": [],
   "source": [
    "class pwskills2 :\n",
    "    \n",
    "    def student_details(self , name , mail_id , number) :\n",
    "        print(name , mail_id , number)\n",
    "        \n",
    "    @staticmethod\n",
    "    def mentor_mail_id(mail_id_mentor) :\n",
    "        print(mail_id_mentor)\n",
    "        \n",
    "    @staticmethod\n",
    "    def mentor_class(list_mentor) :\n",
    "        pwskills2.mentor_mail_id([\"Sudhanshu@gmail.com\",\"Krish@gmail.com\"])\n",
    "        print(list_mentor)\n",
    "    \n",
    "    @classmethod\n",
    "    def class_name(cls):\n",
    "        cls.mentor_class([\"Sudhanshu\",\"Krish\"])\n",
    "        \n",
    "    def mentor(self , mentor_list):\n",
    "        print(mentor_list)\n",
    "        self.mentor_class([\"Sudhanshu\",\"Krish\"])"
   ]
  },
  {
   "cell_type": "code",
   "execution_count": 84,
   "id": "5ce8d117-ad7e-4f87-b6bd-81c7ac457dcf",
   "metadata": {},
   "outputs": [
    {
     "name": "stdout",
     "output_type": "stream",
     "text": [
      "['Sudhanshu', 'Krish']\n"
     ]
    }
   ],
   "source": [
    "pwskills2.class_name()"
   ]
  },
  {
   "cell_type": "code",
   "execution_count": 87,
   "id": "3ea69215-cdd4-410f-a966-1294d23fc963",
   "metadata": {},
   "outputs": [
    {
     "name": "stdout",
     "output_type": "stream",
     "text": [
      "['Sudhanshu@gmail.com', 'Krish@gmail.com']\n",
      "['Sudhanshu', 'Krish']\n"
     ]
    }
   ],
   "source": [
    "pwskills2.mentor_class([\"Sudhanshu\",\"Krish\"])"
   ]
  },
  {
   "cell_type": "code",
   "execution_count": 89,
   "id": "84b7ef33-086d-452e-9f96-ca912740d659",
   "metadata": {},
   "outputs": [],
   "source": [
    "pw = pwskills2()"
   ]
  },
  {
   "cell_type": "code",
   "execution_count": 90,
   "id": "50322715-0d1c-4e2f-92bf-83a8e12013ad",
   "metadata": {},
   "outputs": [
    {
     "name": "stdout",
     "output_type": "stream",
     "text": [
      "['Sudhanshu', 'Krish']\n",
      "['Sudhanshu@gmail.com', 'Krish@gmail.com']\n",
      "['Sudhanshu', 'Krish']\n"
     ]
    }
   ],
   "source": [
    "pw.mentor([\"Sudhanshu\",\"Krish\"])"
   ]
  },
  {
   "cell_type": "markdown",
   "id": "ad16fd82-d282-4215-a0d5-6f122ee73d25",
   "metadata": {},
   "source": [
    "#### <u>SPECIAL (MAGIC/DUNDER) METHODS<u>\n",
    "    \n",
    "##### SPECIAL (MAGIC/DUNDER) METHODS: Special methods (also called magic or dunder methods) are methods used to define how objects of a class behave in various contexts, such as how they are created, compared, printed, or used in mathematical operations. Special methods are recognizable by their double underscore prefix and suffix, such as '\\_\\_init__', '\\_\\_str__', '\\_\\_eq__', and so on."
   ]
  },
  {
   "cell_type": "code",
   "execution_count": 91,
   "id": "9f992ade-df81-441e-921b-8e1dd04aea72",
   "metadata": {},
   "outputs": [
    {
     "data": {
      "text/plain": [
       "['__abs__',\n",
       " '__add__',\n",
       " '__and__',\n",
       " '__bool__',\n",
       " '__ceil__',\n",
       " '__class__',\n",
       " '__delattr__',\n",
       " '__dir__',\n",
       " '__divmod__',\n",
       " '__doc__',\n",
       " '__eq__',\n",
       " '__float__',\n",
       " '__floor__',\n",
       " '__floordiv__',\n",
       " '__format__',\n",
       " '__ge__',\n",
       " '__getattribute__',\n",
       " '__getnewargs__',\n",
       " '__gt__',\n",
       " '__hash__',\n",
       " '__index__',\n",
       " '__init__',\n",
       " '__init_subclass__',\n",
       " '__int__',\n",
       " '__invert__',\n",
       " '__le__',\n",
       " '__lshift__',\n",
       " '__lt__',\n",
       " '__mod__',\n",
       " '__mul__',\n",
       " '__ne__',\n",
       " '__neg__',\n",
       " '__new__',\n",
       " '__or__',\n",
       " '__pos__',\n",
       " '__pow__',\n",
       " '__radd__',\n",
       " '__rand__',\n",
       " '__rdivmod__',\n",
       " '__reduce__',\n",
       " '__reduce_ex__',\n",
       " '__repr__',\n",
       " '__rfloordiv__',\n",
       " '__rlshift__',\n",
       " '__rmod__',\n",
       " '__rmul__',\n",
       " '__ror__',\n",
       " '__round__',\n",
       " '__rpow__',\n",
       " '__rrshift__',\n",
       " '__rshift__',\n",
       " '__rsub__',\n",
       " '__rtruediv__',\n",
       " '__rxor__',\n",
       " '__setattr__',\n",
       " '__sizeof__',\n",
       " '__str__',\n",
       " '__sub__',\n",
       " '__subclasshook__',\n",
       " '__truediv__',\n",
       " '__trunc__',\n",
       " '__xor__',\n",
       " 'as_integer_ratio',\n",
       " 'bit_count',\n",
       " 'bit_length',\n",
       " 'conjugate',\n",
       " 'denominator',\n",
       " 'from_bytes',\n",
       " 'imag',\n",
       " 'numerator',\n",
       " 'real',\n",
       " 'to_bytes']"
      ]
     },
     "execution_count": 91,
     "metadata": {},
     "output_type": "execute_result"
    }
   ],
   "source": [
    "dir(int)"
   ]
  },
  {
   "cell_type": "code",
   "execution_count": 92,
   "id": "02025a04-3053-44b0-8c81-bee59eb66923",
   "metadata": {},
   "outputs": [
    {
     "data": {
      "text/plain": [
       "['__add__',\n",
       " '__class__',\n",
       " '__contains__',\n",
       " '__delattr__',\n",
       " '__dir__',\n",
       " '__doc__',\n",
       " '__eq__',\n",
       " '__format__',\n",
       " '__ge__',\n",
       " '__getattribute__',\n",
       " '__getitem__',\n",
       " '__getnewargs__',\n",
       " '__gt__',\n",
       " '__hash__',\n",
       " '__init__',\n",
       " '__init_subclass__',\n",
       " '__iter__',\n",
       " '__le__',\n",
       " '__len__',\n",
       " '__lt__',\n",
       " '__mod__',\n",
       " '__mul__',\n",
       " '__ne__',\n",
       " '__new__',\n",
       " '__reduce__',\n",
       " '__reduce_ex__',\n",
       " '__repr__',\n",
       " '__rmod__',\n",
       " '__rmul__',\n",
       " '__setattr__',\n",
       " '__sizeof__',\n",
       " '__str__',\n",
       " '__subclasshook__',\n",
       " 'capitalize',\n",
       " 'casefold',\n",
       " 'center',\n",
       " 'count',\n",
       " 'encode',\n",
       " 'endswith',\n",
       " 'expandtabs',\n",
       " 'find',\n",
       " 'format',\n",
       " 'format_map',\n",
       " 'index',\n",
       " 'isalnum',\n",
       " 'isalpha',\n",
       " 'isascii',\n",
       " 'isdecimal',\n",
       " 'isdigit',\n",
       " 'isidentifier',\n",
       " 'islower',\n",
       " 'isnumeric',\n",
       " 'isprintable',\n",
       " 'isspace',\n",
       " 'istitle',\n",
       " 'isupper',\n",
       " 'join',\n",
       " 'ljust',\n",
       " 'lower',\n",
       " 'lstrip',\n",
       " 'maketrans',\n",
       " 'partition',\n",
       " 'removeprefix',\n",
       " 'removesuffix',\n",
       " 'replace',\n",
       " 'rfind',\n",
       " 'rindex',\n",
       " 'rjust',\n",
       " 'rpartition',\n",
       " 'rsplit',\n",
       " 'rstrip',\n",
       " 'split',\n",
       " 'splitlines',\n",
       " 'startswith',\n",
       " 'strip',\n",
       " 'swapcase',\n",
       " 'title',\n",
       " 'translate',\n",
       " 'upper',\n",
       " 'zfill']"
      ]
     },
     "execution_count": 92,
     "metadata": {},
     "output_type": "execute_result"
    }
   ],
   "source": [
    "dir(str)"
   ]
  },
  {
   "cell_type": "code",
   "execution_count": 93,
   "id": "e397e9d8-ae4b-4157-89c8-5058e7a52bd7",
   "metadata": {},
   "outputs": [],
   "source": [
    "a = 100"
   ]
  },
  {
   "cell_type": "code",
   "execution_count": 94,
   "id": "98095305-feb0-4371-8bc3-5de31e11dcf4",
   "metadata": {},
   "outputs": [
    {
     "data": {
      "text/plain": [
       "105"
      ]
     },
     "execution_count": 94,
     "metadata": {},
     "output_type": "execute_result"
    }
   ],
   "source": [
    "a+5"
   ]
  },
  {
   "cell_type": "code",
   "execution_count": 95,
   "id": "e956e223-85a1-4396-ae1b-a6dba0bb10e7",
   "metadata": {},
   "outputs": [
    {
     "data": {
      "text/plain": [
       "105"
      ]
     },
     "execution_count": 95,
     "metadata": {},
     "output_type": "execute_result"
    }
   ],
   "source": [
    "a.__add__(5)"
   ]
  },
  {
   "cell_type": "code",
   "execution_count": 102,
   "id": "180b7598-e622-43ca-b069-903bb700a521",
   "metadata": {},
   "outputs": [],
   "source": [
    "class pwskills5 :\n",
    "    \n",
    "    def __new__(cls):\n",
    "        print(\"This Is My New\")\n",
    "    \n",
    "    def __init__(self):\n",
    "        print(\"This Is My INIT\")\n",
    "        \n",
    "        self.mobile_number = 7383838383"
   ]
  },
  {
   "cell_type": "code",
   "execution_count": 103,
   "id": "ce0fdf9c-e1c6-4836-bea8-f781c8feec41",
   "metadata": {},
   "outputs": [
    {
     "name": "stdout",
     "output_type": "stream",
     "text": [
      "This Is My New\n"
     ]
    }
   ],
   "source": [
    "pw = pwskills5()"
   ]
  },
  {
   "cell_type": "code",
   "execution_count": 98,
   "id": "2ccc3295-0ebf-4ec3-9b8d-889a5615e663",
   "metadata": {},
   "outputs": [
    {
     "data": {
      "text/plain": [
       "7383838383"
      ]
     },
     "execution_count": 98,
     "metadata": {},
     "output_type": "execute_result"
    }
   ],
   "source": [
    "pw.mobile_number"
   ]
  },
  {
   "cell_type": "code",
   "execution_count": 121,
   "id": "671fe5b0-5d3b-45b3-a177-4e89aa786882",
   "metadata": {},
   "outputs": [],
   "source": [
    "class pwskills6 :\n",
    "    \n",
    "    def __init__(self):\n",
    "        \n",
    "        self.mobile_number = 7383838383\n",
    "        \n",
    "    def __str__(self) :\n",
    "        return \"This Is My Magic Call Of str\""
   ]
  },
  {
   "cell_type": "code",
   "execution_count": 122,
   "id": "0d29e2de-6b1f-4bd7-8de7-174a6d7ab836",
   "metadata": {},
   "outputs": [],
   "source": [
    "pw1 = pwskills6()"
   ]
  },
  {
   "cell_type": "code",
   "execution_count": 123,
   "id": "ace4de92-3eb4-4276-af2f-04121bc3df06",
   "metadata": {},
   "outputs": [
    {
     "data": {
      "text/plain": [
       "<__main__.pwskills6 at 0x7f941d58a0e0>"
      ]
     },
     "execution_count": 123,
     "metadata": {},
     "output_type": "execute_result"
    }
   ],
   "source": [
    "pw1"
   ]
  },
  {
   "cell_type": "code",
   "execution_count": 124,
   "id": "b2caf34d-05d9-4a6d-9292-19dabc247102",
   "metadata": {},
   "outputs": [
    {
     "name": "stdout",
     "output_type": "stream",
     "text": [
      "This Is My Magic Call Of str\n"
     ]
    }
   ],
   "source": [
    "print(pw1)"
   ]
  },
  {
   "cell_type": "markdown",
   "id": "b9397797-8e12-4019-b57d-160c49efda13",
   "metadata": {},
   "source": [
    "#### <u>PROPERTY DECORATORS<u>\n",
    "    \n",
    "##### Property decorators are used to define properties. A property is defined by using the '@property' decorator before the getter method, and optionally using the '@propertyname.setter' and '@propertyname.deleter' decorators before the setter and deleter methods, respectively.\n",
    "\n",
    "#### <u>GETTERS<u>\n",
    "    \n",
    "##### A getter is a method that is used to get the value of an attribute of an object. Getters are used to encapsulate attributes and control their access, so that other parts of the program can't access or modify them directly.\n",
    "\n",
    "#### <u>SETTERS<u>\n",
    "    \n",
    "##### A setter is a method that is used to set the value of an attribute of an object. Setters are used to encapsulate attributes and control their modification, so that other parts of the program can't modify them directly.\n",
    "\n",
    "#### <u>DELETERS<u>\n",
    "    \n",
    "##### A deleter is a method that is used to delete or remove an attribute of an object. Deleters are typically used to control the deletion of attributes and ensure that any necessary clean-up actions are taken before the attribute is removed."
   ]
  },
  {
   "cell_type": "code",
   "execution_count": 157,
   "id": "e6c67ca6-c605-4cf6-85d6-06525ea1010e",
   "metadata": {},
   "outputs": [],
   "source": [
    "class pwskills7 :\n",
    "    \n",
    "    def __init__(self , course_price, course_name):\n",
    "        \n",
    "        self.__course_price = course_price\n",
    "        self.course_name = course_name\n",
    "        \n",
    "    @property\n",
    "    def course_price_access(self):\n",
    "        return self.__course_price\n",
    "    \n",
    "    @course_price_access.setter\n",
    "    def course_price_set(self , price ):\n",
    "        if price <= 3500:\n",
    "            pass\n",
    "        else:\n",
    "            self.__course_price = price\n",
    "            \n",
    "    @course_price_access.deleter\n",
    "    def delete_course_price(self):\n",
    "        del self.__course_price"
   ]
  },
  {
   "cell_type": "code",
   "execution_count": 158,
   "id": "7b0c4112-fee2-4da5-9368-e3634a97cde8",
   "metadata": {},
   "outputs": [],
   "source": [
    "pw = pwskills7(3500, \"Data Science Masters\")"
   ]
  },
  {
   "cell_type": "code",
   "execution_count": 138,
   "id": "90e570ed-0d96-41c4-a6f0-2bc63a60bba8",
   "metadata": {},
   "outputs": [
    {
     "ename": "AttributeError",
     "evalue": "'pwskills7' object has no attribute 'course_price'",
     "output_type": "error",
     "traceback": [
      "\u001b[0;31m---------------------------------------------------------------------------\u001b[0m",
      "\u001b[0;31mAttributeError\u001b[0m                            Traceback (most recent call last)",
      "Cell \u001b[0;32mIn[138], line 1\u001b[0m\n\u001b[0;32m----> 1\u001b[0m \u001b[43mpw\u001b[49m\u001b[38;5;241;43m.\u001b[39;49m\u001b[43mcourse_price\u001b[49m\n",
      "\u001b[0;31mAttributeError\u001b[0m: 'pwskills7' object has no attribute 'course_price'"
     ]
    }
   ],
   "source": [
    "pw.course_price"
   ]
  },
  {
   "cell_type": "code",
   "execution_count": 140,
   "id": "7d1e494a-d23e-4c43-84a5-c0f2f03e36e0",
   "metadata": {},
   "outputs": [
    {
     "data": {
      "text/plain": [
       "3500"
      ]
     },
     "execution_count": 140,
     "metadata": {},
     "output_type": "execute_result"
    }
   ],
   "source": [
    "pw._pwskills7__course_price"
   ]
  },
  {
   "cell_type": "code",
   "execution_count": 141,
   "id": "4227f3e2-a24c-40c8-8584-dc07dec18694",
   "metadata": {},
   "outputs": [
    {
     "data": {
      "text/plain": [
       "'Data Science Masters'"
      ]
     },
     "execution_count": 141,
     "metadata": {},
     "output_type": "execute_result"
    }
   ],
   "source": [
    "pw.course_name"
   ]
  },
  {
   "cell_type": "code",
   "execution_count": 147,
   "id": "ff1b787e-d7f0-4fa1-8869-b4abb80e806f",
   "metadata": {},
   "outputs": [
    {
     "data": {
      "text/plain": [
       "3500"
      ]
     },
     "execution_count": 147,
     "metadata": {},
     "output_type": "execute_result"
    }
   ],
   "source": [
    "pw.course_price_access"
   ]
  },
  {
   "cell_type": "code",
   "execution_count": 148,
   "id": "c2f2a08b-4ae1-4fa5-9171-c9da8347a7db",
   "metadata": {},
   "outputs": [],
   "source": [
    "pw.course_price_set = 4500"
   ]
  },
  {
   "cell_type": "code",
   "execution_count": 149,
   "id": "d20e14a0-a2c7-43a1-8642-bd0a8679a76d",
   "metadata": {},
   "outputs": [
    {
     "data": {
      "text/plain": [
       "4500"
      ]
     },
     "execution_count": 149,
     "metadata": {},
     "output_type": "execute_result"
    }
   ],
   "source": [
    "pw.course_price_access"
   ]
  },
  {
   "cell_type": "code",
   "execution_count": 155,
   "id": "ffd4060c-6a22-4320-b324-219cce229599",
   "metadata": {},
   "outputs": [],
   "source": [
    "pw.course_price_set = 3000"
   ]
  },
  {
   "cell_type": "code",
   "execution_count": 156,
   "id": "cfa996a8-970a-461f-877f-d4918242fcda",
   "metadata": {},
   "outputs": [
    {
     "data": {
      "text/plain": [
       "3500"
      ]
     },
     "execution_count": 156,
     "metadata": {},
     "output_type": "execute_result"
    }
   ],
   "source": [
    "pw.course_price_access"
   ]
  },
  {
   "cell_type": "code",
   "execution_count": 159,
   "id": "80116e63-fafc-4ead-a2f4-3b539e116e1d",
   "metadata": {},
   "outputs": [
    {
     "data": {
      "text/plain": [
       "3500"
      ]
     },
     "execution_count": 159,
     "metadata": {},
     "output_type": "execute_result"
    }
   ],
   "source": [
    "pw.course_price_access"
   ]
  },
  {
   "cell_type": "code",
   "execution_count": 160,
   "id": "d1429a30-6268-4911-8453-dfbd29dd88dc",
   "metadata": {},
   "outputs": [],
   "source": [
    "del pw.delete_course_price"
   ]
  },
  {
   "cell_type": "code",
   "execution_count": 161,
   "id": "29a8e888-1664-4d68-9aaa-dd741f2e8e22",
   "metadata": {},
   "outputs": [
    {
     "ename": "AttributeError",
     "evalue": "'pwskills7' object has no attribute '_pwskills7__course_price'",
     "output_type": "error",
     "traceback": [
      "\u001b[0;31m---------------------------------------------------------------------------\u001b[0m",
      "\u001b[0;31mAttributeError\u001b[0m                            Traceback (most recent call last)",
      "Cell \u001b[0;32mIn[161], line 1\u001b[0m\n\u001b[0;32m----> 1\u001b[0m \u001b[43mpw\u001b[49m\u001b[38;5;241;43m.\u001b[39;49m\u001b[43mcourse_price_access\u001b[49m\n",
      "Cell \u001b[0;32mIn[157], line 10\u001b[0m, in \u001b[0;36mpwskills7.course_price_access\u001b[0;34m(self)\u001b[0m\n\u001b[1;32m      8\u001b[0m \u001b[38;5;129m@property\u001b[39m\n\u001b[1;32m      9\u001b[0m \u001b[38;5;28;01mdef\u001b[39;00m \u001b[38;5;21mcourse_price_access\u001b[39m(\u001b[38;5;28mself\u001b[39m):\n\u001b[0;32m---> 10\u001b[0m     \u001b[38;5;28;01mreturn\u001b[39;00m \u001b[38;5;28;43mself\u001b[39;49m\u001b[38;5;241;43m.\u001b[39;49m\u001b[43m__course_price\u001b[49m\n",
      "\u001b[0;31mAttributeError\u001b[0m: 'pwskills7' object has no attribute '_pwskills7__course_price'"
     ]
    }
   ],
   "source": [
    "pw.course_price_access"
   ]
  }
 ],
 "metadata": {
  "kernelspec": {
   "display_name": "Python 3 (ipykernel)",
   "language": "python",
   "name": "python3"
  },
  "language_info": {
   "codemirror_mode": {
    "name": "ipython",
    "version": 3
   },
   "file_extension": ".py",
   "mimetype": "text/x-python",
   "name": "python",
   "nbconvert_exporter": "python",
   "pygments_lexer": "ipython3",
   "version": "3.10.8"
  }
 },
 "nbformat": 4,
 "nbformat_minor": 5
}
